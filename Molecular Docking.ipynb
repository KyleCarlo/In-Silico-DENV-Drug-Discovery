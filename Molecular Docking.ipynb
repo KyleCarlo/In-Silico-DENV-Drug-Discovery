{
 "cells": [
  {
   "cell_type": "markdown",
   "id": "f5a70367-6fb5-4c2f-92b8-36d5d3d60520",
   "metadata": {},
   "source": [
    "# Drug Discovery for Dengue Virus NS-3 Helicase"
   ]
  },
  {
   "cell_type": "markdown",
   "id": "d035eab1-9523-40c7-a380-383ed0f419dd",
   "metadata": {},
   "source": [
    "## Primary Authors:\n",
    "- Clarissa Harmoko\n",
    "- Kai Ze Tam\n",
    "- Kyle Carlo Lasala\n",
    "- Muhammad Abdul Aziz Ghazali"
   ]
  },
  {
   "cell_type": "markdown",
   "id": "554ecf7a-09b8-4327-8d23-3e8a802a486c",
   "metadata": {},
   "source": [
    "## Prepare Libraries"
   ]
  },
  {
   "cell_type": "code",
   "execution_count": 1,
   "id": "ffb10c18-d159-476d-a90a-1c8b76733083",
   "metadata": {
    "scrolled": true
   },
   "outputs": [
    {
     "name": "stdout",
     "output_type": "stream",
     "text": [
      "Collecting biopython\n",
      "  Using cached biopython-1.85-cp310-cp310-manylinux_2_17_x86_64.manylinux2014_x86_64.whl (3.2 MB)\n",
      "Collecting numpy\n",
      "  Downloading numpy-2.2.6-cp310-cp310-manylinux_2_17_x86_64.manylinux2014_x86_64.whl (16.8 MB)\n",
      "\u001b[2K     \u001b[90m━━━━━━━━━━━━━━━━━━━━━━━━━━━━━━━━━━━━━━━━\u001b[0m \u001b[32m16.8/16.8 MB\u001b[0m \u001b[31m24.4 MB/s\u001b[0m eta \u001b[36m0:00:00\u001b[0m00:01\u001b[0m00:01\u001b[0m\n",
      "\u001b[?25hInstalling collected packages: numpy, biopython\n",
      "Successfully installed biopython-1.85 numpy-2.2.6\n",
      "Collecting nglview==3.0.8\n",
      "  Using cached nglview-3.0.8-py3-none-any.whl\n",
      "Requirement already satisfied: ipywidgets>=7 in ./my_env/lib/python3.10/site-packages (from nglview==3.0.8) (8.1.7)\n",
      "Requirement already satisfied: numpy in ./my_env/lib/python3.10/site-packages (from nglview==3.0.8) (2.2.6)\n",
      "Requirement already satisfied: jupyterlab-widgets in ./my_env/lib/python3.10/site-packages (from nglview==3.0.8) (3.0.15)\n",
      "Requirement already satisfied: ipython>=6.1.0 in ./my_env/lib/python3.10/site-packages (from ipywidgets>=7->nglview==3.0.8) (8.37.0)\n",
      "Requirement already satisfied: comm>=0.1.3 in ./my_env/lib/python3.10/site-packages (from ipywidgets>=7->nglview==3.0.8) (0.2.3)\n",
      "Requirement already satisfied: traitlets>=4.3.1 in ./my_env/lib/python3.10/site-packages (from ipywidgets>=7->nglview==3.0.8) (5.14.3)\n",
      "Requirement already satisfied: widgetsnbextension~=4.0.14 in ./my_env/lib/python3.10/site-packages (from ipywidgets>=7->nglview==3.0.8) (4.0.14)\n",
      "Requirement already satisfied: exceptiongroup in ./my_env/lib/python3.10/site-packages (from ipython>=6.1.0->ipywidgets>=7->nglview==3.0.8) (1.3.0)\n",
      "Requirement already satisfied: jedi>=0.16 in ./my_env/lib/python3.10/site-packages (from ipython>=6.1.0->ipywidgets>=7->nglview==3.0.8) (0.19.2)\n",
      "Requirement already satisfied: matplotlib-inline in ./my_env/lib/python3.10/site-packages (from ipython>=6.1.0->ipywidgets>=7->nglview==3.0.8) (0.1.7)\n",
      "Requirement already satisfied: decorator in ./my_env/lib/python3.10/site-packages (from ipython>=6.1.0->ipywidgets>=7->nglview==3.0.8) (5.2.1)\n",
      "Requirement already satisfied: pygments>=2.4.0 in ./my_env/lib/python3.10/site-packages (from ipython>=6.1.0->ipywidgets>=7->nglview==3.0.8) (2.19.2)\n",
      "Requirement already satisfied: typing_extensions>=4.6 in ./my_env/lib/python3.10/site-packages (from ipython>=6.1.0->ipywidgets>=7->nglview==3.0.8) (4.14.1)\n",
      "Requirement already satisfied: stack_data in ./my_env/lib/python3.10/site-packages (from ipython>=6.1.0->ipywidgets>=7->nglview==3.0.8) (0.6.3)\n",
      "Requirement already satisfied: prompt_toolkit<3.1.0,>=3.0.41 in ./my_env/lib/python3.10/site-packages (from ipython>=6.1.0->ipywidgets>=7->nglview==3.0.8) (3.0.51)\n",
      "Requirement already satisfied: pexpect>4.3 in ./my_env/lib/python3.10/site-packages (from ipython>=6.1.0->ipywidgets>=7->nglview==3.0.8) (4.9.0)\n",
      "Requirement already satisfied: parso<0.9.0,>=0.8.4 in ./my_env/lib/python3.10/site-packages (from jedi>=0.16->ipython>=6.1.0->ipywidgets>=7->nglview==3.0.8) (0.8.4)\n",
      "Requirement already satisfied: ptyprocess>=0.5 in ./my_env/lib/python3.10/site-packages (from pexpect>4.3->ipython>=6.1.0->ipywidgets>=7->nglview==3.0.8) (0.7.0)\n",
      "Requirement already satisfied: wcwidth in ./my_env/lib/python3.10/site-packages (from prompt_toolkit<3.1.0,>=3.0.41->ipython>=6.1.0->ipywidgets>=7->nglview==3.0.8) (0.2.13)\n",
      "Requirement already satisfied: pure-eval in ./my_env/lib/python3.10/site-packages (from stack_data->ipython>=6.1.0->ipywidgets>=7->nglview==3.0.8) (0.2.3)\n",
      "Requirement already satisfied: asttokens>=2.1.0 in ./my_env/lib/python3.10/site-packages (from stack_data->ipython>=6.1.0->ipywidgets>=7->nglview==3.0.8) (3.0.0)\n",
      "Requirement already satisfied: executing>=1.2.0 in ./my_env/lib/python3.10/site-packages (from stack_data->ipython>=6.1.0->ipywidgets>=7->nglview==3.0.8) (2.2.0)\n",
      "Installing collected packages: nglview\n",
      "Successfully installed nglview-3.0.8\n",
      "Collecting ipywidgets<8,>=7\n",
      "  Using cached ipywidgets-7.8.5-py2.py3-none-any.whl (124 kB)\n",
      "Collecting jupyterlab-widgets<3,>=1.0.0\n",
      "  Using cached jupyterlab_widgets-1.1.11-py3-none-any.whl (246 kB)\n",
      "Requirement already satisfied: traitlets>=4.3.1 in ./my_env/lib/python3.10/site-packages (from ipywidgets<8,>=7) (5.14.3)\n",
      "Collecting widgetsnbextension~=3.6.10\n",
      "  Using cached widgetsnbextension-3.6.10-py2.py3-none-any.whl (1.6 MB)\n",
      "Requirement already satisfied: comm>=0.1.3 in ./my_env/lib/python3.10/site-packages (from ipywidgets<8,>=7) (0.2.3)\n",
      "Requirement already satisfied: ipython>=4.0.0 in ./my_env/lib/python3.10/site-packages (from ipywidgets<8,>=7) (8.37.0)\n",
      "Collecting ipython-genutils~=0.2.0\n",
      "  Downloading ipython_genutils-0.2.0-py2.py3-none-any.whl (26 kB)\n",
      "Requirement already satisfied: prompt_toolkit<3.1.0,>=3.0.41 in ./my_env/lib/python3.10/site-packages (from ipython>=4.0.0->ipywidgets<8,>=7) (3.0.51)\n",
      "Requirement already satisfied: decorator in ./my_env/lib/python3.10/site-packages (from ipython>=4.0.0->ipywidgets<8,>=7) (5.2.1)\n",
      "Requirement already satisfied: stack_data in ./my_env/lib/python3.10/site-packages (from ipython>=4.0.0->ipywidgets<8,>=7) (0.6.3)\n",
      "Requirement already satisfied: matplotlib-inline in ./my_env/lib/python3.10/site-packages (from ipython>=4.0.0->ipywidgets<8,>=7) (0.1.7)\n",
      "Requirement already satisfied: typing_extensions>=4.6 in ./my_env/lib/python3.10/site-packages (from ipython>=4.0.0->ipywidgets<8,>=7) (4.14.1)\n",
      "Requirement already satisfied: exceptiongroup in ./my_env/lib/python3.10/site-packages (from ipython>=4.0.0->ipywidgets<8,>=7) (1.3.0)\n",
      "Requirement already satisfied: jedi>=0.16 in ./my_env/lib/python3.10/site-packages (from ipython>=4.0.0->ipywidgets<8,>=7) (0.19.2)\n",
      "Requirement already satisfied: pexpect>4.3 in ./my_env/lib/python3.10/site-packages (from ipython>=4.0.0->ipywidgets<8,>=7) (4.9.0)\n",
      "Requirement already satisfied: pygments>=2.4.0 in ./my_env/lib/python3.10/site-packages (from ipython>=4.0.0->ipywidgets<8,>=7) (2.19.2)\n",
      "Requirement already satisfied: notebook>=4.4.1 in ./my_env/lib/python3.10/site-packages (from widgetsnbextension~=3.6.10->ipywidgets<8,>=7) (7.4.4)\n",
      "Requirement already satisfied: parso<0.9.0,>=0.8.4 in ./my_env/lib/python3.10/site-packages (from jedi>=0.16->ipython>=4.0.0->ipywidgets<8,>=7) (0.8.4)\n",
      "Requirement already satisfied: jupyter-server<3,>=2.4.0 in ./my_env/lib/python3.10/site-packages (from notebook>=4.4.1->widgetsnbextension~=3.6.10->ipywidgets<8,>=7) (2.16.0)\n",
      "Requirement already satisfied: notebook-shim<0.3,>=0.2 in ./my_env/lib/python3.10/site-packages (from notebook>=4.4.1->widgetsnbextension~=3.6.10->ipywidgets<8,>=7) (0.2.4)\n",
      "Requirement already satisfied: jupyterlab-server<3,>=2.27.1 in ./my_env/lib/python3.10/site-packages (from notebook>=4.4.1->widgetsnbextension~=3.6.10->ipywidgets<8,>=7) (2.27.3)\n",
      "Requirement already satisfied: tornado>=6.2.0 in ./my_env/lib/python3.10/site-packages (from notebook>=4.4.1->widgetsnbextension~=3.6.10->ipywidgets<8,>=7) (6.5.1)\n",
      "Requirement already satisfied: jupyterlab<4.5,>=4.4.4 in ./my_env/lib/python3.10/site-packages (from notebook>=4.4.1->widgetsnbextension~=3.6.10->ipywidgets<8,>=7) (4.4.5)\n",
      "Requirement already satisfied: ptyprocess>=0.5 in ./my_env/lib/python3.10/site-packages (from pexpect>4.3->ipython>=4.0.0->ipywidgets<8,>=7) (0.7.0)\n",
      "Requirement already satisfied: wcwidth in ./my_env/lib/python3.10/site-packages (from prompt_toolkit<3.1.0,>=3.0.41->ipython>=4.0.0->ipywidgets<8,>=7) (0.2.13)\n",
      "Requirement already satisfied: executing>=1.2.0 in ./my_env/lib/python3.10/site-packages (from stack_data->ipython>=4.0.0->ipywidgets<8,>=7) (2.2.0)\n",
      "Requirement already satisfied: pure-eval in ./my_env/lib/python3.10/site-packages (from stack_data->ipython>=4.0.0->ipywidgets<8,>=7) (0.2.3)\n",
      "Requirement already satisfied: asttokens>=2.1.0 in ./my_env/lib/python3.10/site-packages (from stack_data->ipython>=4.0.0->ipywidgets<8,>=7) (3.0.0)\n",
      "Requirement already satisfied: jinja2>=3.0.3 in ./my_env/lib/python3.10/site-packages (from jupyter-server<3,>=2.4.0->notebook>=4.4.1->widgetsnbextension~=3.6.10->ipywidgets<8,>=7) (3.1.6)\n",
      "Requirement already satisfied: jupyter-events>=0.11.0 in ./my_env/lib/python3.10/site-packages (from jupyter-server<3,>=2.4.0->notebook>=4.4.1->widgetsnbextension~=3.6.10->ipywidgets<8,>=7) (0.12.0)\n",
      "Requirement already satisfied: argon2-cffi>=21.1 in ./my_env/lib/python3.10/site-packages (from jupyter-server<3,>=2.4.0->notebook>=4.4.1->widgetsnbextension~=3.6.10->ipywidgets<8,>=7) (25.1.0)\n",
      "Requirement already satisfied: send2trash>=1.8.2 in ./my_env/lib/python3.10/site-packages (from jupyter-server<3,>=2.4.0->notebook>=4.4.1->widgetsnbextension~=3.6.10->ipywidgets<8,>=7) (1.8.3)\n",
      "Requirement already satisfied: nbconvert>=6.4.4 in ./my_env/lib/python3.10/site-packages (from jupyter-server<3,>=2.4.0->notebook>=4.4.1->widgetsnbextension~=3.6.10->ipywidgets<8,>=7) (7.16.6)\n",
      "Requirement already satisfied: anyio>=3.1.0 in ./my_env/lib/python3.10/site-packages (from jupyter-server<3,>=2.4.0->notebook>=4.4.1->widgetsnbextension~=3.6.10->ipywidgets<8,>=7) (4.9.0)\n",
      "Requirement already satisfied: pyzmq>=24 in ./my_env/lib/python3.10/site-packages (from jupyter-server<3,>=2.4.0->notebook>=4.4.1->widgetsnbextension~=3.6.10->ipywidgets<8,>=7) (27.0.0)\n",
      "Requirement already satisfied: packaging>=22.0 in ./my_env/lib/python3.10/site-packages (from jupyter-server<3,>=2.4.0->notebook>=4.4.1->widgetsnbextension~=3.6.10->ipywidgets<8,>=7) (25.0)\n",
      "Requirement already satisfied: websocket-client>=1.7 in ./my_env/lib/python3.10/site-packages (from jupyter-server<3,>=2.4.0->notebook>=4.4.1->widgetsnbextension~=3.6.10->ipywidgets<8,>=7) (1.8.0)\n",
      "Requirement already satisfied: jupyter-client>=7.4.4 in ./my_env/lib/python3.10/site-packages (from jupyter-server<3,>=2.4.0->notebook>=4.4.1->widgetsnbextension~=3.6.10->ipywidgets<8,>=7) (8.6.3)\n",
      "Requirement already satisfied: jupyter-core!=5.0.*,>=4.12 in ./my_env/lib/python3.10/site-packages (from jupyter-server<3,>=2.4.0->notebook>=4.4.1->widgetsnbextension~=3.6.10->ipywidgets<8,>=7) (5.8.1)\n",
      "Requirement already satisfied: terminado>=0.8.3 in ./my_env/lib/python3.10/site-packages (from jupyter-server<3,>=2.4.0->notebook>=4.4.1->widgetsnbextension~=3.6.10->ipywidgets<8,>=7) (0.18.1)\n",
      "Requirement already satisfied: prometheus-client>=0.9 in ./my_env/lib/python3.10/site-packages (from jupyter-server<3,>=2.4.0->notebook>=4.4.1->widgetsnbextension~=3.6.10->ipywidgets<8,>=7) (0.22.1)\n",
      "Requirement already satisfied: nbformat>=5.3.0 in ./my_env/lib/python3.10/site-packages (from jupyter-server<3,>=2.4.0->notebook>=4.4.1->widgetsnbextension~=3.6.10->ipywidgets<8,>=7) (5.10.4)\n",
      "Requirement already satisfied: jupyter-server-terminals>=0.4.4 in ./my_env/lib/python3.10/site-packages (from jupyter-server<3,>=2.4.0->notebook>=4.4.1->widgetsnbextension~=3.6.10->ipywidgets<8,>=7) (0.5.3)\n",
      "Requirement already satisfied: overrides>=5.0 in ./my_env/lib/python3.10/site-packages (from jupyter-server<3,>=2.4.0->notebook>=4.4.1->widgetsnbextension~=3.6.10->ipywidgets<8,>=7) (7.7.0)\n",
      "Requirement already satisfied: setuptools>=41.1.0 in ./my_env/lib/python3.10/site-packages (from jupyterlab<4.5,>=4.4.4->notebook>=4.4.1->widgetsnbextension~=3.6.10->ipywidgets<8,>=7) (59.6.0)\n",
      "Requirement already satisfied: ipykernel>=6.5.0 in ./my_env/lib/python3.10/site-packages (from jupyterlab<4.5,>=4.4.4->notebook>=4.4.1->widgetsnbextension~=3.6.10->ipywidgets<8,>=7) (6.30.0)\n",
      "Requirement already satisfied: jupyter-lsp>=2.0.0 in ./my_env/lib/python3.10/site-packages (from jupyterlab<4.5,>=4.4.4->notebook>=4.4.1->widgetsnbextension~=3.6.10->ipywidgets<8,>=7) (2.2.6)\n",
      "Requirement already satisfied: httpx>=0.25.0 in ./my_env/lib/python3.10/site-packages (from jupyterlab<4.5,>=4.4.4->notebook>=4.4.1->widgetsnbextension~=3.6.10->ipywidgets<8,>=7) (0.28.1)\n",
      "Requirement already satisfied: tomli>=1.2.2 in ./my_env/lib/python3.10/site-packages (from jupyterlab<4.5,>=4.4.4->notebook>=4.4.1->widgetsnbextension~=3.6.10->ipywidgets<8,>=7) (2.2.1)\n",
      "Requirement already satisfied: async-lru>=1.0.0 in ./my_env/lib/python3.10/site-packages (from jupyterlab<4.5,>=4.4.4->notebook>=4.4.1->widgetsnbextension~=3.6.10->ipywidgets<8,>=7) (2.0.5)\n",
      "Requirement already satisfied: json5>=0.9.0 in ./my_env/lib/python3.10/site-packages (from jupyterlab-server<3,>=2.27.1->notebook>=4.4.1->widgetsnbextension~=3.6.10->ipywidgets<8,>=7) (0.12.0)\n",
      "Requirement already satisfied: requests>=2.31 in ./my_env/lib/python3.10/site-packages (from jupyterlab-server<3,>=2.27.1->notebook>=4.4.1->widgetsnbextension~=3.6.10->ipywidgets<8,>=7) (2.32.4)\n",
      "Requirement already satisfied: jsonschema>=4.18.0 in ./my_env/lib/python3.10/site-packages (from jupyterlab-server<3,>=2.27.1->notebook>=4.4.1->widgetsnbextension~=3.6.10->ipywidgets<8,>=7) (4.25.0)\n",
      "Requirement already satisfied: babel>=2.10 in ./my_env/lib/python3.10/site-packages (from jupyterlab-server<3,>=2.27.1->notebook>=4.4.1->widgetsnbextension~=3.6.10->ipywidgets<8,>=7) (2.17.0)\n",
      "Requirement already satisfied: sniffio>=1.1 in ./my_env/lib/python3.10/site-packages (from anyio>=3.1.0->jupyter-server<3,>=2.4.0->notebook>=4.4.1->widgetsnbextension~=3.6.10->ipywidgets<8,>=7) (1.3.1)\n",
      "Requirement already satisfied: idna>=2.8 in ./my_env/lib/python3.10/site-packages (from anyio>=3.1.0->jupyter-server<3,>=2.4.0->notebook>=4.4.1->widgetsnbextension~=3.6.10->ipywidgets<8,>=7) (3.10)\n",
      "Requirement already satisfied: argon2-cffi-bindings in ./my_env/lib/python3.10/site-packages (from argon2-cffi>=21.1->jupyter-server<3,>=2.4.0->notebook>=4.4.1->widgetsnbextension~=3.6.10->ipywidgets<8,>=7) (21.2.0)\n",
      "Requirement already satisfied: httpcore==1.* in ./my_env/lib/python3.10/site-packages (from httpx>=0.25.0->jupyterlab<4.5,>=4.4.4->notebook>=4.4.1->widgetsnbextension~=3.6.10->ipywidgets<8,>=7) (1.0.9)\n",
      "Requirement already satisfied: certifi in ./my_env/lib/python3.10/site-packages (from httpx>=0.25.0->jupyterlab<4.5,>=4.4.4->notebook>=4.4.1->widgetsnbextension~=3.6.10->ipywidgets<8,>=7) (2025.7.14)\n",
      "Requirement already satisfied: h11>=0.16 in ./my_env/lib/python3.10/site-packages (from httpcore==1.*->httpx>=0.25.0->jupyterlab<4.5,>=4.4.4->notebook>=4.4.1->widgetsnbextension~=3.6.10->ipywidgets<8,>=7) (0.16.0)\n",
      "Requirement already satisfied: debugpy>=1.6.5 in ./my_env/lib/python3.10/site-packages (from ipykernel>=6.5.0->jupyterlab<4.5,>=4.4.4->notebook>=4.4.1->widgetsnbextension~=3.6.10->ipywidgets<8,>=7) (1.8.15)\n",
      "Requirement already satisfied: psutil>=5.7 in ./my_env/lib/python3.10/site-packages (from ipykernel>=6.5.0->jupyterlab<4.5,>=4.4.4->notebook>=4.4.1->widgetsnbextension~=3.6.10->ipywidgets<8,>=7) (7.0.0)\n",
      "Requirement already satisfied: nest-asyncio>=1.4 in ./my_env/lib/python3.10/site-packages (from ipykernel>=6.5.0->jupyterlab<4.5,>=4.4.4->notebook>=4.4.1->widgetsnbextension~=3.6.10->ipywidgets<8,>=7) (1.6.0)\n",
      "Requirement already satisfied: MarkupSafe>=2.0 in ./my_env/lib/python3.10/site-packages (from jinja2>=3.0.3->jupyter-server<3,>=2.4.0->notebook>=4.4.1->widgetsnbextension~=3.6.10->ipywidgets<8,>=7) (3.0.2)\n",
      "Requirement already satisfied: attrs>=22.2.0 in ./my_env/lib/python3.10/site-packages (from jsonschema>=4.18.0->jupyterlab-server<3,>=2.27.1->notebook>=4.4.1->widgetsnbextension~=3.6.10->ipywidgets<8,>=7) (25.3.0)\n",
      "Requirement already satisfied: jsonschema-specifications>=2023.03.6 in ./my_env/lib/python3.10/site-packages (from jsonschema>=4.18.0->jupyterlab-server<3,>=2.27.1->notebook>=4.4.1->widgetsnbextension~=3.6.10->ipywidgets<8,>=7) (2025.4.1)\n",
      "Requirement already satisfied: referencing>=0.28.4 in ./my_env/lib/python3.10/site-packages (from jsonschema>=4.18.0->jupyterlab-server<3,>=2.27.1->notebook>=4.4.1->widgetsnbextension~=3.6.10->ipywidgets<8,>=7) (0.36.2)\n",
      "Requirement already satisfied: rpds-py>=0.7.1 in ./my_env/lib/python3.10/site-packages (from jsonschema>=4.18.0->jupyterlab-server<3,>=2.27.1->notebook>=4.4.1->widgetsnbextension~=3.6.10->ipywidgets<8,>=7) (0.26.0)\n",
      "Requirement already satisfied: python-dateutil>=2.8.2 in ./my_env/lib/python3.10/site-packages (from jupyter-client>=7.4.4->jupyter-server<3,>=2.4.0->notebook>=4.4.1->widgetsnbextension~=3.6.10->ipywidgets<8,>=7) (2.9.0.post0)\n",
      "Requirement already satisfied: platformdirs>=2.5 in ./my_env/lib/python3.10/site-packages (from jupyter-core!=5.0.*,>=4.12->jupyter-server<3,>=2.4.0->notebook>=4.4.1->widgetsnbextension~=3.6.10->ipywidgets<8,>=7) (4.3.8)\n",
      "Requirement already satisfied: rfc3986-validator>=0.1.1 in ./my_env/lib/python3.10/site-packages (from jupyter-events>=0.11.0->jupyter-server<3,>=2.4.0->notebook>=4.4.1->widgetsnbextension~=3.6.10->ipywidgets<8,>=7) (0.1.1)\n",
      "Requirement already satisfied: rfc3339-validator in ./my_env/lib/python3.10/site-packages (from jupyter-events>=0.11.0->jupyter-server<3,>=2.4.0->notebook>=4.4.1->widgetsnbextension~=3.6.10->ipywidgets<8,>=7) (0.1.4)\n",
      "Requirement already satisfied: python-json-logger>=2.0.4 in ./my_env/lib/python3.10/site-packages (from jupyter-events>=0.11.0->jupyter-server<3,>=2.4.0->notebook>=4.4.1->widgetsnbextension~=3.6.10->ipywidgets<8,>=7) (3.3.0)\n",
      "Requirement already satisfied: pyyaml>=5.3 in ./my_env/lib/python3.10/site-packages (from jupyter-events>=0.11.0->jupyter-server<3,>=2.4.0->notebook>=4.4.1->widgetsnbextension~=3.6.10->ipywidgets<8,>=7) (6.0.2)\n",
      "Requirement already satisfied: beautifulsoup4 in ./my_env/lib/python3.10/site-packages (from nbconvert>=6.4.4->jupyter-server<3,>=2.4.0->notebook>=4.4.1->widgetsnbextension~=3.6.10->ipywidgets<8,>=7) (4.13.4)\n",
      "Requirement already satisfied: bleach[css]!=5.0.0 in ./my_env/lib/python3.10/site-packages (from nbconvert>=6.4.4->jupyter-server<3,>=2.4.0->notebook>=4.4.1->widgetsnbextension~=3.6.10->ipywidgets<8,>=7) (6.2.0)\n",
      "Requirement already satisfied: mistune<4,>=2.0.3 in ./my_env/lib/python3.10/site-packages (from nbconvert>=6.4.4->jupyter-server<3,>=2.4.0->notebook>=4.4.1->widgetsnbextension~=3.6.10->ipywidgets<8,>=7) (3.1.3)\n",
      "Requirement already satisfied: jupyterlab-pygments in ./my_env/lib/python3.10/site-packages (from nbconvert>=6.4.4->jupyter-server<3,>=2.4.0->notebook>=4.4.1->widgetsnbextension~=3.6.10->ipywidgets<8,>=7) (0.3.0)\n",
      "Requirement already satisfied: defusedxml in ./my_env/lib/python3.10/site-packages (from nbconvert>=6.4.4->jupyter-server<3,>=2.4.0->notebook>=4.4.1->widgetsnbextension~=3.6.10->ipywidgets<8,>=7) (0.7.1)\n",
      "Requirement already satisfied: nbclient>=0.5.0 in ./my_env/lib/python3.10/site-packages (from nbconvert>=6.4.4->jupyter-server<3,>=2.4.0->notebook>=4.4.1->widgetsnbextension~=3.6.10->ipywidgets<8,>=7) (0.10.2)\n",
      "Requirement already satisfied: pandocfilters>=1.4.1 in ./my_env/lib/python3.10/site-packages (from nbconvert>=6.4.4->jupyter-server<3,>=2.4.0->notebook>=4.4.1->widgetsnbextension~=3.6.10->ipywidgets<8,>=7) (1.5.1)\n",
      "Requirement already satisfied: fastjsonschema>=2.15 in ./my_env/lib/python3.10/site-packages (from nbformat>=5.3.0->jupyter-server<3,>=2.4.0->notebook>=4.4.1->widgetsnbextension~=3.6.10->ipywidgets<8,>=7) (2.21.1)\n",
      "Requirement already satisfied: urllib3<3,>=1.21.1 in ./my_env/lib/python3.10/site-packages (from requests>=2.31->jupyterlab-server<3,>=2.27.1->notebook>=4.4.1->widgetsnbextension~=3.6.10->ipywidgets<8,>=7) (2.5.0)\n",
      "Requirement already satisfied: charset_normalizer<4,>=2 in ./my_env/lib/python3.10/site-packages (from requests>=2.31->jupyterlab-server<3,>=2.27.1->notebook>=4.4.1->widgetsnbextension~=3.6.10->ipywidgets<8,>=7) (3.4.2)\n",
      "Requirement already satisfied: webencodings in ./my_env/lib/python3.10/site-packages (from bleach[css]!=5.0.0->nbconvert>=6.4.4->jupyter-server<3,>=2.4.0->notebook>=4.4.1->widgetsnbextension~=3.6.10->ipywidgets<8,>=7) (0.5.1)\n",
      "Requirement already satisfied: tinycss2<1.5,>=1.1.0 in ./my_env/lib/python3.10/site-packages (from bleach[css]!=5.0.0->nbconvert>=6.4.4->jupyter-server<3,>=2.4.0->notebook>=4.4.1->widgetsnbextension~=3.6.10->ipywidgets<8,>=7) (1.4.0)\n",
      "Requirement already satisfied: rfc3987-syntax>=1.1.0 in ./my_env/lib/python3.10/site-packages (from jsonschema>=4.18.0->jupyterlab-server<3,>=2.27.1->notebook>=4.4.1->widgetsnbextension~=3.6.10->ipywidgets<8,>=7) (1.1.0)\n",
      "Requirement already satisfied: jsonpointer>1.13 in ./my_env/lib/python3.10/site-packages (from jsonschema>=4.18.0->jupyterlab-server<3,>=2.27.1->notebook>=4.4.1->widgetsnbextension~=3.6.10->ipywidgets<8,>=7) (3.0.0)\n",
      "Requirement already satisfied: isoduration in ./my_env/lib/python3.10/site-packages (from jsonschema>=4.18.0->jupyterlab-server<3,>=2.27.1->notebook>=4.4.1->widgetsnbextension~=3.6.10->ipywidgets<8,>=7) (20.11.0)\n",
      "Requirement already satisfied: webcolors>=24.6.0 in ./my_env/lib/python3.10/site-packages (from jsonschema>=4.18.0->jupyterlab-server<3,>=2.27.1->notebook>=4.4.1->widgetsnbextension~=3.6.10->ipywidgets<8,>=7) (24.11.1)\n",
      "Requirement already satisfied: uri-template in ./my_env/lib/python3.10/site-packages (from jsonschema>=4.18.0->jupyterlab-server<3,>=2.27.1->notebook>=4.4.1->widgetsnbextension~=3.6.10->ipywidgets<8,>=7) (1.3.0)\n",
      "Requirement already satisfied: fqdn in ./my_env/lib/python3.10/site-packages (from jsonschema>=4.18.0->jupyterlab-server<3,>=2.27.1->notebook>=4.4.1->widgetsnbextension~=3.6.10->ipywidgets<8,>=7) (1.5.1)\n",
      "Requirement already satisfied: six>=1.5 in ./my_env/lib/python3.10/site-packages (from python-dateutil>=2.8.2->jupyter-client>=7.4.4->jupyter-server<3,>=2.4.0->notebook>=4.4.1->widgetsnbextension~=3.6.10->ipywidgets<8,>=7) (1.17.0)\n",
      "Requirement already satisfied: cffi>=1.0.1 in ./my_env/lib/python3.10/site-packages (from argon2-cffi-bindings->argon2-cffi>=21.1->jupyter-server<3,>=2.4.0->notebook>=4.4.1->widgetsnbextension~=3.6.10->ipywidgets<8,>=7) (1.17.1)\n",
      "Requirement already satisfied: soupsieve>1.2 in ./my_env/lib/python3.10/site-packages (from beautifulsoup4->nbconvert>=6.4.4->jupyter-server<3,>=2.4.0->notebook>=4.4.1->widgetsnbextension~=3.6.10->ipywidgets<8,>=7) (2.7)\n",
      "Requirement already satisfied: pycparser in ./my_env/lib/python3.10/site-packages (from cffi>=1.0.1->argon2-cffi-bindings->argon2-cffi>=21.1->jupyter-server<3,>=2.4.0->notebook>=4.4.1->widgetsnbextension~=3.6.10->ipywidgets<8,>=7) (2.22)\n",
      "Requirement already satisfied: lark>=1.2.2 in ./my_env/lib/python3.10/site-packages (from rfc3987-syntax>=1.1.0->jsonschema>=4.18.0->jupyterlab-server<3,>=2.27.1->notebook>=4.4.1->widgetsnbextension~=3.6.10->ipywidgets<8,>=7) (1.2.2)\n",
      "Requirement already satisfied: arrow>=0.15.0 in ./my_env/lib/python3.10/site-packages (from isoduration->jsonschema>=4.18.0->jupyterlab-server<3,>=2.27.1->notebook>=4.4.1->widgetsnbextension~=3.6.10->ipywidgets<8,>=7) (1.3.0)\n",
      "Requirement already satisfied: types-python-dateutil>=2.8.10 in ./my_env/lib/python3.10/site-packages (from arrow>=0.15.0->isoduration->jsonschema>=4.18.0->jupyterlab-server<3,>=2.27.1->notebook>=4.4.1->widgetsnbextension~=3.6.10->ipywidgets<8,>=7) (2.9.0.20250708)\n",
      "Installing collected packages: ipython-genutils, jupyterlab-widgets, widgetsnbextension, ipywidgets\n",
      "  Attempting uninstall: jupyterlab-widgets\n",
      "    Found existing installation: jupyterlab_widgets 3.0.15\n",
      "    Uninstalling jupyterlab_widgets-3.0.15:\n",
      "      Successfully uninstalled jupyterlab_widgets-3.0.15\n",
      "  Attempting uninstall: widgetsnbextension\n",
      "    Found existing installation: widgetsnbextension 4.0.14\n",
      "    Uninstalling widgetsnbextension-4.0.14:\n",
      "      Successfully uninstalled widgetsnbextension-4.0.14\n",
      "  Attempting uninstall: ipywidgets\n",
      "    Found existing installation: ipywidgets 8.1.7\n",
      "    Uninstalling ipywidgets-8.1.7:\n",
      "      Successfully uninstalled ipywidgets-8.1.7\n",
      "Successfully installed ipython-genutils-0.2.0 ipywidgets-7.8.5 jupyterlab-widgets-1.1.11 widgetsnbextension-3.6.10\n",
      "Collecting rdkit\n",
      "  Using cached rdkit-2025.3.3-cp310-cp310-manylinux_2_28_x86_64.whl (34.9 MB)\n",
      "Requirement already satisfied: numpy in ./my_env/lib/python3.10/site-packages (from rdkit) (2.2.6)\n",
      "Collecting Pillow\n",
      "  Downloading pillow-11.3.0-cp310-cp310-manylinux_2_27_x86_64.manylinux_2_28_x86_64.whl (6.6 MB)\n",
      "\u001b[2K     \u001b[90m━━━━━━━━━━━━━━━━━━━━━━━━━━━━━━━━━━━━━━━━\u001b[0m \u001b[32m6.6/6.6 MB\u001b[0m \u001b[31m6.6 MB/s\u001b[0m eta \u001b[36m0:00:00\u001b[0m00:01\u001b[0m00:01\u001b[0m\n",
      "\u001b[?25hInstalling collected packages: Pillow, rdkit\n",
      "Successfully installed Pillow-11.3.0 rdkit-2025.3.3\n",
      "Collecting qiskit\n",
      "  Using cached qiskit-2.1.1-cp39-abi3-manylinux_2_17_x86_64.manylinux2014_x86_64.whl (7.5 MB)\n",
      "Requirement already satisfied: numpy<3,>=1.17 in ./my_env/lib/python3.10/site-packages (from qiskit) (2.2.6)\n",
      "Collecting dill>=0.3\n",
      "  Using cached dill-0.4.0-py3-none-any.whl (119 kB)\n",
      "Collecting stevedore>=3.0.0\n",
      "  Using cached stevedore-5.4.1-py3-none-any.whl (49 kB)\n",
      "Collecting rustworkx>=0.15.0\n",
      "  Using cached rustworkx-0.16.0-cp39-abi3-manylinux_2_17_x86_64.manylinux2014_x86_64.whl (2.1 MB)\n",
      "Collecting scipy>=1.5\n",
      "  Downloading scipy-1.15.3-cp310-cp310-manylinux_2_17_x86_64.manylinux2014_x86_64.whl (37.7 MB)\n",
      "\u001b[2K     \u001b[90m━━━━━━━━━━━━━━━━━━━━━━━━━━━━━━━━━━━━━━━━\u001b[0m \u001b[32m37.7/37.7 MB\u001b[0m \u001b[31m8.5 MB/s\u001b[0m eta \u001b[36m0:00:00\u001b[0m:00:01\u001b[0m00:01\u001b[0m\n",
      "\u001b[?25hRequirement already satisfied: typing-extensions in ./my_env/lib/python3.10/site-packages (from qiskit) (4.14.1)\n",
      "Collecting pbr>=2.0.0\n",
      "  Using cached pbr-6.1.1-py2.py3-none-any.whl (108 kB)\n",
      "Requirement already satisfied: setuptools in ./my_env/lib/python3.10/site-packages (from pbr>=2.0.0->stevedore>=3.0.0->qiskit) (59.6.0)\n",
      "Installing collected packages: scipy, rustworkx, pbr, dill, stevedore, qiskit\n",
      "Successfully installed dill-0.4.0 pbr-6.1.1 qiskit-2.1.1 rustworkx-0.16.0 scipy-1.15.3 stevedore-5.4.1\n",
      "Collecting qiskit-nature\n",
      "  Using cached qiskit_nature-0.7.2-py3-none-any.whl (2.2 MB)\n",
      "Requirement already satisfied: qiskit>=0.44 in ./my_env/lib/python3.10/site-packages (from qiskit-nature) (2.1.1)\n",
      "Collecting qiskit-algorithms>=0.2.1\n",
      "  Using cached qiskit_algorithms-0.3.1-py3-none-any.whl (310 kB)\n",
      "Requirement already satisfied: numpy>=1.17 in ./my_env/lib/python3.10/site-packages (from qiskit-nature) (2.2.6)\n",
      "Requirement already satisfied: setuptools>=40.1.0 in ./my_env/lib/python3.10/site-packages (from qiskit-nature) (59.6.0)\n",
      "Requirement already satisfied: rustworkx>=0.12 in ./my_env/lib/python3.10/site-packages (from qiskit-nature) (0.16.0)\n",
      "Requirement already satisfied: typing-extensions in ./my_env/lib/python3.10/site-packages (from qiskit-nature) (4.14.1)\n",
      "Requirement already satisfied: psutil>=5 in ./my_env/lib/python3.10/site-packages (from qiskit-nature) (7.0.0)\n",
      "Collecting h5py\n",
      "  Using cached h5py-3.14.0-cp310-cp310-manylinux_2_17_x86_64.manylinux2014_x86_64.whl (4.6 MB)\n",
      "Requirement already satisfied: scipy>=1.4 in ./my_env/lib/python3.10/site-packages (from qiskit-nature) (1.15.3)\n",
      "Requirement already satisfied: dill>=0.3 in ./my_env/lib/python3.10/site-packages (from qiskit>=0.44->qiskit-nature) (0.4.0)\n",
      "Requirement already satisfied: stevedore>=3.0.0 in ./my_env/lib/python3.10/site-packages (from qiskit>=0.44->qiskit-nature) (5.4.1)\n",
      "Requirement already satisfied: pbr>=2.0.0 in ./my_env/lib/python3.10/site-packages (from stevedore>=3.0.0->qiskit>=0.44->qiskit-nature) (6.1.1)\n",
      "Installing collected packages: h5py, qiskit-algorithms, qiskit-nature\n",
      "Successfully installed h5py-3.14.0 qiskit-algorithms-0.3.1 qiskit-nature-0.7.2\n"
     ]
    }
   ],
   "source": [
    "!pip install biopython\n",
    "!pip install nglview==3.0.8\n",
    "!pip install \"ipywidgets>=7,<8\"\n",
    "!pip install rdkit\n",
    "\n",
    "!pip install qiskit-nature"
   ]
  },
  {
   "cell_type": "code",
   "execution_count": 7,
   "id": "f6a6105f-11c8-4ec1-b64a-e7240f9d3d50",
   "metadata": {},
   "outputs": [
    {
     "name": "stdout",
     "output_type": "stream",
     "text": [
      "Collecting qiskit==1.4.3\n",
      "  Using cached qiskit-1.4.3-cp39-abi3-manylinux_2_17_x86_64.manylinux2014_x86_64.whl (6.8 MB)\n",
      "Requirement already satisfied: python-dateutil>=2.8.0 in ./my_env/lib/python3.10/site-packages (from qiskit==1.4.3) (2.9.0.post0)\n",
      "Requirement already satisfied: sympy>=1.3 in ./my_env/lib/python3.10/site-packages (from qiskit==1.4.3) (1.14.0)\n",
      "Requirement already satisfied: typing-extensions in ./my_env/lib/python3.10/site-packages (from qiskit==1.4.3) (4.14.1)\n",
      "Collecting symengine<0.14,>=0.11\n",
      "  Using cached symengine-0.13.0-cp310-cp310-manylinux_2_17_x86_64.manylinux2014_x86_64.whl (49.7 MB)\n",
      "Requirement already satisfied: numpy<3,>=1.17 in ./my_env/lib/python3.10/site-packages (from qiskit==1.4.3) (2.2.6)\n",
      "Requirement already satisfied: stevedore>=3.0.0 in ./my_env/lib/python3.10/site-packages (from qiskit==1.4.3) (5.4.1)\n",
      "Requirement already satisfied: scipy>=1.5 in ./my_env/lib/python3.10/site-packages (from qiskit==1.4.3) (1.15.3)\n",
      "Requirement already satisfied: dill>=0.3 in ./my_env/lib/python3.10/site-packages (from qiskit==1.4.3) (0.4.0)\n",
      "Requirement already satisfied: rustworkx>=0.15.0 in ./my_env/lib/python3.10/site-packages (from qiskit==1.4.3) (0.16.0)\n",
      "Requirement already satisfied: six>=1.5 in ./my_env/lib/python3.10/site-packages (from python-dateutil>=2.8.0->qiskit==1.4.3) (1.17.0)\n",
      "Requirement already satisfied: pbr>=2.0.0 in ./my_env/lib/python3.10/site-packages (from stevedore>=3.0.0->qiskit==1.4.3) (6.1.1)\n",
      "Requirement already satisfied: mpmath<1.4,>=1.1.0 in ./my_env/lib/python3.10/site-packages (from sympy>=1.3->qiskit==1.4.3) (1.3.0)\n",
      "Requirement already satisfied: setuptools in ./my_env/lib/python3.10/site-packages (from pbr>=2.0.0->stevedore>=3.0.0->qiskit==1.4.3) (59.6.0)\n",
      "Installing collected packages: symengine, qiskit\n",
      "  Attempting uninstall: qiskit\n",
      "    Found existing installation: qiskit 2.1.1\n",
      "    Uninstalling qiskit-2.1.1:\n",
      "      Successfully uninstalled qiskit-2.1.1\n",
      "Successfully installed qiskit-1.4.3 symengine-0.13.0\n"
     ]
    }
   ],
   "source": [
    "!pip install qiskit==1.4.3"
   ]
  },
  {
   "cell_type": "code",
   "execution_count": 7,
   "id": "9b7c0c10-118c-4d7c-8205-52b52469ec73",
   "metadata": {
    "scrolled": true
   },
   "outputs": [
    {
     "name": "stdout",
     "output_type": "stream",
     "text": [
      "\n",
      "up to date, audited 548 packages in 5s\n",
      "\n",
      "168 packages are looking for funding\n",
      "  run `npm fund` for details\n",
      "\n",
      "found 0 vulnerabilities\n"
     ]
    }
   ],
   "source": [
    "# node needed! \n",
    "# installs the js packages for nglview\n",
    "!npm i"
   ]
  },
  {
   "cell_type": "code",
   "execution_count": 2,
   "id": "47254168-5ec7-46a3-aff5-f5638261249a",
   "metadata": {},
   "outputs": [
    {
     "name": "stdout",
     "output_type": "stream",
     "text": [
      "Collecting pyscf\n",
      "  Using cached pyscf-2.10.0-py3-none-manylinux_2_17_x86_64.manylinux2014_x86_64.whl (51.2 MB)\n",
      "Requirement already satisfied: numpy!=1.16,!=1.17,>=1.13 in ./my_env/lib/python3.10/site-packages (from pyscf) (2.2.6)\n",
      "Requirement already satisfied: scipy>=1.6.0 in ./my_env/lib/python3.10/site-packages (from pyscf) (1.15.3)\n",
      "Requirement already satisfied: h5py>=2.7 in ./my_env/lib/python3.10/site-packages (from pyscf) (3.14.0)\n",
      "Requirement already satisfied: setuptools in ./my_env/lib/python3.10/site-packages (from pyscf) (59.6.0)\n",
      "Installing collected packages: pyscf\n",
      "Successfully installed pyscf-2.10.0\n"
     ]
    }
   ],
   "source": [
    "# will only run in linux\n",
    "!pip install --prefer-binary pyscf"
   ]
  },
  {
   "cell_type": "code",
   "execution_count": 1,
   "id": "d494e3b1-0ede-479d-9bdd-26467e9403bb",
   "metadata": {},
   "outputs": [
    {
     "data": {
      "application/vnd.jupyter.widget-view+json": {
       "model_id": "1f993ddef65e42acb55c21a2a19e8ddb",
       "version_major": 2,
       "version_minor": 0
      },
      "text/plain": []
     },
     "metadata": {},
     "output_type": "display_data"
    }
   ],
   "source": [
    "import os\n",
    "import ipywidgets as widgets \n",
    "from Bio.PDB import PDBList, PDBParser\n",
    "from rdkit import Chem\n",
    "from rdkit.Chem import AllChem, Draw\n",
    "import nglview as nv\n",
    "import numpy as np"
   ]
  },
  {
   "cell_type": "code",
   "execution_count": 3,
   "id": "21827c21-4469-4f1a-b5b2-d10c6664ba5f",
   "metadata": {
    "scrolled": true
   },
   "outputs": [],
   "source": [
    "import numpy as np\n",
    "from qiskit_nature.second_q.drivers import PySCFDriver\n",
    "from qiskit_nature.second_q.transformers import ActiveSpaceTransformer\n",
    "from qiskit_nature.second_q.mappers import JordanWignerMapper\n",
    "from qiskit_nature.second_q.problems import ElectronicBasis\n",
    "from qiskit_nature.second_q.algorithms import GroundStateEigensolver\n",
    "from qiskit_nature.second_q.circuit.library import UCCSD, HartreeFock\n",
    "from qiskit_nature.settings import settings"
   ]
  },
  {
   "cell_type": "markdown",
   "id": "6754c3e0-7b6b-4425-a33a-449a51f68a0a",
   "metadata": {},
   "source": [
    "## Prepare Dataset"
   ]
  },
  {
   "cell_type": "markdown",
   "id": "b647b6d1-2101-4182-b6f4-1f6bbca440d6",
   "metadata": {},
   "source": [
    "### Download the target protein\n",
    "- The target is the NS3 RNA helicase (a viral protein/enzyme) of Dengue virus serotype 2 (DENV2). This helicase unwinds double-stranded RNA (dsRNA) intermediates into single-stranded RNA (ssRNA), a critical step in the replication of the viral genome."
   ]
  },
  {
   "cell_type": "code",
   "execution_count": 4,
   "id": "c992e530-9d94-4df4-9d80-0d60dc334f83",
   "metadata": {},
   "outputs": [],
   "source": [
    "pdb_id = \"2BMF\"\n",
    "pdbl = PDBList()"
   ]
  },
  {
   "cell_type": "code",
   "execution_count": 5,
   "id": "efd3e0f6-ca85-473c-93b6-0080bbf0ca85",
   "metadata": {},
   "outputs": [
    {
     "name": "stdout",
     "output_type": "stream",
     "text": [
      "Downloading PDB structure '2bmf'...\n"
     ]
    }
   ],
   "source": [
    "file_path = pdbl.retrieve_pdb_file(pdb_id, file_format=\"pdb\", pdir=\"./\")\n",
    "file_name = \"DENV2_RNA_Helicase_2_4A.pdb\"\n",
    "if os.path.exists(file_name):\n",
    "    os.remove(file_name)\n",
    "os.rename(file_path, file_name)"
   ]
  },
  {
   "cell_type": "code",
   "execution_count": 6,
   "id": "33408262-98c3-4ce0-b084-b31cd1e65b33",
   "metadata": {},
   "outputs": [
    {
     "data": {
      "application/vnd.jupyter.widget-view+json": {
       "model_id": "98033757bb934f29908a7d28f43a6b9b",
       "version_major": 2,
       "version_minor": 0
      },
      "text/plain": [
       "NGLWidget()"
      ]
     },
     "metadata": {},
     "output_type": "display_data"
    }
   ],
   "source": [
    "parser = PDBParser(QUIET=True)\n",
    "structure = parser.get_structure(pdb_id, file_name)\n",
    "view = nv.show_biopython(structure)\n",
    "view"
   ]
  },
  {
   "cell_type": "markdown",
   "id": "993f6500-322f-4ad1-bd8a-2fb9432f36cc",
   "metadata": {},
   "source": [
    "### Select a particular ligand\n",
    "- The ligand selected is based on the study of Halim et al. [1]. The ligand with the highest Chemgauss2 (CG2) score is selected. The Simplified Molecular Input Line Entry System (SMILES) format of the selected ligand is `CCOc1ccc2c(c1)sc(n2)NC(=O)c3c(cnc(n3)SC)Br`. This will be used to benchmark the tools.\n",
    "\n",
    "[1] S. A. Halim, S. Khan, A. Khan, A. Wadood, F. Mabood, J. Hussain, and A. Al-Harrasi, “Targeting Dengue Virus NS-3 Helicase by Ligand based Pharmacophore Modeling and Structure based Virtual Screening,” Frontiers in Chemistry, vol. 5, p. 88, 2017. [Online]. Available: https://doi.org/10.3389/fchem.2017.00088"
   ]
  },
  {
   "cell_type": "code",
   "execution_count": 7,
   "id": "fcfe3546-4b67-44b1-b505-263d9b9e4303",
   "metadata": {},
   "outputs": [],
   "source": [
    "ligand = \"CCOc1ccc2c(c1)sc(n2)NC(=O)c3c(cnc(n3)SC)Br\""
   ]
  },
  {
   "cell_type": "code",
   "execution_count": 8,
   "id": "af3c017d-65f7-4221-bcc2-c2699bba5d2c",
   "metadata": {},
   "outputs": [
    {
     "data": {
      "image/jpeg": "[encoded data removed]",
      "image/png": "[encoded data removed]",
      "text/plain": [
       "<PIL.PngImagePlugin.PngImageFile image mode=RGB size=300x300>"
      ]
     },
     "execution_count": 8,
     "metadata": {},
     "output_type": "execute_result"
    }
   ],
   "source": [
    "mol = Chem.MolFromSmiles(ligand)\n",
    "Draw.MolToImage(mol)"
   ]
  },
  {
   "cell_type": "markdown",
   "id": "7630174d-5beb-4a4c-b5b7-8a19c1a7bea3",
   "metadata": {},
   "source": [
    "Save this into pdb format"
   ]
  },
  {
   "cell_type": "code",
   "execution_count": 9,
   "id": "be26a7dc-8d85-49fb-a3ae-2c62de781b68",
   "metadata": {},
   "outputs": [],
   "source": [
    "mol_wHs = Chem.AddHs(mol)\n",
    "AllChem.EmbedMolecule(mol_wHs)\n",
    "AllChem.UFFOptimizeMolecule(mol_wHs)\n",
    "ligand_file = \"ligand.pdb\"\n",
    "Chem.MolToPDBFile(mol_wHs, ligand_file)"
   ]
  },
  {
   "cell_type": "markdown",
   "id": "6ed056ad-bc9f-42a4-a8a8-830772820548",
   "metadata": {},
   "source": [
    "Compute the center of the compound"
   ]
  },
  {
   "cell_type": "code",
   "execution_count": 10,
   "id": "dfd2832f-cff1-495d-a409-2c7566890d07",
   "metadata": {},
   "outputs": [],
   "source": [
    "symbols = []\n",
    "coords = []\n",
    "ligand_chain_id = 'A'\n",
    "for model in structure:\n",
    "    for chain in model:\n",
    "        if chain.id == ligand_chain_id:\n",
    "            for residue in chain:\n",
    "                for atom in residue:\n",
    "                    symbol = atom.element  # element symbol\n",
    "                    coord = atom.coord     # numpy array of (x, y, z)\n",
    "                    symbols.append(symbol)\n",
    "                    coords.append(coord)\n",
    "symbols = np.array(symbols).reshape(-1,1)\n",
    "coords = np.array(coords)\n",
    "atoms = np.hstack([symbols, coords])\n",
    "centroid = np.array(coords).mean(axis=0)"
   ]
  },
  {
   "cell_type": "markdown",
   "id": "cd55743e-ac04-40bc-98fa-398b31298d9b",
   "metadata": {},
   "source": [
    "Select the part of the ligand within the radius from the center"
   ]
  },
  {
   "cell_type": "code",
   "execution_count": 11,
   "id": "6a732531-cd14-47bb-9f4b-e2ba6742084b",
   "metadata": {},
   "outputs": [
    {
     "name": "stdout",
     "output_type": "stream",
     "text": [
      "10 atoms are selected.\n"
     ]
    }
   ],
   "source": [
    "radius = 4\n",
    "selected = np.linalg.norm(centroid - coords, axis=1) <= radius\n",
    "if not any(selected): raise Exception(\"No selected atoms. Increase the radius.\")\n",
    "selected_atoms = atoms[selected]\n",
    "print(f\"{len(selected_atoms)} atoms are selected.\")"
   ]
  },
  {
   "cell_type": "code",
   "execution_count": 43,
   "id": "9cb48ead-c1ba-45f3-8a50-efcdc2df081a",
   "metadata": {},
   "outputs": [
    {
     "data": {
      "text/plain": [
       "'C 7.673 1.233 56.963; C 6.837 0.765 57.967; C 7.106 1.585 55.732; C 5.457 0.649 57.757; C 5.731 1.474 55.513; C 4.905 1.006 56.527; C 6.137 -2.333 54.88; C 4.757 -2.16 55.487; O 4.646 -2.261 56.731; O 3.785 -1.928 54.728; '"
      ]
     },
     "execution_count": 43,
     "metadata": {},
     "output_type": "execute_result"
    }
   ],
   "source": [
    "str_atoms = ''\n",
    "for each in selected_atoms:\n",
    "    str_atoms += ' '.join(each) + '; '\n",
    "str_atoms"
   ]
  },
  {
   "cell_type": "markdown",
   "id": "9d32ccf7-3485-4a7a-8d25-f3e19f91e834",
   "metadata": {},
   "source": [
    "## Molecular Docking"
   ]
  },
  {
   "cell_type": "markdown",
   "id": "b291d9d8-0fd4-4e1d-929a-dda69e01fece",
   "metadata": {},
   "source": [
    "### Classical Computation Benchmark"
   ]
  },
  {
   "cell_type": "code",
   "execution_count": null,
   "id": "131862b2-5006-4dde-9379-19e8c5f019ad",
   "metadata": {},
   "outputs": [],
   "source": []
  },
  {
   "cell_type": "markdown",
   "id": "03c028d3-7301-4109-b573-37d5106e0265",
   "metadata": {},
   "source": [
    "### Quantum Computation Benchmark"
   ]
  },
  {
   "cell_type": "code",
   "execution_count": null,
   "id": "1333a489-7592-4a80-b1d6-ecd70593b16b",
   "metadata": {},
   "outputs": [],
   "source": []
  },
  {
   "cell_type": "code",
   "execution_count": 55,
   "id": "898fd57f-a673-41f6-a4aa-55fcb8074743",
   "metadata": {},
   "outputs": [],
   "source": [
    "from qiskit_nature.second_q.drivers import PySCFDriver\n",
    "from qiskit_nature.second_q.transformers import ActiveSpaceTransformer\n",
    "from qiskit_nature.second_q.mappers import JordanWignerMapper\n",
    "\n",
    "driver = PySCFDriver(atom=str_atoms, basis=\"sto3g\")\n",
    "problem = driver.run()\n",
    "\n",
    "# Reduce problem size\n",
    "transformer = ActiveSpaceTransformer(\n",
    "    num_electrons=2,\n",
    "    num_spatial_orbitals=2\n",
    ")\n",
    "problem = transformer.transform(problem)\n",
    "\n",
    "mapper = JordanWignerMapper()\n",
    "\n",
    "second_q_op = problem.second_q_ops()[0]\n",
    "qubit_op = mapper.map(second_q_op)\n",
    "# qubit_op = mapper.map(problem.hamiltonian)"
   ]
  },
  {
   "cell_type": "code",
   "execution_count": 56,
   "id": "09f6a0c6-0c86-4f01-8d08-548c09bc8960",
   "metadata": {},
   "outputs": [
    {
     "data": {
      "text/plain": [
       "SparsePauliOp(['IIII', 'IIIZ', 'IIZI', 'IIZZ', 'IZII', 'IZIZ', 'YYII', 'YYIZ', 'XXII', 'XXIZ', 'ZIII', 'ZIIZ', 'IIYY', 'IZYY', 'IIXX', 'IZXX', 'YYYY', 'XXYY', 'YYXX', 'XXXX', 'ZIYY', 'ZIXX', 'IZZI', 'YYZI', 'XXZI', 'ZIZI', 'ZZII'],\n",
       "              coeffs=[-0.61514706+0.j,  0.03117762+0.j,  0.0554125 +0.j,  0.06316887+0.j,\n",
       "  0.03117762+0.j,  0.0772238 +0.j,  0.00783969+0.j,  0.00112066+0.j,\n",
       "  0.00783969+0.j,  0.00112066+0.j,  0.0554125 +0.j,  0.07418501+0.j,\n",
       "  0.00783969+0.j,  0.00112066+0.j,  0.00783969+0.j,  0.00112066+0.j,\n",
       "  0.01101614+0.j,  0.01101614+0.j,  0.01101614+0.j,  0.01101614+0.j,\n",
       " -0.00684096+0.j, -0.00684096+0.j,  0.07418501+0.j, -0.00684096+0.j,\n",
       " -0.00684096+0.j,  0.09003528+0.j,  0.06316887+0.j])"
      ]
     },
     "execution_count": 56,
     "metadata": {},
     "output_type": "execute_result"
    }
   ],
   "source": [
    "qubit_op"
   ]
  },
  {
   "cell_type": "code",
   "execution_count": null,
   "id": "fdf9d7c5-8153-4805-b06c-a48dda6e342a",
   "metadata": {},
   "outputs": [],
   "source": []
  }
 ],
 "metadata": {
  "kernelspec": {
   "display_name": "Python 3 (ipykernel)",
   "language": "python",
   "name": "python3"
  },
  "language_info": {
   "codemirror_mode": {
    "name": "ipython",
    "version": 3
   },
   "file_extension": ".py",
   "mimetype": "text/x-python",
   "name": "python",
   "nbconvert_exporter": "python",
   "pygments_lexer": "ipython3",
   "version": "3.10.12"
  }
 },
 "nbformat": 4,
 "nbformat_minor": 5
}
