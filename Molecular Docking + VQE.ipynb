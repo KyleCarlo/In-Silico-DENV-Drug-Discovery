{
 "cells": [
  {
   "cell_type": "code",
   "execution_count": 13,
   "id": "e9d284e1",
   "metadata": {
    "scrolled": true
   },
   "outputs": [
    {
     "name": "stdout",
     "output_type": "stream",
     "text": [
      "Channels:\n",
      " - conda-forge\n",
      "Platform: linux-64\n",
      "Collecting package metadata (repodata.json): done\n",
      "Solving environment: done\n",
      "\n",
      "\n",
      "==> WARNING: A newer version of conda exists. <==\n",
      "    current version: 25.3.0\n",
      "    latest version: 25.5.1\n",
      "\n",
      "Please update conda by running\n",
      "\n",
      "    $ conda update -n base -c conda-forge conda\n",
      "\n",
      "\n",
      "\n",
      "# All requested packages already installed.\n",
      "\n",
      "Requirement already satisfied: vina in /home/kyle/miniforge3/envs/vina_vqe/lib/python3.13/site-packages (1.2.7)\n",
      "Requirement already satisfied: numpy>=1.18 in /home/kyle/miniforge3/envs/vina_vqe/lib/python3.13/site-packages (from vina) (2.3.2)\n",
      "Requirement already satisfied: setuptools>=50.3 in /home/kyle/miniforge3/envs/vina_vqe/lib/python3.13/site-packages (from vina) (80.9.0)\n",
      "Requirement already satisfied: wheel in /home/kyle/miniforge3/envs/vina_vqe/lib/python3.13/site-packages (from vina) (0.45.1)\n",
      "Requirement already satisfied: packaging in /home/kyle/miniforge3/envs/vina_vqe/lib/python3.13/site-packages (from vina) (25.0)\n",
      "Channels:\n",
      " - conda-forge\n",
      "Platform: linux-64\n",
      "Collecting package metadata (repodata.json): done\n",
      "Solving environment: done\n",
      "\n",
      "\n",
      "==> WARNING: A newer version of conda exists. <==\n",
      "    current version: 25.3.0\n",
      "    latest version: 25.5.1\n",
      "\n",
      "Please update conda by running\n",
      "\n",
      "    $ conda update -n base -c conda-forge conda\n",
      "\n",
      "\n",
      "\n",
      "# All requested packages already installed.\n",
      "\n",
      "Requirement already satisfied: rdkit in /home/kyle/miniforge3/envs/vina_vqe/lib/python3.13/site-packages (2025.3.3)\n",
      "Requirement already satisfied: numpy in /home/kyle/miniforge3/envs/vina_vqe/lib/python3.13/site-packages (from rdkit) (2.3.2)\n",
      "Requirement already satisfied: Pillow in /home/kyle/miniforge3/envs/vina_vqe/lib/python3.13/site-packages (from rdkit) (11.3.0)\n",
      "Requirement already satisfied: prolif in /home/kyle/miniforge3/envs/vina_vqe/lib/python3.13/site-packages (2.0.3)\n",
      "Requirement already satisfied: pandas>=1.0.0 in /home/kyle/miniforge3/envs/vina_vqe/lib/python3.13/site-packages (from prolif) (2.3.1)\n",
      "Requirement already satisfied: numpy>=1.13.3 in /home/kyle/miniforge3/envs/vina_vqe/lib/python3.13/site-packages (from prolif) (2.3.2)\n",
      "Requirement already satisfied: scipy>=1.3.0 in /home/kyle/miniforge3/envs/vina_vqe/lib/python3.13/site-packages (from prolif) (1.16.0)\n",
      "Requirement already satisfied: mdanalysis>=2.2.0 in /home/kyle/miniforge3/envs/vina_vqe/lib/python3.13/site-packages (from prolif) (2.9.0)\n",
      "Requirement already satisfied: tqdm in /home/kyle/miniforge3/envs/vina_vqe/lib/python3.13/site-packages (from prolif) (4.67.1)\n",
      "Requirement already satisfied: multiprocess in /home/kyle/miniforge3/envs/vina_vqe/lib/python3.13/site-packages (from prolif) (0.70.18)\n",
      "Requirement already satisfied: dill in /home/kyle/miniforge3/envs/vina_vqe/lib/python3.13/site-packages (from prolif) (0.4.0)\n",
      "Requirement already satisfied: GridDataFormats>=0.4.0 in /home/kyle/miniforge3/envs/vina_vqe/lib/python3.13/site-packages (from mdanalysis>=2.2.0->prolif) (1.0.2)\n",
      "Requirement already satisfied: mmtf-python>=1.0.0 in /home/kyle/miniforge3/envs/vina_vqe/lib/python3.13/site-packages (from mdanalysis>=2.2.0->prolif) (1.1.3)\n",
      "Requirement already satisfied: joblib>=0.12 in /home/kyle/miniforge3/envs/vina_vqe/lib/python3.13/site-packages (from mdanalysis>=2.2.0->prolif) (1.5.1)\n",
      "Requirement already satisfied: matplotlib>=1.5.1 in /home/kyle/miniforge3/envs/vina_vqe/lib/python3.13/site-packages (from mdanalysis>=2.2.0->prolif) (3.10.3)\n",
      "Requirement already satisfied: threadpoolctl in /home/kyle/miniforge3/envs/vina_vqe/lib/python3.13/site-packages (from mdanalysis>=2.2.0->prolif) (3.6.0)\n",
      "Requirement already satisfied: packaging in /home/kyle/miniforge3/envs/vina_vqe/lib/python3.13/site-packages (from mdanalysis>=2.2.0->prolif) (25.0)\n",
      "Requirement already satisfied: filelock in /home/kyle/miniforge3/envs/vina_vqe/lib/python3.13/site-packages (from mdanalysis>=2.2.0->prolif) (3.18.0)\n",
      "Requirement already satisfied: mda-xdrlib in /home/kyle/miniforge3/envs/vina_vqe/lib/python3.13/site-packages (from mdanalysis>=2.2.0->prolif) (0.2.0)\n",
      "Requirement already satisfied: mrcfile in /home/kyle/miniforge3/envs/vina_vqe/lib/python3.13/site-packages (from GridDataFormats>=0.4.0->mdanalysis>=2.2.0->prolif) (1.5.4)\n",
      "Requirement already satisfied: contourpy>=1.0.1 in /home/kyle/miniforge3/envs/vina_vqe/lib/python3.13/site-packages (from matplotlib>=1.5.1->mdanalysis>=2.2.0->prolif) (1.3.3)\n",
      "Requirement already satisfied: cycler>=0.10 in /home/kyle/miniforge3/envs/vina_vqe/lib/python3.13/site-packages (from matplotlib>=1.5.1->mdanalysis>=2.2.0->prolif) (0.12.1)\n",
      "Requirement already satisfied: fonttools>=4.22.0 in /home/kyle/miniforge3/envs/vina_vqe/lib/python3.13/site-packages (from matplotlib>=1.5.1->mdanalysis>=2.2.0->prolif) (4.59.0)\n",
      "Requirement already satisfied: kiwisolver>=1.3.1 in /home/kyle/miniforge3/envs/vina_vqe/lib/python3.13/site-packages (from matplotlib>=1.5.1->mdanalysis>=2.2.0->prolif) (1.4.8)\n",
      "Requirement already satisfied: pillow>=8 in /home/kyle/miniforge3/envs/vina_vqe/lib/python3.13/site-packages (from matplotlib>=1.5.1->mdanalysis>=2.2.0->prolif) (11.3.0)\n",
      "Requirement already satisfied: pyparsing>=2.3.1 in /home/kyle/miniforge3/envs/vina_vqe/lib/python3.13/site-packages (from matplotlib>=1.5.1->mdanalysis>=2.2.0->prolif) (3.2.3)\n",
      "Requirement already satisfied: python-dateutil>=2.7 in /home/kyle/miniforge3/envs/vina_vqe/lib/python3.13/site-packages (from matplotlib>=1.5.1->mdanalysis>=2.2.0->prolif) (2.9.0.post0)\n",
      "Requirement already satisfied: msgpack>=1.0.0 in /home/kyle/miniforge3/envs/vina_vqe/lib/python3.13/site-packages (from mmtf-python>=1.0.0->mdanalysis>=2.2.0->prolif) (1.1.1)\n",
      "Requirement already satisfied: pytz>=2020.1 in /home/kyle/miniforge3/envs/vina_vqe/lib/python3.13/site-packages (from pandas>=1.0.0->prolif) (2025.2)\n",
      "Requirement already satisfied: tzdata>=2022.7 in /home/kyle/miniforge3/envs/vina_vqe/lib/python3.13/site-packages (from pandas>=1.0.0->prolif) (2025.2)\n",
      "Requirement already satisfied: six>=1.5 in /home/kyle/miniforge3/envs/vina_vqe/lib/python3.13/site-packages (from python-dateutil>=2.7->matplotlib>=1.5.1->mdanalysis>=2.2.0->prolif) (1.17.0)\n",
      "Channels:\n",
      " - conda-forge\n",
      "Platform: linux-64\n",
      "Collecting package metadata (repodata.json): done\n",
      "Solving environment: done\n",
      "\n",
      "\n",
      "==> WARNING: A newer version of conda exists. <==\n",
      "    current version: 25.3.0\n",
      "    latest version: 25.5.1\n",
      "\n",
      "Please update conda by running\n",
      "\n",
      "    $ conda update -n base -c conda-forge conda\n",
      "\n",
      "\n",
      "\n",
      "# All requested packages already installed.\n",
      "\n",
      "Requirement already satisfied: pdb2pqr in /home/kyle/miniforge3/envs/vina_vqe/lib/python3.13/site-packages (3.7.1)\n",
      "Requirement already satisfied: docutils<0.18 in /home/kyle/miniforge3/envs/vina_vqe/lib/python3.13/site-packages (from pdb2pqr) (0.17.1)\n",
      "Requirement already satisfied: mmcif-pdbx>=1.1.2 in /home/kyle/miniforge3/envs/vina_vqe/lib/python3.13/site-packages (from pdb2pqr) (2.0.1)\n",
      "Requirement already satisfied: numpy in /home/kyle/miniforge3/envs/vina_vqe/lib/python3.13/site-packages (from pdb2pqr) (2.3.2)\n",
      "Requirement already satisfied: propka>=3.5 in /home/kyle/miniforge3/envs/vina_vqe/lib/python3.13/site-packages (from pdb2pqr) (3.5.1)\n",
      "Requirement already satisfied: requests in /home/kyle/miniforge3/envs/vina_vqe/lib/python3.13/site-packages (from pdb2pqr) (2.32.4)\n",
      "Requirement already satisfied: charset_normalizer<4,>=2 in /home/kyle/miniforge3/envs/vina_vqe/lib/python3.13/site-packages (from requests->pdb2pqr) (3.4.2)\n",
      "Requirement already satisfied: idna<4,>=2.5 in /home/kyle/miniforge3/envs/vina_vqe/lib/python3.13/site-packages (from requests->pdb2pqr) (3.10)\n",
      "Requirement already satisfied: urllib3<3,>=1.21.1 in /home/kyle/miniforge3/envs/vina_vqe/lib/python3.13/site-packages (from requests->pdb2pqr) (2.5.0)\n",
      "Requirement already satisfied: certifi>=2017.4.17 in /home/kyle/miniforge3/envs/vina_vqe/lib/python3.13/site-packages (from requests->pdb2pqr) (2025.7.14)\n",
      "Requirement already satisfied: biopython in /home/kyle/miniforge3/envs/vina_vqe/lib/python3.13/site-packages (1.85)\n",
      "Requirement already satisfied: numpy in /home/kyle/miniforge3/envs/vina_vqe/lib/python3.13/site-packages (from biopython) (2.3.2)\n",
      "Collecting gemmi\n",
      "  Downloading gemmi-0.7.3-cp313-cp313-manylinux_2_27_x86_64.manylinux_2_28_x86_64.whl.metadata (2.3 kB)\n",
      "Downloading gemmi-0.7.3-cp313-cp313-manylinux_2_27_x86_64.manylinux_2_28_x86_64.whl (2.6 MB)\n",
      "\u001b[2K   \u001b[90m━━━━━━━━━━━━━━━━━━━━━━━━━━━━━━━━━━━━━━━━\u001b[0m \u001b[32m2.6/2.6 MB\u001b[0m \u001b[31m1.3 MB/s\u001b[0m eta \u001b[36m0:00:00\u001b[0ma \u001b[36m0:00:01\u001b[0mm\n",
      "\u001b[?25hInstalling collected packages: gemmi\n",
      "Successfully installed gemmi-0.7.3\n"
     ]
    },
    {
     "name": "stdout",
     "output_type": "stream",
     "text": [
      "                                                                                \n",
      "Preparing transaction: done\n",
      "Verifying transaction: done\n",
      "Executing transaction: done\n"
     ]
    }
   ],
   "source": [
    "!conda install -c conda-forge numpy swig boost-cpp libboost sphinx sphinx_rtd_theme -y\n",
    "!pip install vina\n",
    "!conda install -c conda-forge mdanalysis -y\n",
    "!pip install rdkit\n",
    "!pip install prolif\n",
    "!conda install nglview -c conda-forge -y\n",
    "!pip install pdb2pqr\n",
    "# !pip install meeko\n",
    "!pip install biopython\n",
    "!pip install gemmi"
   ]
  },
  {
   "cell_type": "code",
   "execution_count": 1,
   "id": "f45006a6-649d-4ca3-8648-b1835d1e7535",
   "metadata": {},
   "outputs": [
    {
     "data": {
      "application/vnd.jupyter.widget-view+json": {
       "model_id": "2d685b1eb4db4b6386aab7d7213b06cc",
       "version_major": 2,
       "version_minor": 0
      },
      "text/plain": []
     },
     "metadata": {},
     "output_type": "display_data"
    },
    {
     "name": "stderr",
     "output_type": "stream",
     "text": [
      "/home/kyle/miniforge3/envs/vina_vqe/lib/python3.13/site-packages/nglview/__init__.py:12: UserWarning: pkg_resources is deprecated as an API. See https://setuptools.pypa.io/en/latest/pkg_resources.html. The pkg_resources package is slated for removal as early as 2025-11-30. Refrain from using this package or pin to Setuptools<81.\n",
      "  import pkg_resources\n"
     ]
    }
   ],
   "source": [
    "import os\n",
    "import numpy as np\n",
    "from Bio.PDB import PDBList\n",
    "import MDAnalysis as mda\n",
    "import nglview as nv\n",
    "from rdkit import Chem\n",
    "from rdkit.Chem import AllChem, rdmolfiles"
   ]
  },
  {
   "cell_type": "code",
   "execution_count": 2,
   "id": "f8b1af3c-100e-4df0-924d-9e82acbf477a",
   "metadata": {},
   "outputs": [],
   "source": [
    "protein_folder = 'protein/'\n",
    "ligand_folder = 'ligand/'\n",
    "\n",
    "os.makedirs(protein_folder, exist_ok=True)\n",
    "os.makedirs(ligand_folder, exist_ok=True)"
   ]
  },
  {
   "cell_type": "markdown",
   "id": "5b6e7ed8-62e3-4883-a171-7a9b57eda58b",
   "metadata": {},
   "source": [
    "## Protein Preparation"
   ]
  },
  {
   "cell_type": "code",
   "execution_count": 3,
   "id": "d877ca3a-bff5-4a94-816e-d88183f07bde",
   "metadata": {},
   "outputs": [
    {
     "name": "stdout",
     "output_type": "stream",
     "text": [
      "Downloading PDB structure '2bmf'...\n"
     ]
    }
   ],
   "source": [
    "protein_id = \"2BMF\"\n",
    "\n",
    "pdbl = PDBList()\n",
    "protein_file_path = pdbl.retrieve_pdb_file(protein_id, file_format=\"pdb\", pdir=protein_folder)\n",
    "\n",
    "if os.path.exists(f\"{protein_folder}{protein_id}.pdb\"):\n",
    "    os.remove(f\"{protein_folder}{protein_id}.pdb\")\n",
    "os.rename(protein_file_path, f\"{protein_folder}{protein_id}.pdb\")"
   ]
  },
  {
   "cell_type": "code",
   "execution_count": 4,
   "id": "16b344bb-d7e0-464f-b23c-f79f657c61a6",
   "metadata": {},
   "outputs": [
    {
     "data": {
      "application/vnd.jupyter.widget-view+json": {
       "model_id": "d7ad6f59b85d4af9a1362415b32101b2",
       "version_major": 2,
       "version_minor": 0
      },
      "text/plain": [
       "NGLWidget()"
      ]
     },
     "metadata": {},
     "output_type": "display_data"
    }
   ],
   "source": [
    "u = mda.Universe(f\"{protein_folder}{protein_id}.pdb\")\n",
    "nv.show_mdanalysis(u)"
   ]
  },
  {
   "cell_type": "code",
   "execution_count": 5,
   "id": "7242c40d-a9a3-4633-8316-72745068de84",
   "metadata": {},
   "outputs": [
    {
     "data": {
      "application/vnd.jupyter.widget-view+json": {
       "model_id": "d6373c06db664089bd63d9f9ac11ff1d",
       "version_major": 2,
       "version_minor": 0
      },
      "text/plain": [
       "NGLWidget()"
      ]
     },
     "metadata": {},
     "output_type": "display_data"
    }
   ],
   "source": [
    "protein = u.select_atoms(\"protein and chainID A\")\n",
    "water = u.select_atoms(\"resname HOH and chainID A\")\n",
    "view = nv.show_mdanalysis(protein)\n",
    "view.clear_representations()\n",
    "view.add_representation('surface', colorScheme=\"hydrophobicity\")\n",
    "water_view = nv.show_mdanalysis(water)\n",
    "water_view.add_representation('spacefill')\n",
    "view"
   ]
  },
  {
   "cell_type": "code",
   "execution_count": 6,
   "id": "74456810-8290-4e0e-99e1-b2ddd33ae192",
   "metadata": {},
   "outputs": [
    {
     "name": "stderr",
     "output_type": "stream",
     "text": [
      "/home/kyle/miniforge3/envs/vina_vqe/lib/python3.13/site-packages/MDAnalysis/coordinates/PDB.py:1154: UserWarning: Found no information for attr: 'formalcharges' Using default value of '0'\n",
      "  warnings.warn(\"Found no information for attr: '{}'\"\n"
     ]
    }
   ],
   "source": [
    "protein.write(f\"{protein_folder}protein_{protein_id}.pdb\")"
   ]
  },
  {
   "cell_type": "code",
   "execution_count": 7,
   "id": "f448daf5-65a1-451f-9283-3eff00c0d0f2",
   "metadata": {
    "scrolled": true
   },
   "outputs": [
    {
     "name": "stdout",
     "output_type": "stream",
     "text": [
      "INFO:PDB2PQR v3.7.1: biomolecular structure conversion software.\n",
      "INFO:Please cite:  Jurrus E, et al.  Improvements to the APBS biomolecular solvation software suite.  Protein Sci 27 112-128 (2018).\n",
      "INFO:Please cite:  Dolinsky TJ, et al.  PDB2PQR: expanding and upgrading automated preparation of biomolecular structures for molecular simulations. Nucleic Acids Res 35 W522-W525 (2007).\n",
      "INFO:Checking and transforming input arguments.\n",
      "INFO:Loading topology files.\n",
      "INFO:Loading molecule: protein/protein_2BMF.pdb\n",
      "ERROR:Error parsing line: invalid literal for int() with base 10: ''\n",
      "ERROR:<REMARK     2>\n",
      "ERROR:Truncating remaining errors for record type:REMARK\n",
      "WARNING:Warning: protein/protein_2BMF.pdb is a non-standard PDB file.\n",
      "\n",
      "ERROR:['REMARK']\n",
      "INFO:Setting up molecule.\n",
      "INFO:Created biomolecule object with 442 residues and 3531 atoms.\n",
      "INFO:Setting termini states for biomolecule chains.\n",
      "WARNING:Gap in backbone detected between GLN A 243 and THR A 252!\n",
      "INFO:Loading forcefield.\n",
      "INFO:Loading hydrogen topology definitions.\n",
      "WARNING:Missing atom CG in residue LYS A 199\n",
      "WARNING:Missing atom CD in residue LYS A 199\n",
      "WARNING:Missing atom CE in residue LYS A 199\n",
      "WARNING:Missing atom NZ in residue LYS A 199\n",
      "WARNING:Missing atom CG in residue ARG A 241\n",
      "WARNING:Missing atom CD in residue ARG A 241\n",
      "WARNING:Missing atom NE in residue ARG A 241\n",
      "WARNING:Missing atom CZ in residue ARG A 241\n",
      "WARNING:Missing atom NH1 in residue ARG A 241\n",
      "WARNING:Missing atom NH2 in residue ARG A 241\n",
      "WARNING:Missing atom OG1 in residue THR A 252\n",
      "WARNING:Missing atom CG2 in residue THR A 252\n",
      "WARNING:Missing atom CG in residue ARG A 254\n",
      "WARNING:Missing atom CD in residue ARG A 254\n",
      "WARNING:Missing atom NE in residue ARG A 254\n",
      "WARNING:Missing atom CZ in residue ARG A 254\n",
      "WARNING:Missing atom NH1 in residue ARG A 254\n",
      "WARNING:Missing atom NH2 in residue ARG A 254\n",
      "WARNING:Missing atom CG in residue ARG A 274\n",
      "WARNING:Missing atom CD in residue ARG A 274\n",
      "WARNING:Missing atom NE in residue ARG A 274\n",
      "WARNING:Missing atom CZ in residue ARG A 274\n",
      "WARNING:Missing atom NH1 in residue ARG A 274\n",
      "WARNING:Missing atom NH2 in residue ARG A 274\n",
      "WARNING:Missing atom CG in residue LYS A 199\n",
      "WARNING:Missing atom CD in residue LYS A 199\n",
      "WARNING:Missing atom CE in residue LYS A 199\n",
      "WARNING:Missing atom NZ in residue LYS A 199\n",
      "WARNING:Missing atom CG in residue ARG A 241\n",
      "WARNING:Missing atom CD in residue ARG A 241\n",
      "WARNING:Missing atom NE in residue ARG A 241\n",
      "WARNING:Missing atom CZ in residue ARG A 241\n",
      "WARNING:Missing atom NH1 in residue ARG A 241\n",
      "WARNING:Missing atom NH2 in residue ARG A 241\n",
      "WARNING:Missing atom OG1 in residue THR A 252\n",
      "WARNING:Missing atom CG2 in residue THR A 252\n",
      "WARNING:Missing atom CG in residue ARG A 254\n",
      "WARNING:Missing atom CD in residue ARG A 254\n",
      "WARNING:Missing atom NE in residue ARG A 254\n",
      "WARNING:Missing atom CZ in residue ARG A 254\n",
      "WARNING:Missing atom NH1 in residue ARG A 254\n",
      "WARNING:Missing atom NH2 in residue ARG A 254\n",
      "WARNING:Missing atom CG in residue ARG A 274\n",
      "WARNING:Missing atom CD in residue ARG A 274\n",
      "WARNING:Missing atom NE in residue ARG A 274\n",
      "WARNING:Missing atom CZ in residue ARG A 274\n",
      "WARNING:Missing atom NH1 in residue ARG A 274\n",
      "WARNING:Missing atom NH2 in residue ARG A 274\n",
      "INFO:Attempting to repair 24 missing atoms in biomolecule.\n",
      "WARNING:Missing atom CG in residue LYS A 199\n",
      "WARNING:Missing atom CD in residue LYS A 199\n",
      "WARNING:Missing atom CE in residue LYS A 199\n",
      "WARNING:Missing atom NZ in residue LYS A 199\n",
      "WARNING:Missing atom CG in residue ARG A 241\n",
      "WARNING:Missing atom CD in residue ARG A 241\n",
      "WARNING:Missing atom NE in residue ARG A 241\n",
      "WARNING:Missing atom CZ in residue ARG A 241\n",
      "WARNING:Missing atom NH1 in residue ARG A 241\n",
      "WARNING:Missing atom NH2 in residue ARG A 241\n",
      "WARNING:Missing atom OG1 in residue THR A 252\n",
      "WARNING:Missing atom CG2 in residue THR A 252\n",
      "WARNING:Missing atom CG in residue ARG A 254\n",
      "WARNING:Missing atom CD in residue ARG A 254\n",
      "WARNING:Missing atom NE in residue ARG A 254\n",
      "WARNING:Missing atom CZ in residue ARG A 254\n",
      "WARNING:Missing atom NH1 in residue ARG A 254\n",
      "WARNING:Missing atom NH2 in residue ARG A 254\n",
      "WARNING:Missing atom CG in residue ARG A 274\n",
      "WARNING:Missing atom CD in residue ARG A 274\n",
      "WARNING:Missing atom NE in residue ARG A 274\n",
      "WARNING:Missing atom CZ in residue ARG A 274\n",
      "WARNING:Missing atom NH1 in residue ARG A 274\n",
      "WARNING:Missing atom NH2 in residue ARG A 274\n",
      "INFO:Added atom CG to residue LYS A 199 at coordinates 16.244, 13.886, 61.286\n",
      "INFO:Added atom CD to residue LYS A 199 at coordinates 15.310, 12.790, 61.757\n",
      "INFO:Added atom CE to residue LYS A 199 at coordinates 15.719, 12.202, 63.086\n",
      "INFO:Added atom NZ to residue LYS A 199 at coordinates 14.776, 11.135, 63.505\n",
      "INFO:Added atom CG to residue ARG A 241 at coordinates 12.139, 14.368, 37.240\n",
      "INFO:Added atom CD to residue ARG A 241 at coordinates 12.496, 13.372, 36.200\n",
      "INFO:Added atom NE to residue ARG A 241 at coordinates 13.213, 13.969, 35.086\n",
      "INFO:Added atom CZ to residue ARG A 241 at coordinates 13.638, 13.280, 34.033\n",
      "INFO:Added atom NH1 to residue ARG A 241 at coordinates 13.605, 11.952, 34.017\n",
      "INFO:Added atom NH2 to residue ARG A 241 at coordinates 14.156, 13.930, 32.994\n",
      "INFO:Added atom OG1 to residue THR A 252 at coordinates 13.489, 22.355, 32.452\n",
      "INFO:Added atom CG2 to residue THR A 252 at coordinates 14.070, 20.126, 31.519\n",
      "INFO:Added atom CG to residue ARG A 254 at coordinates 15.988, 16.669, 29.718\n",
      "INFO:Added atom CD to residue ARG A 254 at coordinates 16.923, 17.273, 28.737\n",
      "INFO:Added atom NE to residue ARG A 254 at coordinates 16.469, 17.100, 27.365\n",
      "INFO:Added atom CZ to residue ARG A 254 at coordinates 17.137, 17.553, 26.309\n",
      "INFO:Added atom NH1 to residue ARG A 254 at coordinates 18.176, 18.371, 26.447\n",
      "INFO:Added atom NH2 to residue ARG A 254 at coordinates 16.727, 17.225, 25.087\n",
      "INFO:Added atom CG to residue ARG A 274 at coordinates 17.970, -3.517, 33.868\n",
      "INFO:Added atom CD to residue ARG A 274 at coordinates 19.391, -3.559, 33.436\n",
      "INFO:Added atom NE to residue ARG A 274 at coordinates 19.845, -4.917, 33.174\n",
      "INFO:Added atom CZ to residue ARG A 274 at coordinates 21.078, -5.212, 32.775\n",
      "INFO:Added atom NH1 to residue ARG A 274 at coordinates 21.929, -4.264, 32.399\n",
      "INFO:Added atom NH2 to residue ARG A 274 at coordinates 21.452, -6.487, 32.702\n",
      "INFO:Updating disulfide bridges.\n",
      "INFO:Debumping biomolecule.\n",
      "INFO:Adding hydrogens to biomolecule.\n",
      "INFO:Debumping biomolecule (again).\n",
      "INFO:Optimizing hydrogen bonds\n",
      "INFO:Applying force field to biomolecule states.\n",
      "INFO:Regenerating headers.\n",
      "INFO:Regenerating PDB lines.\n",
      "WARNING:Ignoring 391 header lines in output.\n",
      "WARNING:Ignoring 391 header lines in output.\n"
     ]
    }
   ],
   "source": [
    "!pdb2pqr --pdb-output=\"{protein_folder}protein_h.pdb\" --pH=7.4 \"{protein_folder}protein_{protein_id}.pdb\" \"{protein_folder}protein_{protein_id}.pqr\" --whitespace"
   ]
  },
  {
   "cell_type": "code",
   "execution_count": 8,
   "id": "f69fb082-7096-4ad7-976f-41a02bdd1970",
   "metadata": {},
   "outputs": [
    {
     "name": "stderr",
     "output_type": "stream",
     "text": [
      "/home/kyle/miniforge3/envs/vina_vqe/lib/python3.13/site-packages/MDAnalysis/coordinates/PDBQT.py:305: UserWarning: Supplied AtomGroup was missing the following attributes: altLocs, occupancies, tempfactors. These will be written with default values. \n",
      "  warnings.warn(\n"
     ]
    }
   ],
   "source": [
    "u = mda.Universe(f\"{protein_folder}protein_{protein_id}.pqr\")\n",
    "u.atoms.write(f\"{protein_folder}{protein_id}.pdbqt\")"
   ]
  },
  {
   "cell_type": "code",
   "execution_count": 9,
   "id": "70a73d8f-8bbc-466b-b320-f515e2d557fb",
   "metadata": {},
   "outputs": [],
   "source": [
    "# Read in the just-written PDBQT file, replace text, and write back\n",
    "with open(f\"{protein_folder}{protein_id}.pdbqt\", 'r') as file:\n",
    "    file_content = file.read()\n",
    "\n",
    "# Replace 'TITLE' and 'CRYST1' with 'REMARK'\n",
    "file_content = file_content.replace('TITLE', 'REMARK').replace('CRYST1', 'REMARK')\n",
    "\n",
    "# Write the modified content back to the file\n",
    "with open(f\"{protein_folder}{protein_id}.pdbqt\", 'w') as file:\n",
    "    file.write(file_content)"
   ]
  },
  {
   "cell_type": "markdown",
   "id": "a18a218c-0a5a-4f4c-9808-71731c8e491a",
   "metadata": {},
   "source": [
    "## Ligand Preparation"
   ]
  },
  {
   "cell_type": "code",
   "execution_count": 10,
   "id": "3a615030-35f0-44a9-965f-4b720a78315d",
   "metadata": {},
   "outputs": [],
   "source": [
    "smiles = \"CCCSc1ncc(c(n1)C(=O)Nc2nc3ccc(cc3s2)OC)Cl\"\n",
    "\n",
    "mol = Chem.MolFromSmiles(smiles)\n",
    "mol = Chem.AddHs(mol)\n",
    "AllChem.EmbedMolecule(mol)\n",
    "AllChem.UFFOptimizeMolecule(mol)\n",
    "\n",
    "writer = rdmolfiles.PDBWriter(f\"{ligand_folder}ligand.pdb\")\n",
    "writer.write(mol)\n",
    "writer.close()\n",
    "\n",
    "Chem.MolToMolFile(mol, f\"{ligand_folder}ligand.mol\")"
   ]
  },
  {
   "cell_type": "code",
   "execution_count": 11,
   "id": "d43da920-0b6a-4050-8594-e2d9d45fc6da",
   "metadata": {},
   "outputs": [
    {
     "data": {
      "application/vnd.jupyter.widget-view+json": {
       "model_id": "51031a925c11458db2e1bdf9b385bcf8",
       "version_major": 2,
       "version_minor": 0
      },
      "text/plain": [
       "NGLWidget()"
      ]
     },
     "metadata": {},
     "output_type": "display_data"
    }
   ],
   "source": [
    "u = mda.Universe(f\"{ligand_folder}ligand.pdb\")\n",
    "nv.show_mdanalysis(u)"
   ]
  },
  {
   "cell_type": "code",
   "execution_count": 12,
   "id": "afec0810-4803-45f8-b7b4-2fbeb443076b",
   "metadata": {},
   "outputs": [
    {
     "name": "stdout",
     "output_type": "stream",
     "text": [
      "Input molecules processed: 1, skipped: 0\n",
      "PDBQT files written: 1\n",
      "PDBQT files not written due to error: 0\n",
      "Input molecules with errors: 0\n"
     ]
    }
   ],
   "source": [
    "# Use meeko to prepare small molecules - using meeko helps us visualize them later.\n",
    "!mk_prepare_ligand.py -i \"{ligand_folder}ligand.mol\" -o \"{ligand_folder}prepared_ligand.pdbqt\""
   ]
  },
  {
   "cell_type": "markdown",
   "id": "c8bef40c-d73a-4bf9-9a7c-b61ef026651f",
   "metadata": {},
   "source": [
    "## Pre-Docking: Defining the Search Box"
   ]
  },
  {
   "cell_type": "code",
   "execution_count": 13,
   "id": "a9f96e14-cb1c-4ff8-bd7d-e442a584916d",
   "metadata": {},
   "outputs": [
    {
     "data": {
      "application/vnd.jupyter.widget-view+json": {
       "model_id": "ce4b15c53a3243938040ad25f0806174",
       "version_major": 2,
       "version_minor": 0
      },
      "text/plain": [
       "NGLWidget()"
      ]
     },
     "metadata": {},
     "output_type": "display_data"
    }
   ],
   "source": [
    "u = mda.Universe(f\"{protein_folder}protein_{protein_id}.pdb\")\n",
    "res1 = u.select_atoms(\"resid 388\")\n",
    "nv.show_mdanalysis(res1)"
   ]
  },
  {
   "cell_type": "code",
   "execution_count": 14,
   "id": "cb7cdd6b-82fb-4341-8e81-b508183a1eb9",
   "metadata": {},
   "outputs": [
    {
     "data": {
      "application/vnd.jupyter.widget-view+json": {
       "model_id": "e5e7d581dccb4a19974d90be5e6ea40f",
       "version_major": 2,
       "version_minor": 0
      },
      "text/plain": [
       "NGLWidget()"
      ]
     },
     "metadata": {},
     "output_type": "display_data"
    }
   ],
   "source": [
    "res2 = u.select_atoms(\"resid 599\")\n",
    "nv.show_mdanalysis(res2)"
   ]
  },
  {
   "cell_type": "code",
   "execution_count": 15,
   "id": "eabe72d0-0fcf-4023-8ef7-e616efc438f2",
   "metadata": {},
   "outputs": [
    {
     "name": "stdout",
     "output_type": "stream",
     "text": [
      "center: [-4.630055514756929, -3.6067424138086013, 55.17953026896775]\n",
      "box: [8.110111062160946, 15.846151461805961, 5.402394651162503]\n"
     ]
    }
   ],
   "source": [
    "cg1 = res1.center_of_geometry()\n",
    "cg2 = res2.center_of_geometry()\n",
    "coors = np.vstack([cg1, cg2])\n",
    "center = coors.sum(axis=0) / 2\n",
    "center = center.tolist()\n",
    "ligand_box = coors.max(axis=0) - coors.min(axis=0) + 5 # padding of 5\n",
    "ligand_box = ligand_box.tolist()\n",
    "print(\"center:\", center)\n",
    "print(\"box:\", ligand_box)"
   ]
  },
  {
   "cell_type": "markdown",
   "id": "56b8bb59-0277-4291-bcce-2e4245276bf8",
   "metadata": {},
   "source": [
    "## Docking Ligands with AutoDock Vina"
   ]
  },
  {
   "cell_type": "code",
   "execution_count": 16,
   "id": "5c8560fb-ff2f-4dee-8368-0cee6ed11c0b",
   "metadata": {},
   "outputs": [],
   "source": [
    "os.makedirs(\"docking_results\", exist_ok=True)"
   ]
  },
  {
   "cell_type": "code",
   "execution_count": null,
   "id": "86906305-f840-4d2e-b1af-6dc53e0b2543",
   "metadata": {},
   "outputs": [],
   "source": []
  }
 ],
 "metadata": {
  "kernelspec": {
   "display_name": "Python (Vina+VQE)",
   "language": "python",
   "name": "vina_vqe"
  },
  "language_info": {
   "codemirror_mode": {
    "name": "ipython",
    "version": 3
   },
   "file_extension": ".py",
   "mimetype": "text/x-python",
   "name": "python",
   "nbconvert_exporter": "python",
   "pygments_lexer": "ipython3",
   "version": "3.13.5"
  }
 },
 "nbformat": 4,
 "nbformat_minor": 5
}
