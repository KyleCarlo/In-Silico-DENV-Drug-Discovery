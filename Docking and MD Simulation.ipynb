{
 "cells": [
  {
   "cell_type": "markdown",
   "id": "f5a70367-6fb5-4c2f-92b8-36d5d3d60520",
   "metadata": {},
   "source": [
    "# Drug Discovery for Dengue Virus NS-3 Helicase"
   ]
  },
  {
   "cell_type": "markdown",
   "id": "d035eab1-9523-40c7-a380-383ed0f419dd",
   "metadata": {},
   "source": [
    "## Primary Authors:\n",
    "- Clarissa Harmoko\n",
    "- Kai Ze Tam\n",
    "- Kyle Carlo Lasala\n",
    "- Muhammad Abdul Aziz Ghazali"
   ]
  },
  {
   "cell_type": "markdown",
   "id": "554ecf7a-09b8-4327-8d23-3e8a802a486c",
   "metadata": {},
   "source": [
    "## Prepare Libraries"
   ]
  },
  {
   "cell_type": "code",
   "execution_count": 4,
   "id": "ffb10c18-d159-476d-a90a-1c8b76733083",
   "metadata": {},
   "outputs": [
    {
     "name": "stdout",
     "output_type": "stream",
     "text": [
      "Defaulting to user installation because normal site-packages is not writeable\n",
      "Requirement already satisfied: biopython in c:\\users\\kyle carlo c. lasala\\appdata\\roaming\\python\\python312\\site-packages (1.85)\n",
      "Requirement already satisfied: numpy in c:\\programdata\\anaconda3\\lib\\site-packages (from biopython) (1.26.4)\n"
     ]
    }
   ],
   "source": [
    "!pip install biopython"
   ]
  },
  {
   "cell_type": "code",
   "execution_count": 9,
   "id": "d494e3b1-0ede-479d-9bdd-26467e9403bb",
   "metadata": {},
   "outputs": [],
   "source": [
    "import os\n",
    "from Bio.PDB import PDBList"
   ]
  },
  {
   "cell_type": "markdown",
   "id": "6754c3e0-7b6b-4425-a33a-449a51f68a0a",
   "metadata": {},
   "source": [
    "## Prepare Dataset"
   ]
  },
  {
   "cell_type": "markdown",
   "id": "b647b6d1-2101-4182-b6f4-1f6bbca440d6",
   "metadata": {},
   "source": [
    "### Download the target protein\n",
    "- The target is the NS3 RNA helicase (a viral protein/enzyme) of Dengue virus serotype 2 (DENV2). This helicase unwinds double-stranded RNA (dsRNA) intermediates into single-stranded RNA (ssRNA), a critical step in the replication of the viral genome."
   ]
  },
  {
   "cell_type": "code",
   "execution_count": 19,
   "id": "c992e530-9d94-4df4-9d80-0d60dc334f83",
   "metadata": {},
   "outputs": [
    {
     "name": "stdout",
     "output_type": "stream",
     "text": [
      "Downloading PDB structure '2bmf'...\n"
     ]
    }
   ],
   "source": [
    "pdb_id = \"2BMF\"\n",
    "pdbl = PDBList()\n",
    "file_path = pdbl.retrieve_pdb_file(pdb_id, file_format=\"pdb\", pdir=\"./\")\n",
    "file_name = f\"DENV2_RNA_Helicase_2_4A.pdb\"\n",
    "os.rename(file_path, file_name)"
   ]
  },
  {
   "cell_type": "markdown",
   "id": "993f6500-322f-4ad1-bd8a-2fb9432f36cc",
   "metadata": {},
   "source": [
    "### Select a particular ligand\n",
    "- The ligand selected is based on the study of Halim et al. [1]. The ligand with the highest Chemgauss2 (CG2) score is selected. The Simplified Molecular Input Line Entry System (SMILES) format of the selected ligand is `CCOc1ccc2c(c1)sc(n2)NC(=O)c3c(cnc(n3)SC)Br`. This will be used to benchmark the tools.\n",
    "\n",
    "[1] S. A. Halim, S. Khan, A. Khan, A. Wadood, F. Mabood, J. Hussain, and A. Al-Harrasi, “Targeting Dengue Virus NS-3 Helicase by Ligand based Pharmacophore Modeling and Structure based Virtual Screening,” Frontiers in Chemistry, vol. 5, p. 88, 2017. [Online]. Available: https://doi.org/10.3389/fchem.2017.00088"
   ]
  },
  {
   "cell_type": "code",
   "execution_count": 14,
   "id": "fcfe3546-4b67-44b1-b505-263d9b9e4303",
   "metadata": {},
   "outputs": [],
   "source": [
    "ligand = \"CCOc1ccc2c(c1)sc(n2)NC(=O)c3c(cnc(n3)SC)Br\""
   ]
  },
  {
   "cell_type": "code",
   "execution_count": null,
   "id": "af3c017d-65f7-4221-bcc2-c2699bba5d2c",
   "metadata": {},
   "outputs": [],
   "source": []
  }
 ],
 "metadata": {
  "kernelspec": {
   "display_name": "Python 3 (ipykernel)",
   "language": "python",
   "name": "python3"
  },
  "language_info": {
   "codemirror_mode": {
    "name": "ipython",
    "version": 3
   },
   "file_extension": ".py",
   "mimetype": "text/x-python",
   "name": "python",
   "nbconvert_exporter": "python",
   "pygments_lexer": "ipython3",
   "version": "3.12.7"
  }
 },
 "nbformat": 4,
 "nbformat_minor": 5
}
