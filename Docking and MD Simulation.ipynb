{
 "cells": [
  {
   "cell_type": "markdown",
   "id": "f5a70367-6fb5-4c2f-92b8-36d5d3d60520",
   "metadata": {},
   "source": [
    "# Drug Discovery for Dengue Virus NS-3 Helicase"
   ]
  },
  {
   "cell_type": "markdown",
   "id": "d035eab1-9523-40c7-a380-383ed0f419dd",
   "metadata": {},
   "source": [
    "## Primary Authors:\n",
    "- Clarissa Harmoko\n",
    "- Kai Ze Tam\n",
    "- Kyle Carlo Lasala\n",
    "- Muhammad Abdul Aziz Ghazali"
   ]
  },
  {
   "cell_type": "markdown",
   "id": "554ecf7a-09b8-4327-8d23-3e8a802a486c",
   "metadata": {},
   "source": [
    "## Prepare Libraries"
   ]
  },
  {
   "cell_type": "code",
   "execution_count": 10,
   "id": "ffb10c18-d159-476d-a90a-1c8b76733083",
   "metadata": {
    "scrolled": true
   },
   "outputs": [
    {
     "name": "stdout",
     "output_type": "stream",
     "text": [
      "Defaulting to user installation because normal site-packages is not writeable\n",
      "Requirement already satisfied: biopython in c:\\users\\kyle carlo c. lasala\\appdata\\roaming\\python\\python312\\site-packages (1.85)\n",
      "Requirement already satisfied: numpy in c:\\programdata\\anaconda3\\lib\\site-packages (from biopython) (1.26.4)\n",
      "Defaulting to user installation because normal site-packages is not writeable\n",
      "Requirement already satisfied: nglview==3.0.8 in c:\\users\\kyle carlo c. lasala\\appdata\\roaming\\python\\python312\\site-packages (3.0.8)\n",
      "Requirement already satisfied: ipywidgets>=7 in c:\\users\\kyle carlo c. lasala\\appdata\\roaming\\python\\python312\\site-packages (from nglview==3.0.8) (7.8.5)\n",
      "Requirement already satisfied: jupyterlab_widgets in c:\\users\\kyle carlo c. lasala\\appdata\\roaming\\python\\python312\\site-packages (from nglview==3.0.8) (1.1.11)\n",
      "Requirement already satisfied: numpy in c:\\programdata\\anaconda3\\lib\\site-packages (from nglview==3.0.8) (1.26.4)\n",
      "Requirement already satisfied: comm>=0.1.3 in c:\\programdata\\anaconda3\\lib\\site-packages (from ipywidgets>=7->nglview==3.0.8) (0.2.1)\n",
      "Requirement already satisfied: ipython-genutils~=0.2.0 in c:\\programdata\\anaconda3\\lib\\site-packages (from ipywidgets>=7->nglview==3.0.8) (0.2.0)\n",
      "Requirement already satisfied: traitlets>=4.3.1 in c:\\programdata\\anaconda3\\lib\\site-packages (from ipywidgets>=7->nglview==3.0.8) (5.14.3)\n",
      "Requirement already satisfied: widgetsnbextension~=3.6.10 in c:\\users\\kyle carlo c. lasala\\appdata\\roaming\\python\\python312\\site-packages (from ipywidgets>=7->nglview==3.0.8) (3.6.10)\n",
      "Requirement already satisfied: ipython>=4.0.0 in c:\\programdata\\anaconda3\\lib\\site-packages (from ipywidgets>=7->nglview==3.0.8) (8.27.0)\n",
      "Requirement already satisfied: decorator in c:\\programdata\\anaconda3\\lib\\site-packages (from ipython>=4.0.0->ipywidgets>=7->nglview==3.0.8) (5.1.1)\n",
      "Requirement already satisfied: jedi>=0.16 in c:\\programdata\\anaconda3\\lib\\site-packages (from ipython>=4.0.0->ipywidgets>=7->nglview==3.0.8) (0.19.1)\n",
      "Requirement already satisfied: matplotlib-inline in c:\\programdata\\anaconda3\\lib\\site-packages (from ipython>=4.0.0->ipywidgets>=7->nglview==3.0.8) (0.1.6)\n",
      "Requirement already satisfied: prompt-toolkit<3.1.0,>=3.0.41 in c:\\programdata\\anaconda3\\lib\\site-packages (from ipython>=4.0.0->ipywidgets>=7->nglview==3.0.8) (3.0.43)\n",
      "Requirement already satisfied: pygments>=2.4.0 in c:\\programdata\\anaconda3\\lib\\site-packages (from ipython>=4.0.0->ipywidgets>=7->nglview==3.0.8) (2.15.1)\n",
      "Requirement already satisfied: stack-data in c:\\programdata\\anaconda3\\lib\\site-packages (from ipython>=4.0.0->ipywidgets>=7->nglview==3.0.8) (0.2.0)\n",
      "Requirement already satisfied: colorama in c:\\programdata\\anaconda3\\lib\\site-packages (from ipython>=4.0.0->ipywidgets>=7->nglview==3.0.8) (0.4.6)\n",
      "Requirement already satisfied: notebook>=4.4.1 in c:\\users\\kyle carlo c. lasala\\appdata\\roaming\\python\\python312\\site-packages (from widgetsnbextension~=3.6.10->ipywidgets>=7->nglview==3.0.8) (5.7.10)\n",
      "Requirement already satisfied: parso<0.9.0,>=0.8.3 in c:\\programdata\\anaconda3\\lib\\site-packages (from jedi>=0.16->ipython>=4.0.0->ipywidgets>=7->nglview==3.0.8) (0.8.3)\n",
      "Requirement already satisfied: jinja2 in c:\\programdata\\anaconda3\\lib\\site-packages (from notebook>=4.4.1->widgetsnbextension~=3.6.10->ipywidgets>=7->nglview==3.0.8) (3.1.4)\n",
      "Requirement already satisfied: tornado<7,>=4.1 in c:\\programdata\\anaconda3\\lib\\site-packages (from notebook>=4.4.1->widgetsnbextension~=3.6.10->ipywidgets>=7->nglview==3.0.8) (6.4.1)\n",
      "Requirement already satisfied: pyzmq>=17 in c:\\programdata\\anaconda3\\lib\\site-packages (from notebook>=4.4.1->widgetsnbextension~=3.6.10->ipywidgets>=7->nglview==3.0.8) (25.1.2)\n",
      "Requirement already satisfied: jupyter-core>=4.4.0 in c:\\programdata\\anaconda3\\lib\\site-packages (from notebook>=4.4.1->widgetsnbextension~=3.6.10->ipywidgets>=7->nglview==3.0.8) (5.7.2)\n",
      "Requirement already satisfied: jupyter-client>=5.2.0 in c:\\programdata\\anaconda3\\lib\\site-packages (from notebook>=4.4.1->widgetsnbextension~=3.6.10->ipywidgets>=7->nglview==3.0.8) (8.6.0)\n",
      "Requirement already satisfied: nbformat in c:\\programdata\\anaconda3\\lib\\site-packages (from notebook>=4.4.1->widgetsnbextension~=3.6.10->ipywidgets>=7->nglview==3.0.8) (5.10.4)\n",
      "Requirement already satisfied: nbconvert<6.0 in c:\\users\\kyle carlo c. lasala\\appdata\\roaming\\python\\python312\\site-packages (from notebook>=4.4.1->widgetsnbextension~=3.6.10->ipywidgets>=7->nglview==3.0.8) (5.6.1)\n",
      "Requirement already satisfied: ipykernel in c:\\programdata\\anaconda3\\lib\\site-packages (from notebook>=4.4.1->widgetsnbextension~=3.6.10->ipywidgets>=7->nglview==3.0.8) (6.28.0)\n",
      "Requirement already satisfied: Send2Trash in c:\\programdata\\anaconda3\\lib\\site-packages (from notebook>=4.4.1->widgetsnbextension~=3.6.10->ipywidgets>=7->nglview==3.0.8) (1.8.2)\n",
      "Requirement already satisfied: terminado>=0.8.1 in c:\\programdata\\anaconda3\\lib\\site-packages (from notebook>=4.4.1->widgetsnbextension~=3.6.10->ipywidgets>=7->nglview==3.0.8) (0.17.1)\n",
      "Requirement already satisfied: prometheus-client in c:\\programdata\\anaconda3\\lib\\site-packages (from notebook>=4.4.1->widgetsnbextension~=3.6.10->ipywidgets>=7->nglview==3.0.8) (0.14.1)\n",
      "Requirement already satisfied: wcwidth in c:\\programdata\\anaconda3\\lib\\site-packages (from prompt-toolkit<3.1.0,>=3.0.41->ipython>=4.0.0->ipywidgets>=7->nglview==3.0.8) (0.2.5)\n",
      "Requirement already satisfied: executing in c:\\programdata\\anaconda3\\lib\\site-packages (from stack-data->ipython>=4.0.0->ipywidgets>=7->nglview==3.0.8) (0.8.3)\n",
      "Requirement already satisfied: asttokens in c:\\programdata\\anaconda3\\lib\\site-packages (from stack-data->ipython>=4.0.0->ipywidgets>=7->nglview==3.0.8) (2.0.5)\n",
      "Requirement already satisfied: pure-eval in c:\\programdata\\anaconda3\\lib\\site-packages (from stack-data->ipython>=4.0.0->ipywidgets>=7->nglview==3.0.8) (0.2.2)\n",
      "Requirement already satisfied: python-dateutil>=2.8.2 in c:\\programdata\\anaconda3\\lib\\site-packages (from jupyter-client>=5.2.0->notebook>=4.4.1->widgetsnbextension~=3.6.10->ipywidgets>=7->nglview==3.0.8) (2.9.0.post0)\n",
      "Requirement already satisfied: platformdirs>=2.5 in c:\\programdata\\anaconda3\\lib\\site-packages (from jupyter-core>=4.4.0->notebook>=4.4.1->widgetsnbextension~=3.6.10->ipywidgets>=7->nglview==3.0.8) (3.10.0)\n",
      "Requirement already satisfied: pywin32>=300 in c:\\programdata\\anaconda3\\lib\\site-packages (from jupyter-core>=4.4.0->notebook>=4.4.1->widgetsnbextension~=3.6.10->ipywidgets>=7->nglview==3.0.8) (305.1)\n",
      "Requirement already satisfied: mistune<2,>=0.8.1 in c:\\users\\kyle carlo c. lasala\\appdata\\roaming\\python\\python312\\site-packages (from nbconvert<6.0->notebook>=4.4.1->widgetsnbextension~=3.6.10->ipywidgets>=7->nglview==3.0.8) (0.8.4)\n",
      "Requirement already satisfied: entrypoints>=0.2.2 in c:\\users\\kyle carlo c. lasala\\appdata\\roaming\\python\\python312\\site-packages (from nbconvert<6.0->notebook>=4.4.1->widgetsnbextension~=3.6.10->ipywidgets>=7->nglview==3.0.8) (0.4)\n",
      "Requirement already satisfied: bleach in c:\\programdata\\anaconda3\\lib\\site-packages (from nbconvert<6.0->notebook>=4.4.1->widgetsnbextension~=3.6.10->ipywidgets>=7->nglview==3.0.8) (4.1.0)\n",
      "Requirement already satisfied: pandocfilters>=1.4.1 in c:\\programdata\\anaconda3\\lib\\site-packages (from nbconvert<6.0->notebook>=4.4.1->widgetsnbextension~=3.6.10->ipywidgets>=7->nglview==3.0.8) (1.5.0)\n",
      "Requirement already satisfied: testpath in c:\\users\\kyle carlo c. lasala\\appdata\\roaming\\python\\python312\\site-packages (from nbconvert<6.0->notebook>=4.4.1->widgetsnbextension~=3.6.10->ipywidgets>=7->nglview==3.0.8) (0.6.0)\n",
      "Requirement already satisfied: defusedxml in c:\\programdata\\anaconda3\\lib\\site-packages (from nbconvert<6.0->notebook>=4.4.1->widgetsnbextension~=3.6.10->ipywidgets>=7->nglview==3.0.8) (0.7.1)\n",
      "Requirement already satisfied: MarkupSafe>=2.0 in c:\\programdata\\anaconda3\\lib\\site-packages (from jinja2->notebook>=4.4.1->widgetsnbextension~=3.6.10->ipywidgets>=7->nglview==3.0.8) (2.1.3)\n",
      "Requirement already satisfied: fastjsonschema>=2.15 in c:\\programdata\\anaconda3\\lib\\site-packages (from nbformat->notebook>=4.4.1->widgetsnbextension~=3.6.10->ipywidgets>=7->nglview==3.0.8) (2.16.2)\n",
      "Requirement already satisfied: jsonschema>=2.6 in c:\\programdata\\anaconda3\\lib\\site-packages (from nbformat->notebook>=4.4.1->widgetsnbextension~=3.6.10->ipywidgets>=7->nglview==3.0.8) (4.23.0)\n",
      "Requirement already satisfied: pywinpty>=1.1.0 in c:\\programdata\\anaconda3\\lib\\site-packages (from terminado>=0.8.1->notebook>=4.4.1->widgetsnbextension~=3.6.10->ipywidgets>=7->nglview==3.0.8) (2.0.10)\n",
      "Requirement already satisfied: six in c:\\programdata\\anaconda3\\lib\\site-packages (from asttokens->stack-data->ipython>=4.0.0->ipywidgets>=7->nglview==3.0.8) (1.16.0)\n",
      "Requirement already satisfied: debugpy>=1.6.5 in c:\\programdata\\anaconda3\\lib\\site-packages (from ipykernel->notebook>=4.4.1->widgetsnbextension~=3.6.10->ipywidgets>=7->nglview==3.0.8) (1.6.7)\n",
      "Requirement already satisfied: nest-asyncio in c:\\programdata\\anaconda3\\lib\\site-packages (from ipykernel->notebook>=4.4.1->widgetsnbextension~=3.6.10->ipywidgets>=7->nglview==3.0.8) (1.6.0)\n",
      "Requirement already satisfied: packaging in c:\\programdata\\anaconda3\\lib\\site-packages (from ipykernel->notebook>=4.4.1->widgetsnbextension~=3.6.10->ipywidgets>=7->nglview==3.0.8) (24.1)\n",
      "Requirement already satisfied: psutil in c:\\programdata\\anaconda3\\lib\\site-packages (from ipykernel->notebook>=4.4.1->widgetsnbextension~=3.6.10->ipywidgets>=7->nglview==3.0.8) (5.9.0)\n",
      "Requirement already satisfied: attrs>=22.2.0 in c:\\users\\kyle carlo c. lasala\\appdata\\roaming\\python\\python312\\site-packages (from jsonschema>=2.6->nbformat->notebook>=4.4.1->widgetsnbextension~=3.6.10->ipywidgets>=7->nglview==3.0.8) (24.3.0)\n",
      "Requirement already satisfied: jsonschema-specifications>=2023.03.6 in c:\\programdata\\anaconda3\\lib\\site-packages (from jsonschema>=2.6->nbformat->notebook>=4.4.1->widgetsnbextension~=3.6.10->ipywidgets>=7->nglview==3.0.8) (2023.7.1)\n",
      "Requirement already satisfied: referencing>=0.28.4 in c:\\programdata\\anaconda3\\lib\\site-packages (from jsonschema>=2.6->nbformat->notebook>=4.4.1->widgetsnbextension~=3.6.10->ipywidgets>=7->nglview==3.0.8) (0.30.2)\n",
      "Requirement already satisfied: rpds-py>=0.7.1 in c:\\programdata\\anaconda3\\lib\\site-packages (from jsonschema>=2.6->nbformat->notebook>=4.4.1->widgetsnbextension~=3.6.10->ipywidgets>=7->nglview==3.0.8) (0.10.6)\n",
      "Requirement already satisfied: webencodings in c:\\programdata\\anaconda3\\lib\\site-packages (from bleach->nbconvert<6.0->notebook>=4.4.1->widgetsnbextension~=3.6.10->ipywidgets>=7->nglview==3.0.8) (0.5.1)\n",
      "Defaulting to user installation because normal site-packages is not writeable\n",
      "Requirement already satisfied: ipywidgets<8,>=7 in c:\\users\\kyle carlo c. lasala\\appdata\\roaming\\python\\python312\\site-packages (7.8.5)\n",
      "Requirement already satisfied: comm>=0.1.3 in c:\\programdata\\anaconda3\\lib\\site-packages (from ipywidgets<8,>=7) (0.2.1)\n",
      "Requirement already satisfied: ipython-genutils~=0.2.0 in c:\\programdata\\anaconda3\\lib\\site-packages (from ipywidgets<8,>=7) (0.2.0)\n",
      "Requirement already satisfied: traitlets>=4.3.1 in c:\\programdata\\anaconda3\\lib\\site-packages (from ipywidgets<8,>=7) (5.14.3)\n",
      "Requirement already satisfied: widgetsnbextension~=3.6.10 in c:\\users\\kyle carlo c. lasala\\appdata\\roaming\\python\\python312\\site-packages (from ipywidgets<8,>=7) (3.6.10)\n",
      "Requirement already satisfied: ipython>=4.0.0 in c:\\programdata\\anaconda3\\lib\\site-packages (from ipywidgets<8,>=7) (8.27.0)\n",
      "Requirement already satisfied: jupyterlab-widgets<3,>=1.0.0 in c:\\users\\kyle carlo c. lasala\\appdata\\roaming\\python\\python312\\site-packages (from ipywidgets<8,>=7) (1.1.11)\n",
      "Requirement already satisfied: decorator in c:\\programdata\\anaconda3\\lib\\site-packages (from ipython>=4.0.0->ipywidgets<8,>=7) (5.1.1)\n",
      "Requirement already satisfied: jedi>=0.16 in c:\\programdata\\anaconda3\\lib\\site-packages (from ipython>=4.0.0->ipywidgets<8,>=7) (0.19.1)\n",
      "Requirement already satisfied: matplotlib-inline in c:\\programdata\\anaconda3\\lib\\site-packages (from ipython>=4.0.0->ipywidgets<8,>=7) (0.1.6)\n",
      "Requirement already satisfied: prompt-toolkit<3.1.0,>=3.0.41 in c:\\programdata\\anaconda3\\lib\\site-packages (from ipython>=4.0.0->ipywidgets<8,>=7) (3.0.43)\n",
      "Requirement already satisfied: pygments>=2.4.0 in c:\\programdata\\anaconda3\\lib\\site-packages (from ipython>=4.0.0->ipywidgets<8,>=7) (2.15.1)\n",
      "Requirement already satisfied: stack-data in c:\\programdata\\anaconda3\\lib\\site-packages (from ipython>=4.0.0->ipywidgets<8,>=7) (0.2.0)\n",
      "Requirement already satisfied: colorama in c:\\programdata\\anaconda3\\lib\\site-packages (from ipython>=4.0.0->ipywidgets<8,>=7) (0.4.6)\n",
      "Requirement already satisfied: notebook>=4.4.1 in c:\\users\\kyle carlo c. lasala\\appdata\\roaming\\python\\python312\\site-packages (from widgetsnbextension~=3.6.10->ipywidgets<8,>=7) (5.7.10)\n",
      "Requirement already satisfied: parso<0.9.0,>=0.8.3 in c:\\programdata\\anaconda3\\lib\\site-packages (from jedi>=0.16->ipython>=4.0.0->ipywidgets<8,>=7) (0.8.3)\n",
      "Requirement already satisfied: jinja2 in c:\\programdata\\anaconda3\\lib\\site-packages (from notebook>=4.4.1->widgetsnbextension~=3.6.10->ipywidgets<8,>=7) (3.1.4)\n",
      "Requirement already satisfied: tornado<7,>=4.1 in c:\\programdata\\anaconda3\\lib\\site-packages (from notebook>=4.4.1->widgetsnbextension~=3.6.10->ipywidgets<8,>=7) (6.4.1)\n",
      "Requirement already satisfied: pyzmq>=17 in c:\\programdata\\anaconda3\\lib\\site-packages (from notebook>=4.4.1->widgetsnbextension~=3.6.10->ipywidgets<8,>=7) (25.1.2)\n",
      "Requirement already satisfied: jupyter-core>=4.4.0 in c:\\programdata\\anaconda3\\lib\\site-packages (from notebook>=4.4.1->widgetsnbextension~=3.6.10->ipywidgets<8,>=7) (5.7.2)\n",
      "Requirement already satisfied: jupyter-client>=5.2.0 in c:\\programdata\\anaconda3\\lib\\site-packages (from notebook>=4.4.1->widgetsnbextension~=3.6.10->ipywidgets<8,>=7) (8.6.0)\n",
      "Requirement already satisfied: nbformat in c:\\programdata\\anaconda3\\lib\\site-packages (from notebook>=4.4.1->widgetsnbextension~=3.6.10->ipywidgets<8,>=7) (5.10.4)\n",
      "Requirement already satisfied: nbconvert<6.0 in c:\\users\\kyle carlo c. lasala\\appdata\\roaming\\python\\python312\\site-packages (from notebook>=4.4.1->widgetsnbextension~=3.6.10->ipywidgets<8,>=7) (5.6.1)\n",
      "Requirement already satisfied: ipykernel in c:\\programdata\\anaconda3\\lib\\site-packages (from notebook>=4.4.1->widgetsnbextension~=3.6.10->ipywidgets<8,>=7) (6.28.0)\n",
      "Requirement already satisfied: Send2Trash in c:\\programdata\\anaconda3\\lib\\site-packages (from notebook>=4.4.1->widgetsnbextension~=3.6.10->ipywidgets<8,>=7) (1.8.2)\n",
      "Requirement already satisfied: terminado>=0.8.1 in c:\\programdata\\anaconda3\\lib\\site-packages (from notebook>=4.4.1->widgetsnbextension~=3.6.10->ipywidgets<8,>=7) (0.17.1)\n",
      "Requirement already satisfied: prometheus-client in c:\\programdata\\anaconda3\\lib\\site-packages (from notebook>=4.4.1->widgetsnbextension~=3.6.10->ipywidgets<8,>=7) (0.14.1)\n",
      "Requirement already satisfied: wcwidth in c:\\programdata\\anaconda3\\lib\\site-packages (from prompt-toolkit<3.1.0,>=3.0.41->ipython>=4.0.0->ipywidgets<8,>=7) (0.2.5)\n",
      "Requirement already satisfied: executing in c:\\programdata\\anaconda3\\lib\\site-packages (from stack-data->ipython>=4.0.0->ipywidgets<8,>=7) (0.8.3)\n",
      "Requirement already satisfied: asttokens in c:\\programdata\\anaconda3\\lib\\site-packages (from stack-data->ipython>=4.0.0->ipywidgets<8,>=7) (2.0.5)\n",
      "Requirement already satisfied: pure-eval in c:\\programdata\\anaconda3\\lib\\site-packages (from stack-data->ipython>=4.0.0->ipywidgets<8,>=7) (0.2.2)\n",
      "Requirement already satisfied: python-dateutil>=2.8.2 in c:\\programdata\\anaconda3\\lib\\site-packages (from jupyter-client>=5.2.0->notebook>=4.4.1->widgetsnbextension~=3.6.10->ipywidgets<8,>=7) (2.9.0.post0)\n",
      "Requirement already satisfied: platformdirs>=2.5 in c:\\programdata\\anaconda3\\lib\\site-packages (from jupyter-core>=4.4.0->notebook>=4.4.1->widgetsnbextension~=3.6.10->ipywidgets<8,>=7) (3.10.0)\n",
      "Requirement already satisfied: pywin32>=300 in c:\\programdata\\anaconda3\\lib\\site-packages (from jupyter-core>=4.4.0->notebook>=4.4.1->widgetsnbextension~=3.6.10->ipywidgets<8,>=7) (305.1)\n",
      "Requirement already satisfied: mistune<2,>=0.8.1 in c:\\users\\kyle carlo c. lasala\\appdata\\roaming\\python\\python312\\site-packages (from nbconvert<6.0->notebook>=4.4.1->widgetsnbextension~=3.6.10->ipywidgets<8,>=7) (0.8.4)\n",
      "Requirement already satisfied: entrypoints>=0.2.2 in c:\\users\\kyle carlo c. lasala\\appdata\\roaming\\python\\python312\\site-packages (from nbconvert<6.0->notebook>=4.4.1->widgetsnbextension~=3.6.10->ipywidgets<8,>=7) (0.4)\n",
      "Requirement already satisfied: bleach in c:\\programdata\\anaconda3\\lib\\site-packages (from nbconvert<6.0->notebook>=4.4.1->widgetsnbextension~=3.6.10->ipywidgets<8,>=7) (4.1.0)\n",
      "Requirement already satisfied: pandocfilters>=1.4.1 in c:\\programdata\\anaconda3\\lib\\site-packages (from nbconvert<6.0->notebook>=4.4.1->widgetsnbextension~=3.6.10->ipywidgets<8,>=7) (1.5.0)\n",
      "Requirement already satisfied: testpath in c:\\users\\kyle carlo c. lasala\\appdata\\roaming\\python\\python312\\site-packages (from nbconvert<6.0->notebook>=4.4.1->widgetsnbextension~=3.6.10->ipywidgets<8,>=7) (0.6.0)\n",
      "Requirement already satisfied: defusedxml in c:\\programdata\\anaconda3\\lib\\site-packages (from nbconvert<6.0->notebook>=4.4.1->widgetsnbextension~=3.6.10->ipywidgets<8,>=7) (0.7.1)\n",
      "Requirement already satisfied: MarkupSafe>=2.0 in c:\\programdata\\anaconda3\\lib\\site-packages (from jinja2->notebook>=4.4.1->widgetsnbextension~=3.6.10->ipywidgets<8,>=7) (2.1.3)\n",
      "Requirement already satisfied: fastjsonschema>=2.15 in c:\\programdata\\anaconda3\\lib\\site-packages (from nbformat->notebook>=4.4.1->widgetsnbextension~=3.6.10->ipywidgets<8,>=7) (2.16.2)\n",
      "Requirement already satisfied: jsonschema>=2.6 in c:\\programdata\\anaconda3\\lib\\site-packages (from nbformat->notebook>=4.4.1->widgetsnbextension~=3.6.10->ipywidgets<8,>=7) (4.23.0)\n",
      "Requirement already satisfied: pywinpty>=1.1.0 in c:\\programdata\\anaconda3\\lib\\site-packages (from terminado>=0.8.1->notebook>=4.4.1->widgetsnbextension~=3.6.10->ipywidgets<8,>=7) (2.0.10)\n",
      "Requirement already satisfied: six in c:\\programdata\\anaconda3\\lib\\site-packages (from asttokens->stack-data->ipython>=4.0.0->ipywidgets<8,>=7) (1.16.0)\n",
      "Requirement already satisfied: debugpy>=1.6.5 in c:\\programdata\\anaconda3\\lib\\site-packages (from ipykernel->notebook>=4.4.1->widgetsnbextension~=3.6.10->ipywidgets<8,>=7) (1.6.7)\n",
      "Requirement already satisfied: nest-asyncio in c:\\programdata\\anaconda3\\lib\\site-packages (from ipykernel->notebook>=4.4.1->widgetsnbextension~=3.6.10->ipywidgets<8,>=7) (1.6.0)\n",
      "Requirement already satisfied: packaging in c:\\programdata\\anaconda3\\lib\\site-packages (from ipykernel->notebook>=4.4.1->widgetsnbextension~=3.6.10->ipywidgets<8,>=7) (24.1)\n",
      "Requirement already satisfied: psutil in c:\\programdata\\anaconda3\\lib\\site-packages (from ipykernel->notebook>=4.4.1->widgetsnbextension~=3.6.10->ipywidgets<8,>=7) (5.9.0)\n",
      "Requirement already satisfied: attrs>=22.2.0 in c:\\users\\kyle carlo c. lasala\\appdata\\roaming\\python\\python312\\site-packages (from jsonschema>=2.6->nbformat->notebook>=4.4.1->widgetsnbextension~=3.6.10->ipywidgets<8,>=7) (24.3.0)\n",
      "Requirement already satisfied: jsonschema-specifications>=2023.03.6 in c:\\programdata\\anaconda3\\lib\\site-packages (from jsonschema>=2.6->nbformat->notebook>=4.4.1->widgetsnbextension~=3.6.10->ipywidgets<8,>=7) (2023.7.1)\n",
      "Requirement already satisfied: referencing>=0.28.4 in c:\\programdata\\anaconda3\\lib\\site-packages (from jsonschema>=2.6->nbformat->notebook>=4.4.1->widgetsnbextension~=3.6.10->ipywidgets<8,>=7) (0.30.2)\n",
      "Requirement already satisfied: rpds-py>=0.7.1 in c:\\programdata\\anaconda3\\lib\\site-packages (from jsonschema>=2.6->nbformat->notebook>=4.4.1->widgetsnbextension~=3.6.10->ipywidgets<8,>=7) (0.10.6)\n",
      "Requirement already satisfied: webencodings in c:\\programdata\\anaconda3\\lib\\site-packages (from bleach->nbconvert<6.0->notebook>=4.4.1->widgetsnbextension~=3.6.10->ipywidgets<8,>=7) (0.5.1)\n"
     ]
    }
   ],
   "source": [
    "!pip install biopython\n",
    "!pip install nglview==3.0.8\n",
    "!pip install \"ipywidgets>=7,<8\""
   ]
  },
  {
   "cell_type": "code",
   "execution_count": 11,
   "id": "9b7c0c10-118c-4d7c-8205-52b52469ec73",
   "metadata": {
    "scrolled": true
   },
   "outputs": [
    {
     "name": "stdout",
     "output_type": "stream",
     "text": [
      "\n",
      "up to date, audited 548 packages in 2s\n",
      "\n",
      "168 packages are looking for funding\n",
      "  run `npm fund` for details\n",
      "\n",
      "found 0 vulnerabilities\n"
     ]
    }
   ],
   "source": [
    "# node needed! \n",
    "# installs the js packages for nglview\n",
    "!npm i"
   ]
  },
  {
   "cell_type": "code",
   "execution_count": 18,
   "id": "9976be28-3a5a-4c07-8847-7a1dfa6445d2",
   "metadata": {},
   "outputs": [
    {
     "name": "stdout",
     "output_type": "stream",
     "text": [
      "Defaulting to user installation because normal site-packages is not writeable\n",
      "Collecting rdkit\n",
      "  Downloading rdkit-2025.3.3-cp312-cp312-win_amd64.whl.metadata (4.1 kB)\n",
      "Requirement already satisfied: numpy in c:\\programdata\\anaconda3\\lib\\site-packages (from rdkit) (1.26.4)\n",
      "Requirement already satisfied: Pillow in c:\\programdata\\anaconda3\\lib\\site-packages (from rdkit) (10.4.0)\n",
      "Downloading rdkit-2025.3.3-cp312-cp312-win_amd64.whl (22.5 MB)\n",
      "   ---------------------------------------- 0.0/22.5 MB ? eta -:--:--\n",
      "   - -------------------------------------- 1.0/22.5 MB 8.4 MB/s eta 0:00:03\n",
      "   - -------------------------------------- 1.0/22.5 MB 8.4 MB/s eta 0:00:03\n",
      "   -- ------------------------------------- 1.6/22.5 MB 2.5 MB/s eta 0:00:09\n",
      "   --- ------------------------------------ 2.1/22.5 MB 3.0 MB/s eta 0:00:07\n",
      "   --- ------------------------------------ 2.1/22.5 MB 3.0 MB/s eta 0:00:07\n",
      "   ---- ----------------------------------- 2.4/22.5 MB 1.8 MB/s eta 0:00:12\n",
      "   ----- ---------------------------------- 3.1/22.5 MB 2.3 MB/s eta 0:00:09\n",
      "   ------- -------------------------------- 4.2/22.5 MB 2.6 MB/s eta 0:00:08\n",
      "   -------- ------------------------------- 4.7/22.5 MB 2.5 MB/s eta 0:00:08\n",
      "   --------- ------------------------------ 5.2/22.5 MB 2.7 MB/s eta 0:00:07\n",
      "   --------- ------------------------------ 5.2/22.5 MB 2.7 MB/s eta 0:00:07\n",
      "   ---------- ----------------------------- 5.8/22.5 MB 2.3 MB/s eta 0:00:08\n",
      "   ----------- ---------------------------- 6.3/22.5 MB 2.5 MB/s eta 0:00:07\n",
      "   ------------- -------------------------- 7.3/22.5 MB 2.6 MB/s eta 0:00:06\n",
      "   ------------- -------------------------- 7.6/22.5 MB 2.5 MB/s eta 0:00:07\n",
      "   -------------- ------------------------- 8.4/22.5 MB 2.6 MB/s eta 0:00:06\n",
      "   -------------- ------------------------- 8.4/22.5 MB 2.6 MB/s eta 0:00:06\n",
      "   -------------- ------------------------- 8.4/22.5 MB 2.6 MB/s eta 0:00:06\n",
      "   ---------------- ----------------------- 9.2/22.5 MB 2.3 MB/s eta 0:00:06\n",
      "   ---------------- ----------------------- 9.4/22.5 MB 2.4 MB/s eta 0:00:06\n",
      "   ------------------ --------------------- 10.5/22.5 MB 2.5 MB/s eta 0:00:05\n",
      "   ------------------ --------------------- 10.5/22.5 MB 2.5 MB/s eta 0:00:05\n",
      "   ------------------- -------------------- 11.0/22.5 MB 2.3 MB/s eta 0:00:05\n",
      "   -------------------- ------------------- 11.5/22.5 MB 2.4 MB/s eta 0:00:05\n",
      "   ---------------------- ----------------- 12.6/22.5 MB 2.4 MB/s eta 0:00:05\n",
      "   ---------------------- ----------------- 12.6/22.5 MB 2.4 MB/s eta 0:00:05\n",
      "   ---------------------- ----------------- 12.8/22.5 MB 2.3 MB/s eta 0:00:05\n",
      "   ------------------------ --------------- 13.6/22.5 MB 2.4 MB/s eta 0:00:04\n",
      "   -------------------------- ------------- 14.7/22.5 MB 2.5 MB/s eta 0:00:04\n",
      "   -------------------------- ------------- 14.7/22.5 MB 2.5 MB/s eta 0:00:04\n",
      "   --------------------------- ------------ 15.2/22.5 MB 2.4 MB/s eta 0:00:04\n",
      "   ---------------------------- ----------- 15.7/22.5 MB 2.5 MB/s eta 0:00:03\n",
      "   ---------------------------- ----------- 15.7/22.5 MB 2.5 MB/s eta 0:00:03\n",
      "   ---------------------------- ----------- 15.7/22.5 MB 2.5 MB/s eta 0:00:03\n",
      "   ---------------------------- ----------- 15.7/22.5 MB 2.5 MB/s eta 0:00:03\n",
      "   ----------------------------- ---------- 16.5/22.5 MB 2.2 MB/s eta 0:00:03\n",
      "   ----------------------------- ---------- 16.8/22.5 MB 2.3 MB/s eta 0:00:03\n",
      "   ----------------------------- ---------- 16.8/22.5 MB 2.3 MB/s eta 0:00:03\n",
      "   ------------------------------- -------- 17.8/22.5 MB 2.2 MB/s eta 0:00:03\n",
      "   -------------------------------- ------- 18.4/22.5 MB 2.2 MB/s eta 0:00:02\n",
      "   --------------------------------- ------ 18.9/22.5 MB 2.3 MB/s eta 0:00:02\n",
      "   ----------------------------------- ---- 19.9/22.5 MB 2.3 MB/s eta 0:00:02\n",
      "   ------------------------------------ --- 20.7/22.5 MB 2.4 MB/s eta 0:00:01\n",
      "   ------------------------------------- -- 21.0/22.5 MB 2.4 MB/s eta 0:00:01\n",
      "   ---------------------------------------  22.0/22.5 MB 2.4 MB/s eta 0:00:01\n",
      "   ---------------------------------------- 22.5/22.5 MB 2.4 MB/s eta 0:00:00\n",
      "Installing collected packages: rdkit\n",
      "Successfully installed rdkit-2025.3.3\n"
     ]
    }
   ],
   "source": [
    "!pip install rdkit"
   ]
  },
  {
   "cell_type": "code",
   "execution_count": 20,
   "id": "d494e3b1-0ede-479d-9bdd-26467e9403bb",
   "metadata": {},
   "outputs": [],
   "source": [
    "import os\n",
    "import ipywidgets as widgets \n",
    "from Bio.PDB import PDBList, PDBParser\n",
    "from rdkit import Chem\n",
    "from rdkit.Chem import Draw\n",
    "import nglview as nv"
   ]
  },
  {
   "cell_type": "markdown",
   "id": "6754c3e0-7b6b-4425-a33a-449a51f68a0a",
   "metadata": {},
   "source": [
    "## Prepare Dataset"
   ]
  },
  {
   "cell_type": "markdown",
   "id": "b647b6d1-2101-4182-b6f4-1f6bbca440d6",
   "metadata": {},
   "source": [
    "### Download the target protein\n",
    "- The target is the NS3 RNA helicase (a viral protein/enzyme) of Dengue virus serotype 2 (DENV2). This helicase unwinds double-stranded RNA (dsRNA) intermediates into single-stranded RNA (ssRNA), a critical step in the replication of the viral genome."
   ]
  },
  {
   "cell_type": "code",
   "execution_count": 13,
   "id": "c992e530-9d94-4df4-9d80-0d60dc334f83",
   "metadata": {},
   "outputs": [],
   "source": [
    "pdb_id = \"2BMF\"\n",
    "pdbl = PDBList()"
   ]
  },
  {
   "cell_type": "code",
   "execution_count": 14,
   "id": "efd3e0f6-ca85-473c-93b6-0080bbf0ca85",
   "metadata": {},
   "outputs": [
    {
     "name": "stdout",
     "output_type": "stream",
     "text": [
      "Downloading PDB structure '2bmf'...\n"
     ]
    }
   ],
   "source": [
    "file_path = pdbl.retrieve_pdb_file(pdb_id, file_format=\"pdb\", pdir=\"./\")\n",
    "file_name = f\"DENV2_RNA_Helicase_2_4A.pdb\"\n",
    "if os.path.exists(file_name):\n",
    "    os.remove(file_name)\n",
    "os.rename(file_path, file_name)"
   ]
  },
  {
   "cell_type": "code",
   "execution_count": 15,
   "id": "33408262-98c3-4ce0-b084-b31cd1e65b33",
   "metadata": {},
   "outputs": [],
   "source": [
    "parser = PDBParser(QUIET=True)\n",
    "structure = parser.get_structure(pdb_id, file_name)\n",
    "view = nv.show_biopython(structure)"
   ]
  },
  {
   "cell_type": "code",
   "execution_count": 16,
   "id": "9ac78f00-8ff5-467c-ae95-14d3aa5643d4",
   "metadata": {},
   "outputs": [
    {
     "data": {
      "application/vnd.jupyter.widget-view+json": {
       "model_id": "3002f38f20114d958fa6d1c8f3c10de4",
       "version_major": 2,
       "version_minor": 0
      },
      "text/plain": [
       "NGLWidget()"
      ]
     },
     "metadata": {},
     "output_type": "display_data"
    }
   ],
   "source": [
    "view"
   ]
  },
  {
   "cell_type": "markdown",
   "id": "993f6500-322f-4ad1-bd8a-2fb9432f36cc",
   "metadata": {},
   "source": [
    "### Select a particular ligand\n",
    "- The ligand selected is based on the study of Halim et al. [1]. The ligand with the highest Chemgauss2 (CG2) score is selected. The Simplified Molecular Input Line Entry System (SMILES) format of the selected ligand is `CCOc1ccc2c(c1)sc(n2)NC(=O)c3c(cnc(n3)SC)Br`. This will be used to benchmark the tools.\n",
    "\n",
    "[1] S. A. Halim, S. Khan, A. Khan, A. Wadood, F. Mabood, J. Hussain, and A. Al-Harrasi, “Targeting Dengue Virus NS-3 Helicase by Ligand based Pharmacophore Modeling and Structure based Virtual Screening,” Frontiers in Chemistry, vol. 5, p. 88, 2017. [Online]. Available: https://doi.org/10.3389/fchem.2017.00088"
   ]
  },
  {
   "cell_type": "code",
   "execution_count": 22,
   "id": "fcfe3546-4b67-44b1-b505-263d9b9e4303",
   "metadata": {},
   "outputs": [],
   "source": [
    "ligand = \"CCOc1ccc2c(c1)sc(n2)NC(=O)c3c(cnc(n3)SC)Br\""
   ]
  },
  {
   "cell_type": "code",
   "execution_count": 24,
   "id": "af3c017d-65f7-4221-bcc2-c2699bba5d2c",
   "metadata": {},
   "outputs": [
    {
     "data": {
      "image/jpeg": "[encoded data removed]",
      "image/png": "[encoded data removed]",
      "text/plain": [
       "<PIL.PngImagePlugin.PngImageFile image mode=RGB size=300x300>"
      ]
     },
     "execution_count": 24,
     "metadata": {},
     "output_type": "execute_result"
    }
   ],
   "source": [
    "mol = Chem.MolFromSmiles(ligand)\n",
    "Draw.MolToImage(mol)"
   ]
  },
  {
   "cell_type": "code",
   "execution_count": null,
   "id": "cdcc2356-4d63-405a-af75-f02f21c29091",
   "metadata": {},
   "outputs": [],
   "source": []
  }
 ],
 "metadata": {
  "kernelspec": {
   "display_name": "Python 3 (ipykernel)",
   "language": "python",
   "name": "python3"
  },
  "language_info": {
   "codemirror_mode": {
    "name": "ipython",
    "version": 3
   },
   "file_extension": ".py",
   "mimetype": "text/x-python",
   "name": "python",
   "nbconvert_exporter": "python",
   "pygments_lexer": "ipython3",
   "version": "3.12.7"
  }
 },
 "nbformat": 4,
 "nbformat_minor": 5
}
