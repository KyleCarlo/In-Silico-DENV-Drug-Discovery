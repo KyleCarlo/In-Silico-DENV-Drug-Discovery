{
 "cells": [
  {
   "cell_type": "markdown",
   "id": "f5a70367-6fb5-4c2f-92b8-36d5d3d60520",
   "metadata": {},
   "source": [
    "# Drug Discovery for Dengue Virus NS-3 Helicase"
   ]
  },
  {
   "cell_type": "markdown",
   "id": "d035eab1-9523-40c7-a380-383ed0f419dd",
   "metadata": {},
   "source": [
    "## Primary Authors:\n",
    "- Clarissa Harmoko\n",
    "- Kai Ze Tam\n",
    "- Kyle Carlo Lasala\n",
    "- Muhammad Abdul Aziz Ghazali"
   ]
  },
  {
   "cell_type": "markdown",
   "id": "554ecf7a-09b8-4327-8d23-3e8a802a486c",
   "metadata": {},
   "source": [
    "## Prepare Libraries"
   ]
  },
  {
   "cell_type": "code",
   "execution_count": 1,
   "id": "ffb10c18-d159-476d-a90a-1c8b76733083",
   "metadata": {
    "scrolled": true
   },
   "outputs": [
    {
     "name": "stdout",
     "output_type": "stream",
     "text": [
      "Requirement already satisfied: biopython in /home/kyle/miniforge3/envs/docking/lib/python3.13/site-packages (1.85)\n",
      "Requirement already satisfied: numpy in /home/kyle/miniforge3/envs/docking/lib/python3.13/site-packages (from biopython) (2.3.2)\n",
      "Requirement already satisfied: ipywidgets==7.7.2 in /home/kyle/miniforge3/envs/docking/lib/python3.13/site-packages (7.7.2)\n",
      "Requirement already satisfied: ipykernel>=4.5.1 in /home/kyle/miniforge3/envs/docking/lib/python3.13/site-packages (from ipywidgets==7.7.2) (6.30.0)\n",
      "Requirement already satisfied: ipython-genutils~=0.2.0 in /home/kyle/miniforge3/envs/docking/lib/python3.13/site-packages (from ipywidgets==7.7.2) (0.2.0)\n",
      "Requirement already satisfied: traitlets>=4.3.1 in /home/kyle/miniforge3/envs/docking/lib/python3.13/site-packages (from ipywidgets==7.7.2) (5.14.3)\n",
      "Requirement already satisfied: widgetsnbextension~=3.6.0 in /home/kyle/miniforge3/envs/docking/lib/python3.13/site-packages (from ipywidgets==7.7.2) (3.6.10)\n",
      "Requirement already satisfied: ipython>=4.0.0 in /home/kyle/miniforge3/envs/docking/lib/python3.13/site-packages (from ipywidgets==7.7.2) (9.4.0)\n",
      "Requirement already satisfied: jupyterlab-widgets<3,>=1.0.0 in /home/kyle/miniforge3/envs/docking/lib/python3.13/site-packages (from ipywidgets==7.7.2) (1.1.11)\n",
      "Requirement already satisfied: notebook>=4.4.1 in /home/kyle/miniforge3/envs/docking/lib/python3.13/site-packages (from widgetsnbextension~=3.6.0->ipywidgets==7.7.2) (7.4.4)\n",
      "Requirement already satisfied: comm>=0.1.1 in /home/kyle/miniforge3/envs/docking/lib/python3.13/site-packages (from ipykernel>=4.5.1->ipywidgets==7.7.2) (0.2.3)\n",
      "Requirement already satisfied: debugpy>=1.6.5 in /home/kyle/miniforge3/envs/docking/lib/python3.13/site-packages (from ipykernel>=4.5.1->ipywidgets==7.7.2) (1.8.15)\n",
      "Requirement already satisfied: jupyter-client>=8.0.0 in /home/kyle/miniforge3/envs/docking/lib/python3.13/site-packages (from ipykernel>=4.5.1->ipywidgets==7.7.2) (8.6.3)\n",
      "Requirement already satisfied: jupyter-core!=5.0.*,>=4.12 in /home/kyle/miniforge3/envs/docking/lib/python3.13/site-packages (from ipykernel>=4.5.1->ipywidgets==7.7.2) (5.8.1)\n",
      "Requirement already satisfied: matplotlib-inline>=0.1 in /home/kyle/miniforge3/envs/docking/lib/python3.13/site-packages (from ipykernel>=4.5.1->ipywidgets==7.7.2) (0.1.7)\n",
      "Requirement already satisfied: nest-asyncio>=1.4 in /home/kyle/miniforge3/envs/docking/lib/python3.13/site-packages (from ipykernel>=4.5.1->ipywidgets==7.7.2) (1.6.0)\n",
      "Requirement already satisfied: packaging>=22 in /home/kyle/miniforge3/envs/docking/lib/python3.13/site-packages (from ipykernel>=4.5.1->ipywidgets==7.7.2) (25.0)\n",
      "Requirement already satisfied: psutil>=5.7 in /home/kyle/miniforge3/envs/docking/lib/python3.13/site-packages (from ipykernel>=4.5.1->ipywidgets==7.7.2) (7.0.0)\n",
      "Requirement already satisfied: pyzmq>=25 in /home/kyle/miniforge3/envs/docking/lib/python3.13/site-packages (from ipykernel>=4.5.1->ipywidgets==7.7.2) (27.0.0)\n",
      "Requirement already satisfied: tornado>=6.2 in /home/kyle/miniforge3/envs/docking/lib/python3.13/site-packages (from ipykernel>=4.5.1->ipywidgets==7.7.2) (6.5.1)\n",
      "Requirement already satisfied: decorator in /home/kyle/miniforge3/envs/docking/lib/python3.13/site-packages (from ipython>=4.0.0->ipywidgets==7.7.2) (5.2.1)\n",
      "Requirement already satisfied: ipython-pygments-lexers in /home/kyle/miniforge3/envs/docking/lib/python3.13/site-packages (from ipython>=4.0.0->ipywidgets==7.7.2) (1.1.1)\n",
      "Requirement already satisfied: jedi>=0.16 in /home/kyle/miniforge3/envs/docking/lib/python3.13/site-packages (from ipython>=4.0.0->ipywidgets==7.7.2) (0.19.2)\n",
      "Requirement already satisfied: pexpect>4.3 in /home/kyle/miniforge3/envs/docking/lib/python3.13/site-packages (from ipython>=4.0.0->ipywidgets==7.7.2) (4.9.0)\n",
      "Requirement already satisfied: prompt_toolkit<3.1.0,>=3.0.41 in /home/kyle/miniforge3/envs/docking/lib/python3.13/site-packages (from ipython>=4.0.0->ipywidgets==7.7.2) (3.0.51)\n",
      "Requirement already satisfied: pygments>=2.4.0 in /home/kyle/miniforge3/envs/docking/lib/python3.13/site-packages (from ipython>=4.0.0->ipywidgets==7.7.2) (2.19.2)\n",
      "Requirement already satisfied: stack_data in /home/kyle/miniforge3/envs/docking/lib/python3.13/site-packages (from ipython>=4.0.0->ipywidgets==7.7.2) (0.6.3)\n",
      "Requirement already satisfied: wcwidth in /home/kyle/miniforge3/envs/docking/lib/python3.13/site-packages (from prompt_toolkit<3.1.0,>=3.0.41->ipython>=4.0.0->ipywidgets==7.7.2) (0.2.13)\n",
      "Requirement already satisfied: parso<0.9.0,>=0.8.4 in /home/kyle/miniforge3/envs/docking/lib/python3.13/site-packages (from jedi>=0.16->ipython>=4.0.0->ipywidgets==7.7.2) (0.8.4)\n",
      "Requirement already satisfied: python-dateutil>=2.8.2 in /home/kyle/miniforge3/envs/docking/lib/python3.13/site-packages (from jupyter-client>=8.0.0->ipykernel>=4.5.1->ipywidgets==7.7.2) (2.9.0.post0)\n",
      "Requirement already satisfied: platformdirs>=2.5 in /home/kyle/miniforge3/envs/docking/lib/python3.13/site-packages (from jupyter-core!=5.0.*,>=4.12->ipykernel>=4.5.1->ipywidgets==7.7.2) (4.3.8)\n",
      "Requirement already satisfied: jupyter-server<3,>=2.4.0 in /home/kyle/miniforge3/envs/docking/lib/python3.13/site-packages (from notebook>=4.4.1->widgetsnbextension~=3.6.0->ipywidgets==7.7.2) (2.16.0)\n",
      "Requirement already satisfied: jupyterlab-server<3,>=2.27.1 in /home/kyle/miniforge3/envs/docking/lib/python3.13/site-packages (from notebook>=4.4.1->widgetsnbextension~=3.6.0->ipywidgets==7.7.2) (2.27.3)\n",
      "Requirement already satisfied: jupyterlab<4.5,>=4.4.4 in /home/kyle/miniforge3/envs/docking/lib/python3.13/site-packages (from notebook>=4.4.1->widgetsnbextension~=3.6.0->ipywidgets==7.7.2) (4.4.5)\n",
      "Requirement already satisfied: notebook-shim<0.3,>=0.2 in /home/kyle/miniforge3/envs/docking/lib/python3.13/site-packages (from notebook>=4.4.1->widgetsnbextension~=3.6.0->ipywidgets==7.7.2) (0.2.4)\n",
      "Requirement already satisfied: anyio>=3.1.0 in /home/kyle/miniforge3/envs/docking/lib/python3.13/site-packages (from jupyter-server<3,>=2.4.0->notebook>=4.4.1->widgetsnbextension~=3.6.0->ipywidgets==7.7.2) (4.9.0)\n",
      "Requirement already satisfied: argon2-cffi>=21.1 in /home/kyle/miniforge3/envs/docking/lib/python3.13/site-packages (from jupyter-server<3,>=2.4.0->notebook>=4.4.1->widgetsnbextension~=3.6.0->ipywidgets==7.7.2) (25.1.0)\n",
      "Requirement already satisfied: jinja2>=3.0.3 in /home/kyle/miniforge3/envs/docking/lib/python3.13/site-packages (from jupyter-server<3,>=2.4.0->notebook>=4.4.1->widgetsnbextension~=3.6.0->ipywidgets==7.7.2) (3.1.6)\n",
      "Requirement already satisfied: jupyter-events>=0.11.0 in /home/kyle/miniforge3/envs/docking/lib/python3.13/site-packages (from jupyter-server<3,>=2.4.0->notebook>=4.4.1->widgetsnbextension~=3.6.0->ipywidgets==7.7.2) (0.12.0)\n",
      "Requirement already satisfied: jupyter-server-terminals>=0.4.4 in /home/kyle/miniforge3/envs/docking/lib/python3.13/site-packages (from jupyter-server<3,>=2.4.0->notebook>=4.4.1->widgetsnbextension~=3.6.0->ipywidgets==7.7.2) (0.5.3)\n",
      "Requirement already satisfied: nbconvert>=6.4.4 in /home/kyle/miniforge3/envs/docking/lib/python3.13/site-packages (from jupyter-server<3,>=2.4.0->notebook>=4.4.1->widgetsnbextension~=3.6.0->ipywidgets==7.7.2) (7.16.6)\n",
      "Requirement already satisfied: nbformat>=5.3.0 in /home/kyle/miniforge3/envs/docking/lib/python3.13/site-packages (from jupyter-server<3,>=2.4.0->notebook>=4.4.1->widgetsnbextension~=3.6.0->ipywidgets==7.7.2) (5.10.4)\n",
      "Requirement already satisfied: overrides>=5.0 in /home/kyle/miniforge3/envs/docking/lib/python3.13/site-packages (from jupyter-server<3,>=2.4.0->notebook>=4.4.1->widgetsnbextension~=3.6.0->ipywidgets==7.7.2) (7.7.0)\n",
      "Requirement already satisfied: prometheus-client>=0.9 in /home/kyle/miniforge3/envs/docking/lib/python3.13/site-packages (from jupyter-server<3,>=2.4.0->notebook>=4.4.1->widgetsnbextension~=3.6.0->ipywidgets==7.7.2) (0.22.1)\n",
      "Requirement already satisfied: send2trash>=1.8.2 in /home/kyle/miniforge3/envs/docking/lib/python3.13/site-packages (from jupyter-server<3,>=2.4.0->notebook>=4.4.1->widgetsnbextension~=3.6.0->ipywidgets==7.7.2) (1.8.3)\n",
      "Requirement already satisfied: terminado>=0.8.3 in /home/kyle/miniforge3/envs/docking/lib/python3.13/site-packages (from jupyter-server<3,>=2.4.0->notebook>=4.4.1->widgetsnbextension~=3.6.0->ipywidgets==7.7.2) (0.18.1)\n",
      "Requirement already satisfied: websocket-client>=1.7 in /home/kyle/miniforge3/envs/docking/lib/python3.13/site-packages (from jupyter-server<3,>=2.4.0->notebook>=4.4.1->widgetsnbextension~=3.6.0->ipywidgets==7.7.2) (1.8.0)\n",
      "Requirement already satisfied: async-lru>=1.0.0 in /home/kyle/miniforge3/envs/docking/lib/python3.13/site-packages (from jupyterlab<4.5,>=4.4.4->notebook>=4.4.1->widgetsnbextension~=3.6.0->ipywidgets==7.7.2) (2.0.5)\n",
      "Requirement already satisfied: httpx>=0.25.0 in /home/kyle/miniforge3/envs/docking/lib/python3.13/site-packages (from jupyterlab<4.5,>=4.4.4->notebook>=4.4.1->widgetsnbextension~=3.6.0->ipywidgets==7.7.2) (0.28.1)\n",
      "Requirement already satisfied: jupyter-lsp>=2.0.0 in /home/kyle/miniforge3/envs/docking/lib/python3.13/site-packages (from jupyterlab<4.5,>=4.4.4->notebook>=4.4.1->widgetsnbextension~=3.6.0->ipywidgets==7.7.2) (2.2.6)\n",
      "Requirement already satisfied: setuptools>=41.1.0 in /home/kyle/miniforge3/envs/docking/lib/python3.13/site-packages (from jupyterlab<4.5,>=4.4.4->notebook>=4.4.1->widgetsnbextension~=3.6.0->ipywidgets==7.7.2) (80.9.0)\n",
      "Requirement already satisfied: babel>=2.10 in /home/kyle/miniforge3/envs/docking/lib/python3.13/site-packages (from jupyterlab-server<3,>=2.27.1->notebook>=4.4.1->widgetsnbextension~=3.6.0->ipywidgets==7.7.2) (2.17.0)\n",
      "Requirement already satisfied: json5>=0.9.0 in /home/kyle/miniforge3/envs/docking/lib/python3.13/site-packages (from jupyterlab-server<3,>=2.27.1->notebook>=4.4.1->widgetsnbextension~=3.6.0->ipywidgets==7.7.2) (0.12.0)\n",
      "Requirement already satisfied: jsonschema>=4.18.0 in /home/kyle/miniforge3/envs/docking/lib/python3.13/site-packages (from jupyterlab-server<3,>=2.27.1->notebook>=4.4.1->widgetsnbextension~=3.6.0->ipywidgets==7.7.2) (4.25.0)\n",
      "Requirement already satisfied: requests>=2.31 in /home/kyle/miniforge3/envs/docking/lib/python3.13/site-packages (from jupyterlab-server<3,>=2.27.1->notebook>=4.4.1->widgetsnbextension~=3.6.0->ipywidgets==7.7.2) (2.32.4)\n",
      "Requirement already satisfied: idna>=2.8 in /home/kyle/miniforge3/envs/docking/lib/python3.13/site-packages (from anyio>=3.1.0->jupyter-server<3,>=2.4.0->notebook>=4.4.1->widgetsnbextension~=3.6.0->ipywidgets==7.7.2) (3.10)\n",
      "Requirement already satisfied: sniffio>=1.1 in /home/kyle/miniforge3/envs/docking/lib/python3.13/site-packages (from anyio>=3.1.0->jupyter-server<3,>=2.4.0->notebook>=4.4.1->widgetsnbextension~=3.6.0->ipywidgets==7.7.2) (1.3.1)\n",
      "Requirement already satisfied: argon2-cffi-bindings in /home/kyle/miniforge3/envs/docking/lib/python3.13/site-packages (from argon2-cffi>=21.1->jupyter-server<3,>=2.4.0->notebook>=4.4.1->widgetsnbextension~=3.6.0->ipywidgets==7.7.2) (21.2.0)\n",
      "Requirement already satisfied: certifi in /home/kyle/miniforge3/envs/docking/lib/python3.13/site-packages (from httpx>=0.25.0->jupyterlab<4.5,>=4.4.4->notebook>=4.4.1->widgetsnbextension~=3.6.0->ipywidgets==7.7.2) (2025.7.14)\n",
      "Requirement already satisfied: httpcore==1.* in /home/kyle/miniforge3/envs/docking/lib/python3.13/site-packages (from httpx>=0.25.0->jupyterlab<4.5,>=4.4.4->notebook>=4.4.1->widgetsnbextension~=3.6.0->ipywidgets==7.7.2) (1.0.9)\n",
      "Requirement already satisfied: h11>=0.16 in /home/kyle/miniforge3/envs/docking/lib/python3.13/site-packages (from httpcore==1.*->httpx>=0.25.0->jupyterlab<4.5,>=4.4.4->notebook>=4.4.1->widgetsnbextension~=3.6.0->ipywidgets==7.7.2) (0.16.0)\n",
      "Requirement already satisfied: MarkupSafe>=2.0 in /home/kyle/miniforge3/envs/docking/lib/python3.13/site-packages (from jinja2>=3.0.3->jupyter-server<3,>=2.4.0->notebook>=4.4.1->widgetsnbextension~=3.6.0->ipywidgets==7.7.2) (3.0.2)\n",
      "Requirement already satisfied: attrs>=22.2.0 in /home/kyle/miniforge3/envs/docking/lib/python3.13/site-packages (from jsonschema>=4.18.0->jupyterlab-server<3,>=2.27.1->notebook>=4.4.1->widgetsnbextension~=3.6.0->ipywidgets==7.7.2) (25.3.0)\n",
      "Requirement already satisfied: jsonschema-specifications>=2023.03.6 in /home/kyle/miniforge3/envs/docking/lib/python3.13/site-packages (from jsonschema>=4.18.0->jupyterlab-server<3,>=2.27.1->notebook>=4.4.1->widgetsnbextension~=3.6.0->ipywidgets==7.7.2) (2025.4.1)\n",
      "Requirement already satisfied: referencing>=0.28.4 in /home/kyle/miniforge3/envs/docking/lib/python3.13/site-packages (from jsonschema>=4.18.0->jupyterlab-server<3,>=2.27.1->notebook>=4.4.1->widgetsnbextension~=3.6.0->ipywidgets==7.7.2) (0.36.2)\n",
      "Requirement already satisfied: rpds-py>=0.7.1 in /home/kyle/miniforge3/envs/docking/lib/python3.13/site-packages (from jsonschema>=4.18.0->jupyterlab-server<3,>=2.27.1->notebook>=4.4.1->widgetsnbextension~=3.6.0->ipywidgets==7.7.2) (0.26.0)\n",
      "Requirement already satisfied: python-json-logger>=2.0.4 in /home/kyle/miniforge3/envs/docking/lib/python3.13/site-packages (from jupyter-events>=0.11.0->jupyter-server<3,>=2.4.0->notebook>=4.4.1->widgetsnbextension~=3.6.0->ipywidgets==7.7.2) (3.3.0)\n",
      "Requirement already satisfied: pyyaml>=5.3 in /home/kyle/miniforge3/envs/docking/lib/python3.13/site-packages (from jupyter-events>=0.11.0->jupyter-server<3,>=2.4.0->notebook>=4.4.1->widgetsnbextension~=3.6.0->ipywidgets==7.7.2) (6.0.2)\n",
      "Requirement already satisfied: rfc3339-validator in /home/kyle/miniforge3/envs/docking/lib/python3.13/site-packages (from jupyter-events>=0.11.0->jupyter-server<3,>=2.4.0->notebook>=4.4.1->widgetsnbextension~=3.6.0->ipywidgets==7.7.2) (0.1.4)\n",
      "Requirement already satisfied: rfc3986-validator>=0.1.1 in /home/kyle/miniforge3/envs/docking/lib/python3.13/site-packages (from jupyter-events>=0.11.0->jupyter-server<3,>=2.4.0->notebook>=4.4.1->widgetsnbextension~=3.6.0->ipywidgets==7.7.2) (0.1.1)\n",
      "Requirement already satisfied: fqdn in /home/kyle/miniforge3/envs/docking/lib/python3.13/site-packages (from jsonschema[format-nongpl]>=4.18.0->jupyter-events>=0.11.0->jupyter-server<3,>=2.4.0->notebook>=4.4.1->widgetsnbextension~=3.6.0->ipywidgets==7.7.2) (1.5.1)\n",
      "Requirement already satisfied: isoduration in /home/kyle/miniforge3/envs/docking/lib/python3.13/site-packages (from jsonschema[format-nongpl]>=4.18.0->jupyter-events>=0.11.0->jupyter-server<3,>=2.4.0->notebook>=4.4.1->widgetsnbextension~=3.6.0->ipywidgets==7.7.2) (20.11.0)\n",
      "Requirement already satisfied: jsonpointer>1.13 in /home/kyle/miniforge3/envs/docking/lib/python3.13/site-packages (from jsonschema[format-nongpl]>=4.18.0->jupyter-events>=0.11.0->jupyter-server<3,>=2.4.0->notebook>=4.4.1->widgetsnbextension~=3.6.0->ipywidgets==7.7.2) (3.0.0)\n",
      "Requirement already satisfied: rfc3987-syntax>=1.1.0 in /home/kyle/miniforge3/envs/docking/lib/python3.13/site-packages (from jsonschema[format-nongpl]>=4.18.0->jupyter-events>=0.11.0->jupyter-server<3,>=2.4.0->notebook>=4.4.1->widgetsnbextension~=3.6.0->ipywidgets==7.7.2) (1.1.0)\n",
      "Requirement already satisfied: uri-template in /home/kyle/miniforge3/envs/docking/lib/python3.13/site-packages (from jsonschema[format-nongpl]>=4.18.0->jupyter-events>=0.11.0->jupyter-server<3,>=2.4.0->notebook>=4.4.1->widgetsnbextension~=3.6.0->ipywidgets==7.7.2) (1.3.0)\n",
      "Requirement already satisfied: webcolors>=24.6.0 in /home/kyle/miniforge3/envs/docking/lib/python3.13/site-packages (from jsonschema[format-nongpl]>=4.18.0->jupyter-events>=0.11.0->jupyter-server<3,>=2.4.0->notebook>=4.4.1->widgetsnbextension~=3.6.0->ipywidgets==7.7.2) (24.11.1)\n",
      "Requirement already satisfied: beautifulsoup4 in /home/kyle/miniforge3/envs/docking/lib/python3.13/site-packages (from nbconvert>=6.4.4->jupyter-server<3,>=2.4.0->notebook>=4.4.1->widgetsnbextension~=3.6.0->ipywidgets==7.7.2) (4.13.4)\n",
      "Requirement already satisfied: bleach!=5.0.0 in /home/kyle/miniforge3/envs/docking/lib/python3.13/site-packages (from bleach[css]!=5.0.0->nbconvert>=6.4.4->jupyter-server<3,>=2.4.0->notebook>=4.4.1->widgetsnbextension~=3.6.0->ipywidgets==7.7.2) (6.2.0)\n",
      "Requirement already satisfied: defusedxml in /home/kyle/miniforge3/envs/docking/lib/python3.13/site-packages (from nbconvert>=6.4.4->jupyter-server<3,>=2.4.0->notebook>=4.4.1->widgetsnbextension~=3.6.0->ipywidgets==7.7.2) (0.7.1)\n",
      "Requirement already satisfied: jupyterlab-pygments in /home/kyle/miniforge3/envs/docking/lib/python3.13/site-packages (from nbconvert>=6.4.4->jupyter-server<3,>=2.4.0->notebook>=4.4.1->widgetsnbextension~=3.6.0->ipywidgets==7.7.2) (0.3.0)\n",
      "Requirement already satisfied: mistune<4,>=2.0.3 in /home/kyle/miniforge3/envs/docking/lib/python3.13/site-packages (from nbconvert>=6.4.4->jupyter-server<3,>=2.4.0->notebook>=4.4.1->widgetsnbextension~=3.6.0->ipywidgets==7.7.2) (3.1.3)\n",
      "Requirement already satisfied: nbclient>=0.5.0 in /home/kyle/miniforge3/envs/docking/lib/python3.13/site-packages (from nbconvert>=6.4.4->jupyter-server<3,>=2.4.0->notebook>=4.4.1->widgetsnbextension~=3.6.0->ipywidgets==7.7.2) (0.10.2)\n",
      "Requirement already satisfied: pandocfilters>=1.4.1 in /home/kyle/miniforge3/envs/docking/lib/python3.13/site-packages (from nbconvert>=6.4.4->jupyter-server<3,>=2.4.0->notebook>=4.4.1->widgetsnbextension~=3.6.0->ipywidgets==7.7.2) (1.5.1)\n",
      "Requirement already satisfied: webencodings in /home/kyle/miniforge3/envs/docking/lib/python3.13/site-packages (from bleach!=5.0.0->bleach[css]!=5.0.0->nbconvert>=6.4.4->jupyter-server<3,>=2.4.0->notebook>=4.4.1->widgetsnbextension~=3.6.0->ipywidgets==7.7.2) (0.5.1)\n",
      "Requirement already satisfied: tinycss2<1.5,>=1.1.0 in /home/kyle/miniforge3/envs/docking/lib/python3.13/site-packages (from bleach[css]!=5.0.0->nbconvert>=6.4.4->jupyter-server<3,>=2.4.0->notebook>=4.4.1->widgetsnbextension~=3.6.0->ipywidgets==7.7.2) (1.4.0)\n",
      "Requirement already satisfied: fastjsonschema>=2.15 in /home/kyle/miniforge3/envs/docking/lib/python3.13/site-packages (from nbformat>=5.3.0->jupyter-server<3,>=2.4.0->notebook>=4.4.1->widgetsnbextension~=3.6.0->ipywidgets==7.7.2) (2.21.1)\n",
      "Requirement already satisfied: ptyprocess>=0.5 in /home/kyle/miniforge3/envs/docking/lib/python3.13/site-packages (from pexpect>4.3->ipython>=4.0.0->ipywidgets==7.7.2) (0.7.0)\n",
      "Requirement already satisfied: six>=1.5 in /home/kyle/miniforge3/envs/docking/lib/python3.13/site-packages (from python-dateutil>=2.8.2->jupyter-client>=8.0.0->ipykernel>=4.5.1->ipywidgets==7.7.2) (1.17.0)\n",
      "Requirement already satisfied: charset_normalizer<4,>=2 in /home/kyle/miniforge3/envs/docking/lib/python3.13/site-packages (from requests>=2.31->jupyterlab-server<3,>=2.27.1->notebook>=4.4.1->widgetsnbextension~=3.6.0->ipywidgets==7.7.2) (3.4.2)\n",
      "Requirement already satisfied: urllib3<3,>=1.21.1 in /home/kyle/miniforge3/envs/docking/lib/python3.13/site-packages (from requests>=2.31->jupyterlab-server<3,>=2.27.1->notebook>=4.4.1->widgetsnbextension~=3.6.0->ipywidgets==7.7.2) (2.5.0)\n",
      "Requirement already satisfied: lark>=1.2.2 in /home/kyle/miniforge3/envs/docking/lib/python3.13/site-packages (from rfc3987-syntax>=1.1.0->jsonschema[format-nongpl]>=4.18.0->jupyter-events>=0.11.0->jupyter-server<3,>=2.4.0->notebook>=4.4.1->widgetsnbextension~=3.6.0->ipywidgets==7.7.2) (1.2.2)\n",
      "Requirement already satisfied: cffi>=1.0.1 in /home/kyle/miniforge3/envs/docking/lib/python3.13/site-packages (from argon2-cffi-bindings->argon2-cffi>=21.1->jupyter-server<3,>=2.4.0->notebook>=4.4.1->widgetsnbextension~=3.6.0->ipywidgets==7.7.2) (1.17.1)\n",
      "Requirement already satisfied: pycparser in /home/kyle/miniforge3/envs/docking/lib/python3.13/site-packages (from cffi>=1.0.1->argon2-cffi-bindings->argon2-cffi>=21.1->jupyter-server<3,>=2.4.0->notebook>=4.4.1->widgetsnbextension~=3.6.0->ipywidgets==7.7.2) (2.22)\n",
      "Requirement already satisfied: soupsieve>1.2 in /home/kyle/miniforge3/envs/docking/lib/python3.13/site-packages (from beautifulsoup4->nbconvert>=6.4.4->jupyter-server<3,>=2.4.0->notebook>=4.4.1->widgetsnbextension~=3.6.0->ipywidgets==7.7.2) (2.7)\n",
      "Requirement already satisfied: typing-extensions>=4.0.0 in /home/kyle/miniforge3/envs/docking/lib/python3.13/site-packages (from beautifulsoup4->nbconvert>=6.4.4->jupyter-server<3,>=2.4.0->notebook>=4.4.1->widgetsnbextension~=3.6.0->ipywidgets==7.7.2) (4.14.1)\n",
      "Requirement already satisfied: arrow>=0.15.0 in /home/kyle/miniforge3/envs/docking/lib/python3.13/site-packages (from isoduration->jsonschema[format-nongpl]>=4.18.0->jupyter-events>=0.11.0->jupyter-server<3,>=2.4.0->notebook>=4.4.1->widgetsnbextension~=3.6.0->ipywidgets==7.7.2) (1.3.0)\n",
      "Requirement already satisfied: types-python-dateutil>=2.8.10 in /home/kyle/miniforge3/envs/docking/lib/python3.13/site-packages (from arrow>=0.15.0->isoduration->jsonschema[format-nongpl]>=4.18.0->jupyter-events>=0.11.0->jupyter-server<3,>=2.4.0->notebook>=4.4.1->widgetsnbextension~=3.6.0->ipywidgets==7.7.2) (2.9.0.20250708)\n",
      "Requirement already satisfied: executing>=1.2.0 in /home/kyle/miniforge3/envs/docking/lib/python3.13/site-packages (from stack_data->ipython>=4.0.0->ipywidgets==7.7.2) (2.2.0)\n",
      "Requirement already satisfied: asttokens>=2.1.0 in /home/kyle/miniforge3/envs/docking/lib/python3.13/site-packages (from stack_data->ipython>=4.0.0->ipywidgets==7.7.2) (3.0.0)\n",
      "Requirement already satisfied: pure_eval in /home/kyle/miniforge3/envs/docking/lib/python3.13/site-packages (from stack_data->ipython>=4.0.0->ipywidgets==7.7.2) (0.2.3)\n",
      "Requirement already satisfied: rdkit in /home/kyle/miniforge3/envs/docking/lib/python3.13/site-packages (2025.3.3)\n",
      "Requirement already satisfied: numpy in /home/kyle/miniforge3/envs/docking/lib/python3.13/site-packages (from rdkit) (2.3.2)\n",
      "Requirement already satisfied: Pillow in /home/kyle/miniforge3/envs/docking/lib/python3.13/site-packages (from rdkit) (11.3.0)\n",
      "Requirement already satisfied: qiskit==1.4.3 in /home/kyle/miniforge3/envs/docking/lib/python3.13/site-packages (1.4.3)\n",
      "Requirement already satisfied: rustworkx>=0.15.0 in /home/kyle/miniforge3/envs/docking/lib/python3.13/site-packages (from qiskit==1.4.3) (0.16.0)\n",
      "Requirement already satisfied: numpy<3,>=1.17 in /home/kyle/miniforge3/envs/docking/lib/python3.13/site-packages (from qiskit==1.4.3) (2.3.2)\n",
      "Requirement already satisfied: scipy>=1.5 in /home/kyle/miniforge3/envs/docking/lib/python3.13/site-packages (from qiskit==1.4.3) (1.16.0)\n",
      "Requirement already satisfied: sympy>=1.3 in /home/kyle/miniforge3/envs/docking/lib/python3.13/site-packages (from qiskit==1.4.3) (1.14.0)\n",
      "Requirement already satisfied: dill>=0.3 in /home/kyle/miniforge3/envs/docking/lib/python3.13/site-packages (from qiskit==1.4.3) (0.4.0)\n",
      "Requirement already satisfied: python-dateutil>=2.8.0 in /home/kyle/miniforge3/envs/docking/lib/python3.13/site-packages (from qiskit==1.4.3) (2.9.0.post0)\n",
      "Requirement already satisfied: stevedore>=3.0.0 in /home/kyle/miniforge3/envs/docking/lib/python3.13/site-packages (from qiskit==1.4.3) (5.4.1)\n",
      "Requirement already satisfied: typing-extensions in /home/kyle/miniforge3/envs/docking/lib/python3.13/site-packages (from qiskit==1.4.3) (4.14.1)\n",
      "Requirement already satisfied: symengine<0.14,>=0.11 in /home/kyle/miniforge3/envs/docking/lib/python3.13/site-packages (from qiskit==1.4.3) (0.13.0)\n",
      "Requirement already satisfied: six>=1.5 in /home/kyle/miniforge3/envs/docking/lib/python3.13/site-packages (from python-dateutil>=2.8.0->qiskit==1.4.3) (1.17.0)\n",
      "Requirement already satisfied: pbr>=2.0.0 in /home/kyle/miniforge3/envs/docking/lib/python3.13/site-packages (from stevedore>=3.0.0->qiskit==1.4.3) (6.1.1)\n",
      "Requirement already satisfied: setuptools in /home/kyle/miniforge3/envs/docking/lib/python3.13/site-packages (from pbr>=2.0.0->stevedore>=3.0.0->qiskit==1.4.3) (80.9.0)\n",
      "Requirement already satisfied: mpmath<1.4,>=1.1.0 in /home/kyle/miniforge3/envs/docking/lib/python3.13/site-packages (from sympy>=1.3->qiskit==1.4.3) (1.3.0)\n",
      "Requirement already satisfied: qiskit-nature in /home/kyle/miniforge3/envs/docking/lib/python3.13/site-packages (0.7.2)\n",
      "Requirement already satisfied: qiskit>=0.44 in /home/kyle/miniforge3/envs/docking/lib/python3.13/site-packages (from qiskit-nature) (1.4.3)\n",
      "Requirement already satisfied: qiskit-algorithms>=0.2.1 in /home/kyle/miniforge3/envs/docking/lib/python3.13/site-packages (from qiskit-nature) (0.3.1)\n",
      "Requirement already satisfied: scipy>=1.4 in /home/kyle/miniforge3/envs/docking/lib/python3.13/site-packages (from qiskit-nature) (1.16.0)\n",
      "Requirement already satisfied: numpy>=1.17 in /home/kyle/miniforge3/envs/docking/lib/python3.13/site-packages (from qiskit-nature) (2.3.2)\n",
      "Requirement already satisfied: psutil>=5 in /home/kyle/miniforge3/envs/docking/lib/python3.13/site-packages (from qiskit-nature) (7.0.0)\n",
      "Requirement already satisfied: setuptools>=40.1.0 in /home/kyle/miniforge3/envs/docking/lib/python3.13/site-packages (from qiskit-nature) (80.9.0)\n",
      "Requirement already satisfied: typing-extensions in /home/kyle/miniforge3/envs/docking/lib/python3.13/site-packages (from qiskit-nature) (4.14.1)\n",
      "Requirement already satisfied: h5py in /home/kyle/miniforge3/envs/docking/lib/python3.13/site-packages (from qiskit-nature) (3.14.0)\n",
      "Requirement already satisfied: rustworkx>=0.12 in /home/kyle/miniforge3/envs/docking/lib/python3.13/site-packages (from qiskit-nature) (0.16.0)\n",
      "Requirement already satisfied: sympy>=1.3 in /home/kyle/miniforge3/envs/docking/lib/python3.13/site-packages (from qiskit>=0.44->qiskit-nature) (1.14.0)\n",
      "Requirement already satisfied: dill>=0.3 in /home/kyle/miniforge3/envs/docking/lib/python3.13/site-packages (from qiskit>=0.44->qiskit-nature) (0.4.0)\n",
      "Requirement already satisfied: python-dateutil>=2.8.0 in /home/kyle/miniforge3/envs/docking/lib/python3.13/site-packages (from qiskit>=0.44->qiskit-nature) (2.9.0.post0)\n",
      "Requirement already satisfied: stevedore>=3.0.0 in /home/kyle/miniforge3/envs/docking/lib/python3.13/site-packages (from qiskit>=0.44->qiskit-nature) (5.4.1)\n",
      "Requirement already satisfied: symengine<0.14,>=0.11 in /home/kyle/miniforge3/envs/docking/lib/python3.13/site-packages (from qiskit>=0.44->qiskit-nature) (0.13.0)\n",
      "Requirement already satisfied: six>=1.5 in /home/kyle/miniforge3/envs/docking/lib/python3.13/site-packages (from python-dateutil>=2.8.0->qiskit>=0.44->qiskit-nature) (1.17.0)\n",
      "Requirement already satisfied: pbr>=2.0.0 in /home/kyle/miniforge3/envs/docking/lib/python3.13/site-packages (from stevedore>=3.0.0->qiskit>=0.44->qiskit-nature) (6.1.1)\n",
      "Requirement already satisfied: mpmath<1.4,>=1.1.0 in /home/kyle/miniforge3/envs/docking/lib/python3.13/site-packages (from sympy>=1.3->qiskit>=0.44->qiskit-nature) (1.3.0)\n",
      "Channels:\n",
      " - conda-forge\n",
      "Platform: linux-64\n",
      "Collecting package metadata (repodata.json): done\n",
      "Solving environment: done\n",
      "\n",
      "\n",
      "==> WARNING: A newer version of conda exists. <==\n",
      "    current version: 25.3.0\n",
      "    latest version: 25.5.1\n",
      "\n",
      "Please update conda by running\n",
      "\n",
      "    $ conda update -n base -c conda-forge conda\n",
      "\n",
      "\n",
      "\n",
      "# All requested packages already installed.\n",
      "\n"
     ]
    },
    {
     "name": "stdout",
     "output_type": "stream",
     "text": [
      "  Downloading jupyter_server_terminals-0.5.3-py3-none-any.whl.metadata (5.6 kB)\n",
      "Collecting nbconvert>=6.4.4 (from jupyter-server<3,>=2.4.0->notebook>=4.4.1->widgetsnbextension~=3.6.10->ipywidgets<8,>=7)\n",
      "  Downloading nbconvert-7.16.6-py3-none-any.whl.metadata (8.5 kB)\n",
      "Collecting nbformat>=5.3.0 (from jupyter-server<3,>=2.4.0->notebook>=4.4.1->widgetsnbextension~=3.6.10->ipywidgets<8,>=7)\n",
      "  Downloading nbformat-5.10.4-py3-none-any.whl.metadata (3.6 kB)\n",
      "Collecting overrides>=5.0 (from jupyter-server<3,>=2.4.0->notebook>=4.4.1->widgetsnbextension~=3.6.10->ipywidgets<8,>=7)\n",
      "  Downloading overrides-7.7.0-py3-none-any.whl.metadata (5.8 kB)\n",
      "Requirement already satisfied: packaging>=22.0 in /home/kyle/miniforge3/envs/docking/lib/python3.13/site-packages (from jupyter-server<3,>=2.4.0->notebook>=4.4.1->widgetsnbextension~=3.6.10->ipywidgets<8,>=7) (25.0)\n",
      "Collecting prometheus-client>=0.9 (from jupyter-server<3,>=2.4.0->notebook>=4.4.1->widgetsnbextension~=3.6.10->ipywidgets<8,>=7)\n",
      "  Downloading prometheus_client-0.22.1-py3-none-any.whl.metadata (1.9 kB)\n",
      "Collecting pyzmq>=24 (from jupyter-server<3,>=2.4.0->notebook>=4.4.1->widgetsnbextension~=3.6.10->ipywidgets<8,>=7)\n",
      "  Downloading pyzmq-27.0.0-cp312-abi3-manylinux_2_27_x86_64.manylinux_2_28_x86_64.whl.metadata (6.0 kB)\n",
      "Collecting send2trash>=1.8.2 (from jupyter-server<3,>=2.4.0->notebook>=4.4.1->widgetsnbextension~=3.6.10->ipywidgets<8,>=7)\n",
      "  Downloading Send2Trash-1.8.3-py3-none-any.whl.metadata (4.0 kB)\n",
      "Collecting terminado>=0.8.3 (from jupyter-server<3,>=2.4.0->notebook>=4.4.1->widgetsnbextension~=3.6.10->ipywidgets<8,>=7)\n",
      "  Downloading terminado-0.18.1-py3-none-any.whl.metadata (5.8 kB)\n",
      "Collecting websocket-client>=1.7 (from jupyter-server<3,>=2.4.0->notebook>=4.4.1->widgetsnbextension~=3.6.10->ipywidgets<8,>=7)\n",
      "  Downloading websocket_client-1.8.0-py3-none-any.whl.metadata (8.0 kB)\n",
      "Collecting async-lru>=1.0.0 (from jupyterlab<4.5,>=4.4.4->notebook>=4.4.1->widgetsnbextension~=3.6.10->ipywidgets<8,>=7)\n",
      "  Downloading async_lru-2.0.5-py3-none-any.whl.metadata (4.5 kB)\n",
      "Collecting httpx>=0.25.0 (from jupyterlab<4.5,>=4.4.4->notebook>=4.4.1->widgetsnbextension~=3.6.10->ipywidgets<8,>=7)\n",
      "  Downloading httpx-0.28.1-py3-none-any.whl.metadata (7.1 kB)\n",
      "Collecting ipykernel>=6.5.0 (from jupyterlab<4.5,>=4.4.4->notebook>=4.4.1->widgetsnbextension~=3.6.10->ipywidgets<8,>=7)\n",
      "  Downloading ipykernel-6.30.0-py3-none-any.whl.metadata (6.2 kB)\n",
      "Collecting jupyter-lsp>=2.0.0 (from jupyterlab<4.5,>=4.4.4->notebook>=4.4.1->widgetsnbextension~=3.6.10->ipywidgets<8,>=7)\n",
      "  Downloading jupyter_lsp-2.2.6-py3-none-any.whl.metadata (1.8 kB)\n",
      "Collecting setuptools>=41.1.0 (from jupyterlab<4.5,>=4.4.4->notebook>=4.4.1->widgetsnbextension~=3.6.10->ipywidgets<8,>=7)\n",
      "  Using cached setuptools-80.9.0-py3-none-any.whl.metadata (6.6 kB)\n",
      "Collecting babel>=2.10 (from jupyterlab-server<3,>=2.27.1->notebook>=4.4.1->widgetsnbextension~=3.6.10->ipywidgets<8,>=7)\n",
      "  Downloading babel-2.17.0-py3-none-any.whl.metadata (2.0 kB)\n",
      "Collecting json5>=0.9.0 (from jupyterlab-server<3,>=2.27.1->notebook>=4.4.1->widgetsnbextension~=3.6.10->ipywidgets<8,>=7)\n",
      "  Downloading json5-0.12.0-py3-none-any.whl.metadata (36 kB)\n",
      "Collecting jsonschema>=4.18.0 (from jupyterlab-server<3,>=2.27.1->notebook>=4.4.1->widgetsnbextension~=3.6.10->ipywidgets<8,>=7)\n",
      "  Downloading jsonschema-4.25.0-py3-none-any.whl.metadata (7.7 kB)\n",
      "Collecting requests>=2.31 (from jupyterlab-server<3,>=2.27.1->notebook>=4.4.1->widgetsnbextension~=3.6.10->ipywidgets<8,>=7)\n",
      "  Downloading requests-2.32.4-py3-none-any.whl.metadata (4.9 kB)\n",
      "Collecting idna>=2.8 (from anyio>=3.1.0->jupyter-server<3,>=2.4.0->notebook>=4.4.1->widgetsnbextension~=3.6.10->ipywidgets<8,>=7)\n",
      "  Downloading idna-3.10-py3-none-any.whl.metadata (10 kB)\n",
      "Collecting sniffio>=1.1 (from anyio>=3.1.0->jupyter-server<3,>=2.4.0->notebook>=4.4.1->widgetsnbextension~=3.6.10->ipywidgets<8,>=7)\n",
      "  Downloading sniffio-1.3.1-py3-none-any.whl.metadata (3.9 kB)\n",
      "Collecting argon2-cffi-bindings (from argon2-cffi>=21.1->jupyter-server<3,>=2.4.0->notebook>=4.4.1->widgetsnbextension~=3.6.10->ipywidgets<8,>=7)\n",
      "  Downloading argon2_cffi_bindings-21.2.0-cp36-abi3-manylinux_2_17_x86_64.manylinux2014_x86_64.whl.metadata (6.7 kB)\n",
      "Collecting certifi (from httpx>=0.25.0->jupyterlab<4.5,>=4.4.4->notebook>=4.4.1->widgetsnbextension~=3.6.10->ipywidgets<8,>=7)\n",
      "  Downloading certifi-2025.7.14-py3-none-any.whl.metadata (2.4 kB)\n",
      "Collecting httpcore==1.* (from httpx>=0.25.0->jupyterlab<4.5,>=4.4.4->notebook>=4.4.1->widgetsnbextension~=3.6.10->ipywidgets<8,>=7)\n",
      "  Downloading httpcore-1.0.9-py3-none-any.whl.metadata (21 kB)\n",
      "Collecting h11>=0.16 (from httpcore==1.*->httpx>=0.25.0->jupyterlab<4.5,>=4.4.4->notebook>=4.4.1->widgetsnbextension~=3.6.10->ipywidgets<8,>=7)\n",
      "  Downloading h11-0.16.0-py3-none-any.whl.metadata (8.3 kB)\n",
      "Collecting debugpy>=1.6.5 (from ipykernel>=6.5.0->jupyterlab<4.5,>=4.4.4->notebook>=4.4.1->widgetsnbextension~=3.6.10->ipywidgets<8,>=7)\n",
      "  Downloading debugpy-1.8.15-cp313-cp313-manylinux_2_5_x86_64.manylinux1_x86_64.manylinux_2_17_x86_64.manylinux2014_x86_64.whl.metadata (1.3 kB)\n",
      "Collecting nest-asyncio>=1.4 (from ipykernel>=6.5.0->jupyterlab<4.5,>=4.4.4->notebook>=4.4.1->widgetsnbextension~=3.6.10->ipywidgets<8,>=7)\n",
      "  Downloading nest_asyncio-1.6.0-py3-none-any.whl.metadata (2.8 kB)\n",
      "Collecting psutil>=5.7 (from ipykernel>=6.5.0->jupyterlab<4.5,>=4.4.4->notebook>=4.4.1->widgetsnbextension~=3.6.10->ipywidgets<8,>=7)\n",
      "  Downloading psutil-7.0.0-cp36-abi3-manylinux_2_12_x86_64.manylinux2010_x86_64.manylinux_2_17_x86_64.manylinux2014_x86_64.whl.metadata (22 kB)\n",
      "Collecting MarkupSafe>=2.0 (from jinja2>=3.0.3->jupyter-server<3,>=2.4.0->notebook>=4.4.1->widgetsnbextension~=3.6.10->ipywidgets<8,>=7)\n",
      "  Downloading MarkupSafe-3.0.2-cp313-cp313-manylinux_2_17_x86_64.manylinux2014_x86_64.whl.metadata (4.0 kB)\n",
      "Collecting attrs>=22.2.0 (from jsonschema>=4.18.0->jupyterlab-server<3,>=2.27.1->notebook>=4.4.1->widgetsnbextension~=3.6.10->ipywidgets<8,>=7)\n",
      "  Downloading attrs-25.3.0-py3-none-any.whl.metadata (10 kB)\n",
      "Collecting jsonschema-specifications>=2023.03.6 (from jsonschema>=4.18.0->jupyterlab-server<3,>=2.27.1->notebook>=4.4.1->widgetsnbextension~=3.6.10->ipywidgets<8,>=7)\n",
      "  Downloading jsonschema_specifications-2025.4.1-py3-none-any.whl.metadata (2.9 kB)\n",
      "Collecting referencing>=0.28.4 (from jsonschema>=4.18.0->jupyterlab-server<3,>=2.27.1->notebook>=4.4.1->widgetsnbextension~=3.6.10->ipywidgets<8,>=7)\n",
      "  Downloading referencing-0.36.2-py3-none-any.whl.metadata (2.8 kB)\n",
      "Collecting rpds-py>=0.7.1 (from jsonschema>=4.18.0->jupyterlab-server<3,>=2.27.1->notebook>=4.4.1->widgetsnbextension~=3.6.10->ipywidgets<8,>=7)\n",
      "  Downloading rpds_py-0.26.0-cp313-cp313-manylinux_2_17_x86_64.manylinux2014_x86_64.whl.metadata (4.2 kB)\n",
      "Collecting python-dateutil>=2.8.2 (from jupyter-client>=7.4.4->jupyter-server<3,>=2.4.0->notebook>=4.4.1->widgetsnbextension~=3.6.10->ipywidgets<8,>=7)\n",
      "  Downloading python_dateutil-2.9.0.post0-py2.py3-none-any.whl.metadata (8.4 kB)\n",
      "Collecting platformdirs>=2.5 (from jupyter-core!=5.0.*,>=4.12->jupyter-server<3,>=2.4.0->notebook>=4.4.1->widgetsnbextension~=3.6.10->ipywidgets<8,>=7)\n",
      "  Downloading platformdirs-4.3.8-py3-none-any.whl.metadata (12 kB)\n",
      "Collecting python-json-logger>=2.0.4 (from jupyter-events>=0.11.0->jupyter-server<3,>=2.4.0->notebook>=4.4.1->widgetsnbextension~=3.6.10->ipywidgets<8,>=7)\n",
      "  Downloading python_json_logger-3.3.0-py3-none-any.whl.metadata (4.0 kB)\n",
      "Collecting pyyaml>=5.3 (from jupyter-events>=0.11.0->jupyter-server<3,>=2.4.0->notebook>=4.4.1->widgetsnbextension~=3.6.10->ipywidgets<8,>=7)\n",
      "  Downloading PyYAML-6.0.2-cp313-cp313-manylinux_2_17_x86_64.manylinux2014_x86_64.whl.metadata (2.1 kB)\n",
      "Collecting rfc3339-validator (from jupyter-events>=0.11.0->jupyter-server<3,>=2.4.0->notebook>=4.4.1->widgetsnbextension~=3.6.10->ipywidgets<8,>=7)\n",
      "  Downloading rfc3339_validator-0.1.4-py2.py3-none-any.whl.metadata (1.5 kB)\n",
      "Collecting rfc3986-validator>=0.1.1 (from jupyter-events>=0.11.0->jupyter-server<3,>=2.4.0->notebook>=4.4.1->widgetsnbextension~=3.6.10->ipywidgets<8,>=7)\n",
      "  Downloading rfc3986_validator-0.1.1-py2.py3-none-any.whl.metadata (1.7 kB)\n",
      "Collecting fqdn (from jsonschema[format-nongpl]>=4.18.0->jupyter-events>=0.11.0->jupyter-server<3,>=2.4.0->notebook>=4.4.1->widgetsnbextension~=3.6.10->ipywidgets<8,>=7)\n"
     ]
    },
    {
     "name": "stdout",
     "output_type": "stream",
     "text": [
      "  Downloading fqdn-1.5.1-py3-none-any.whl.metadata (1.4 kB)\n",
      "Collecting isoduration (from jsonschema[format-nongpl]>=4.18.0->jupyter-events>=0.11.0->jupyter-server<3,>=2.4.0->notebook>=4.4.1->widgetsnbextension~=3.6.10->ipywidgets<8,>=7)\n",
      "  Downloading isoduration-20.11.0-py3-none-any.whl.metadata (5.7 kB)\n",
      "Collecting jsonpointer>1.13 (from jsonschema[format-nongpl]>=4.18.0->jupyter-events>=0.11.0->jupyter-server<3,>=2.4.0->notebook>=4.4.1->widgetsnbextension~=3.6.10->ipywidgets<8,>=7)\n",
      "  Downloading jsonpointer-3.0.0-py2.py3-none-any.whl.metadata (2.3 kB)\n",
      "Collecting rfc3987-syntax>=1.1.0 (from jsonschema[format-nongpl]>=4.18.0->jupyter-events>=0.11.0->jupyter-server<3,>=2.4.0->notebook>=4.4.1->widgetsnbextension~=3.6.10->ipywidgets<8,>=7)\n",
      "  Downloading rfc3987_syntax-1.1.0-py3-none-any.whl.metadata (7.7 kB)\n",
      "Collecting uri-template (from jsonschema[format-nongpl]>=4.18.0->jupyter-events>=0.11.0->jupyter-server<3,>=2.4.0->notebook>=4.4.1->widgetsnbextension~=3.6.10->ipywidgets<8,>=7)\n",
      "  Downloading uri_template-1.3.0-py3-none-any.whl.metadata (8.8 kB)\n",
      "Collecting webcolors>=24.6.0 (from jsonschema[format-nongpl]>=4.18.0->jupyter-events>=0.11.0->jupyter-server<3,>=2.4.0->notebook>=4.4.1->widgetsnbextension~=3.6.10->ipywidgets<8,>=7)\n",
      "  Downloading webcolors-24.11.1-py3-none-any.whl.metadata (2.2 kB)\n",
      "Collecting beautifulsoup4 (from nbconvert>=6.4.4->jupyter-server<3,>=2.4.0->notebook>=4.4.1->widgetsnbextension~=3.6.10->ipywidgets<8,>=7)\n",
      "  Downloading beautifulsoup4-4.13.4-py3-none-any.whl.metadata (3.8 kB)\n",
      "Collecting bleach!=5.0.0 (from bleach[css]!=5.0.0->nbconvert>=6.4.4->jupyter-server<3,>=2.4.0->notebook>=4.4.1->widgetsnbextension~=3.6.10->ipywidgets<8,>=7)\n",
      "  Downloading bleach-6.2.0-py3-none-any.whl.metadata (30 kB)\n",
      "Collecting defusedxml (from nbconvert>=6.4.4->jupyter-server<3,>=2.4.0->notebook>=4.4.1->widgetsnbextension~=3.6.10->ipywidgets<8,>=7)\n",
      "  Downloading defusedxml-0.7.1-py2.py3-none-any.whl.metadata (32 kB)\n",
      "Collecting jupyterlab-pygments (from nbconvert>=6.4.4->jupyter-server<3,>=2.4.0->notebook>=4.4.1->widgetsnbextension~=3.6.10->ipywidgets<8,>=7)\n",
      "  Downloading jupyterlab_pygments-0.3.0-py3-none-any.whl.metadata (4.4 kB)\n",
      "Collecting mistune<4,>=2.0.3 (from nbconvert>=6.4.4->jupyter-server<3,>=2.4.0->notebook>=4.4.1->widgetsnbextension~=3.6.10->ipywidgets<8,>=7)\n",
      "  Downloading mistune-3.1.3-py3-none-any.whl.metadata (1.8 kB)\n",
      "Collecting nbclient>=0.5.0 (from nbconvert>=6.4.4->jupyter-server<3,>=2.4.0->notebook>=4.4.1->widgetsnbextension~=3.6.10->ipywidgets<8,>=7)\n",
      "  Downloading nbclient-0.10.2-py3-none-any.whl.metadata (8.3 kB)\n",
      "Collecting pandocfilters>=1.4.1 (from nbconvert>=6.4.4->jupyter-server<3,>=2.4.0->notebook>=4.4.1->widgetsnbextension~=3.6.10->ipywidgets<8,>=7)\n",
      "  Downloading pandocfilters-1.5.1-py2.py3-none-any.whl.metadata (9.0 kB)\n",
      "Collecting webencodings (from bleach!=5.0.0->bleach[css]!=5.0.0->nbconvert>=6.4.4->jupyter-server<3,>=2.4.0->notebook>=4.4.1->widgetsnbextension~=3.6.10->ipywidgets<8,>=7)\n",
      "  Downloading webencodings-0.5.1-py2.py3-none-any.whl.metadata (2.1 kB)\n",
      "Collecting tinycss2<1.5,>=1.1.0 (from bleach[css]!=5.0.0->nbconvert>=6.4.4->jupyter-server<3,>=2.4.0->notebook>=4.4.1->widgetsnbextension~=3.6.10->ipywidgets<8,>=7)\n",
      "  Downloading tinycss2-1.4.0-py3-none-any.whl.metadata (3.0 kB)\n",
      "Collecting fastjsonschema>=2.15 (from nbformat>=5.3.0->jupyter-server<3,>=2.4.0->notebook>=4.4.1->widgetsnbextension~=3.6.10->ipywidgets<8,>=7)\n",
      "  Downloading fastjsonschema-2.21.1-py3-none-any.whl.metadata (2.2 kB)\n",
      "Collecting ptyprocess>=0.5 (from pexpect>4.3->ipython>=4.0.0->ipywidgets<8,>=7)\n",
      "  Downloading ptyprocess-0.7.0-py2.py3-none-any.whl.metadata (1.3 kB)\n",
      "Collecting six>=1.5 (from python-dateutil>=2.8.2->jupyter-client>=7.4.4->jupyter-server<3,>=2.4.0->notebook>=4.4.1->widgetsnbextension~=3.6.10->ipywidgets<8,>=7)\n",
      "  Downloading six-1.17.0-py2.py3-none-any.whl.metadata (1.7 kB)\n",
      "Collecting charset_normalizer<4,>=2 (from requests>=2.31->jupyterlab-server<3,>=2.27.1->notebook>=4.4.1->widgetsnbextension~=3.6.10->ipywidgets<8,>=7)\n",
      "  Downloading charset_normalizer-3.4.2-cp313-cp313-manylinux_2_17_x86_64.manylinux2014_x86_64.whl.metadata (35 kB)\n",
      "Collecting urllib3<3,>=1.21.1 (from requests>=2.31->jupyterlab-server<3,>=2.27.1->notebook>=4.4.1->widgetsnbextension~=3.6.10->ipywidgets<8,>=7)\n",
      "  Downloading urllib3-2.5.0-py3-none-any.whl.metadata (6.5 kB)\n",
      "Collecting lark>=1.2.2 (from rfc3987-syntax>=1.1.0->jsonschema[format-nongpl]>=4.18.0->jupyter-events>=0.11.0->jupyter-server<3,>=2.4.0->notebook>=4.4.1->widgetsnbextension~=3.6.10->ipywidgets<8,>=7)\n",
      "  Downloading lark-1.2.2-py3-none-any.whl.metadata (1.8 kB)\n",
      "Collecting cffi>=1.0.1 (from argon2-cffi-bindings->argon2-cffi>=21.1->jupyter-server<3,>=2.4.0->notebook>=4.4.1->widgetsnbextension~=3.6.10->ipywidgets<8,>=7)\n",
      "  Downloading cffi-1.17.1-cp313-cp313-manylinux_2_17_x86_64.manylinux2014_x86_64.whl.metadata (1.5 kB)\n",
      "Collecting pycparser (from cffi>=1.0.1->argon2-cffi-bindings->argon2-cffi>=21.1->jupyter-server<3,>=2.4.0->notebook>=4.4.1->widgetsnbextension~=3.6.10->ipywidgets<8,>=7)\n",
      "  Downloading pycparser-2.22-py3-none-any.whl.metadata (943 bytes)\n",
      "Collecting soupsieve>1.2 (from beautifulsoup4->nbconvert>=6.4.4->jupyter-server<3,>=2.4.0->notebook>=4.4.1->widgetsnbextension~=3.6.10->ipywidgets<8,>=7)\n",
      "  Downloading soupsieve-2.7-py3-none-any.whl.metadata (4.6 kB)\n",
      "Requirement already satisfied: typing-extensions>=4.0.0 in /home/kyle/miniforge3/envs/docking/lib/python3.13/site-packages (from beautifulsoup4->nbconvert>=6.4.4->jupyter-server<3,>=2.4.0->notebook>=4.4.1->widgetsnbextension~=3.6.10->ipywidgets<8,>=7) (4.14.1)\n",
      "Collecting arrow>=0.15.0 (from isoduration->jsonschema[format-nongpl]>=4.18.0->jupyter-events>=0.11.0->jupyter-server<3,>=2.4.0->notebook>=4.4.1->widgetsnbextension~=3.6.10->ipywidgets<8,>=7)\n",
      "  Downloading arrow-1.3.0-py3-none-any.whl.metadata (7.5 kB)\n",
      "Collecting types-python-dateutil>=2.8.10 (from arrow>=0.15.0->isoduration->jsonschema[format-nongpl]>=4.18.0->jupyter-events>=0.11.0->jupyter-server<3,>=2.4.0->notebook>=4.4.1->widgetsnbextension~=3.6.10->ipywidgets<8,>=7)\n",
      "  Downloading types_python_dateutil-2.9.0.20250708-py3-none-any.whl.metadata (1.9 kB)\n",
      "Collecting executing>=1.2.0 (from stack_data->ipython>=4.0.0->ipywidgets<8,>=7)\n",
      "  Downloading executing-2.2.0-py2.py3-none-any.whl.metadata (8.9 kB)\n",
      "Collecting asttokens>=2.1.0 (from stack_data->ipython>=4.0.0->ipywidgets<8,>=7)\n",
      "  Downloading asttokens-3.0.0-py3-none-any.whl.metadata (4.7 kB)\n",
      "Collecting pure-eval (from stack_data->ipython>=4.0.0->ipywidgets<8,>=7)\n",
      "  Downloading pure_eval-0.2.3-py3-none-any.whl.metadata (6.3 kB)\n",
      "Downloading ipywidgets-7.8.5-py2.py3-none-any.whl (124 kB)\n",
      "Downloading ipython_genutils-0.2.0-py2.py3-none-any.whl (26 kB)\n",
      "Downloading jupyterlab_widgets-1.1.11-py3-none-any.whl (246 kB)\n",
      "Downloading widgetsnbextension-3.6.10-py2.py3-none-any.whl (1.6 MB)\n",
      "\u001b[2K   \u001b[90m━━━━━━━━━━━━━━━━━━━━━━━━━━━━━━━━━━━━━━━━\u001b[0m \u001b[32m1.6/1.6 MB\u001b[0m \u001b[31m516.1 kB/s\u001b[0m eta \u001b[36m0:00:00\u001b[0ma \u001b[36m0:00:01\u001b[0m\n",
      "\u001b[?25hDownloading comm-0.2.3-py3-none-any.whl (7.3 kB)\n",
      "Downloading ipython-9.4.0-py3-none-any.whl (611 kB)\n",
      "\u001b[2K   \u001b[90m━━━━━━━━━━━━━━━━━━━━━━━━━━━━━━━━━━━━━━━\u001b[0m \u001b[32m611.0/611.0 kB\u001b[0m \u001b[31m779.6 kB/s\u001b[0m eta \u001b[36m0:00:00\u001b[0ma \u001b[36m0:00:01\u001b[0m\n",
      "\u001b[?25hDownloading prompt_toolkit-3.0.51-py3-none-any.whl (387 kB)\n",
      "Downloading jedi-0.19.2-py2.py3-none-any.whl (1.6 MB)\n",
      "\u001b[2K   \u001b[90m━━━━━━━━━━━━━━━━━━━━━━━━━━━━━━━━━━━━━━━━\u001b[0m \u001b[32m1.6/1.6 MB\u001b[0m \u001b[31m1.3 MB/s\u001b[0m eta \u001b[36m0:00:00\u001b[0ma \u001b[36m0:00:01\u001b[0m\n",
      "\u001b[?25hDownloading parso-0.8.4-py2.py3-none-any.whl (103 kB)\n",
      "Downloading notebook-7.4.4-py3-none-any.whl (14.3 MB)\n",
      "\u001b[2K   \u001b[90m━━━━━━━━━━━━━━━━━━━━━━━━━━━━━━━━━━━━━━━━\u001b[0m \u001b[32m14.3/14.3 MB\u001b[0m \u001b[31m2.2 MB/s\u001b[0m eta \u001b[36m0:00:00\u001b[0m00:01\u001b[0m00:01\u001b[0m\n",
      "\u001b[?25hDownloading jupyter_server-2.16.0-py3-none-any.whl (386 kB)\n",
      "Downloading jupyterlab-4.4.5-py3-none-any.whl (12.3 MB)\n",
      "\u001b[2K   \u001b[90m━━━━━━━━━━━━━━━━━━━━━━━━━━━━━━━━━━━━━━━━\u001b[0m \u001b[32m12.3/12.3 MB\u001b[0m \u001b[31m3.0 MB/s\u001b[0m eta \u001b[36m0:00:00\u001b[0m00:01\u001b[0m00:01\u001b[0m\n",
      "\u001b[?25hDownloading jupyterlab_server-2.27.3-py3-none-any.whl (59 kB)\n",
      "Downloading notebook_shim-0.2.4-py3-none-any.whl (13 kB)\n",
      "Downloading anyio-4.9.0-py3-none-any.whl (100 kB)\n",
      "Downloading argon2_cffi-25.1.0-py3-none-any.whl (14 kB)\n",
      "Downloading async_lru-2.0.5-py3-none-any.whl (6.1 kB)\n"
     ]
    },
    {
     "name": "stdout",
     "output_type": "stream",
     "text": [
      "Downloading babel-2.17.0-py3-none-any.whl (10.2 MB)\n",
      "\u001b[2K   \u001b[90m━━━━━━━━━━━━━━━━━━━━━━━━━━━━━━━━━━━━━━━━\u001b[0m \u001b[32m10.2/10.2 MB\u001b[0m \u001b[31m3.1 MB/s\u001b[0m eta \u001b[36m0:00:00\u001b[0m00:01\u001b[0m0:01\u001b[0m\n",
      "\u001b[?25hDownloading httpx-0.28.1-py3-none-any.whl (73 kB)\n",
      "Downloading httpcore-1.0.9-py3-none-any.whl (78 kB)\n",
      "Downloading h11-0.16.0-py3-none-any.whl (37 kB)\n",
      "Downloading idna-3.10-py3-none-any.whl (70 kB)\n",
      "Downloading ipykernel-6.30.0-py3-none-any.whl (117 kB)\n",
      "Downloading debugpy-1.8.15-cp313-cp313-manylinux_2_5_x86_64.manylinux1_x86_64.manylinux_2_17_x86_64.manylinux2014_x86_64.whl (4.2 MB)\n",
      "\u001b[2K   \u001b[90m━━━━━━━━━━━━━━━━━━━━━━━━━━━━━━━━━━━━━━━━\u001b[0m \u001b[32m4.2/4.2 MB\u001b[0m \u001b[31m3.2 MB/s\u001b[0m eta \u001b[36m0:00:00\u001b[0ma \u001b[36m0:00:01\u001b[0m\n",
      "\u001b[?25hDownloading jinja2-3.1.6-py3-none-any.whl (134 kB)\n",
      "Downloading json5-0.12.0-py3-none-any.whl (36 kB)\n",
      "Downloading jsonschema-4.25.0-py3-none-any.whl (89 kB)\n",
      "Downloading attrs-25.3.0-py3-none-any.whl (63 kB)\n",
      "Downloading jsonschema_specifications-2025.4.1-py3-none-any.whl (18 kB)\n",
      "Downloading jupyter_client-8.6.3-py3-none-any.whl (106 kB)\n",
      "Downloading jupyter_core-5.8.1-py3-none-any.whl (28 kB)\n",
      "Downloading jupyter_events-0.12.0-py3-none-any.whl (19 kB)\n",
      "Downloading jsonpointer-3.0.0-py2.py3-none-any.whl (7.6 kB)\n",
      "Downloading jupyter_lsp-2.2.6-py3-none-any.whl (69 kB)\n",
      "Downloading jupyter_server_terminals-0.5.3-py3-none-any.whl (13 kB)\n",
      "Downloading MarkupSafe-3.0.2-cp313-cp313-manylinux_2_17_x86_64.manylinux2014_x86_64.whl (23 kB)\n",
      "Downloading matplotlib_inline-0.1.7-py3-none-any.whl (9.9 kB)\n",
      "Downloading nbconvert-7.16.6-py3-none-any.whl (258 kB)\n",
      "Downloading mistune-3.1.3-py3-none-any.whl (53 kB)\n",
      "Downloading bleach-6.2.0-py3-none-any.whl (163 kB)\n",
      "Downloading tinycss2-1.4.0-py3-none-any.whl (26 kB)\n",
      "Downloading nbclient-0.10.2-py3-none-any.whl (25 kB)\n",
      "Downloading nbformat-5.10.4-py3-none-any.whl (78 kB)\n",
      "Downloading fastjsonschema-2.21.1-py3-none-any.whl (23 kB)\n",
      "Downloading nest_asyncio-1.6.0-py3-none-any.whl (5.2 kB)\n",
      "Downloading overrides-7.7.0-py3-none-any.whl (17 kB)\n",
      "Downloading pandocfilters-1.5.1-py2.py3-none-any.whl (8.7 kB)\n",
      "Downloading pexpect-4.9.0-py2.py3-none-any.whl (63 kB)\n",
      "Downloading platformdirs-4.3.8-py3-none-any.whl (18 kB)\n",
      "Downloading prometheus_client-0.22.1-py3-none-any.whl (58 kB)\n",
      "Downloading psutil-7.0.0-cp36-abi3-manylinux_2_12_x86_64.manylinux2010_x86_64.manylinux_2_17_x86_64.manylinux2014_x86_64.whl (277 kB)\n",
      "Downloading ptyprocess-0.7.0-py2.py3-none-any.whl (13 kB)\n",
      "Downloading python_dateutil-2.9.0.post0-py2.py3-none-any.whl (229 kB)\n",
      "Downloading python_json_logger-3.3.0-py3-none-any.whl (15 kB)\n",
      "Downloading PyYAML-6.0.2-cp313-cp313-manylinux_2_17_x86_64.manylinux2014_x86_64.whl (759 kB)\n",
      "\u001b[2K   \u001b[90m━━━━━━━━━━━━━━━━━━━━━━━━━━━━━━━━━━━━━━━━\u001b[0m \u001b[32m759.5/759.5 kB\u001b[0m \u001b[31m2.8 MB/s\u001b[0m eta \u001b[36m0:00:00\u001b[0ma \u001b[36m0:00:01\u001b[0m\n",
      "\u001b[?25hDownloading pyzmq-27.0.0-cp312-abi3-manylinux_2_27_x86_64.manylinux_2_28_x86_64.whl (839 kB)\n",
      "\u001b[2K   \u001b[90m━━━━━━━━━━━━━━━━━━━━━━━━━━━━━━━━━━━━━━━━\u001b[0m \u001b[32m839.8/839.8 kB\u001b[0m \u001b[31m3.4 MB/s\u001b[0m eta \u001b[36m0:00:00\u001b[0mta \u001b[36m0:00:01\u001b[0m\n",
      "\u001b[?25hDownloading referencing-0.36.2-py3-none-any.whl (26 kB)\n",
      "Downloading requests-2.32.4-py3-none-any.whl (64 kB)\n",
      "Downloading charset_normalizer-3.4.2-cp313-cp313-manylinux_2_17_x86_64.manylinux2014_x86_64.whl (148 kB)\n",
      "Downloading urllib3-2.5.0-py3-none-any.whl (129 kB)\n",
      "Downloading certifi-2025.7.14-py3-none-any.whl (162 kB)\n",
      "Downloading rfc3986_validator-0.1.1-py2.py3-none-any.whl (4.2 kB)\n",
      "Downloading rfc3987_syntax-1.1.0-py3-none-any.whl (8.0 kB)\n",
      "Downloading lark-1.2.2-py3-none-any.whl (111 kB)\n",
      "Downloading rpds_py-0.26.0-cp313-cp313-manylinux_2_17_x86_64.manylinux2014_x86_64.whl (385 kB)\n",
      "Downloading Send2Trash-1.8.3-py3-none-any.whl (18 kB)\n",
      "Using cached setuptools-80.9.0-py3-none-any.whl (1.2 MB)\n",
      "Downloading six-1.17.0-py2.py3-none-any.whl (11 kB)\n",
      "Downloading sniffio-1.3.1-py3-none-any.whl (10 kB)\n",
      "Downloading terminado-0.18.1-py3-none-any.whl (14 kB)\n",
      "Downloading tornado-6.5.1-cp39-abi3-manylinux_2_5_x86_64.manylinux1_x86_64.manylinux_2_17_x86_64.manylinux2014_x86_64.whl (443 kB)\n",
      "Downloading traitlets-5.14.3-py3-none-any.whl (85 kB)\n",
      "Downloading webcolors-24.11.1-py3-none-any.whl (14 kB)\n",
      "Downloading webencodings-0.5.1-py2.py3-none-any.whl (11 kB)\n",
      "Downloading websocket_client-1.8.0-py3-none-any.whl (58 kB)\n",
      "Downloading argon2_cffi_bindings-21.2.0-cp36-abi3-manylinux_2_17_x86_64.manylinux2014_x86_64.whl (86 kB)\n",
      "Downloading cffi-1.17.1-cp313-cp313-manylinux_2_17_x86_64.manylinux2014_x86_64.whl (479 kB)\n",
      "Downloading beautifulsoup4-4.13.4-py3-none-any.whl (187 kB)\n",
      "Downloading soupsieve-2.7-py3-none-any.whl (36 kB)\n",
      "Downloading decorator-5.2.1-py3-none-any.whl (9.2 kB)\n",
      "Downloading defusedxml-0.7.1-py2.py3-none-any.whl (25 kB)\n",
      "Downloading fqdn-1.5.1-py3-none-any.whl (9.1 kB)\n",
      "Downloading ipython_pygments_lexers-1.1.1-py3-none-any.whl (8.1 kB)\n",
      "Downloading isoduration-20.11.0-py3-none-any.whl (11 kB)\n",
      "Downloading arrow-1.3.0-py3-none-any.whl (66 kB)\n",
      "Downloading types_python_dateutil-2.9.0.20250708-py3-none-any.whl (17 kB)\n",
      "Downloading jupyterlab_pygments-0.3.0-py3-none-any.whl (15 kB)\n",
      "Downloading pycparser-2.22-py3-none-any.whl (117 kB)\n",
      "Downloading rfc3339_validator-0.1.4-py2.py3-none-any.whl (3.5 kB)\n",
      "Downloading stack_data-0.6.3-py3-none-any.whl (24 kB)\n",
      "Downloading asttokens-3.0.0-py3-none-any.whl (26 kB)\n",
      "Downloading executing-2.2.0-py2.py3-none-any.whl (26 kB)\n",
      "Downloading pure_eval-0.2.3-py3-none-any.whl (11 kB)\n",
      "Downloading uri_template-1.3.0-py3-none-any.whl (11 kB)\n",
      "Downloading wcwidth-0.2.13-py2.py3-none-any.whl (34 kB)\n",
      "Installing collected packages: webencodings, wcwidth, pure-eval, ptyprocess, ipython-genutils, fastjsonschema, websocket-client, webcolors, urllib3, uri-template, types-python-dateutil, traitlets, tornado, tinycss2, soupsieve, sniffio, six, setuptools, send2trash, rpds-py, rfc3986-validator, pyzmq, pyyaml, python-json-logger, pycparser, psutil, prompt_toolkit, prometheus-client, platformdirs, pexpect, parso, pandocfilters, overrides, nest-asyncio, mistune, MarkupSafe, lark, jupyterlab-widgets, jupyterlab-pygments, jsonpointer, json5, ipython-pygments-lexers, idna, h11, fqdn, executing, defusedxml, decorator, debugpy, comm, charset_normalizer, certifi, bleach, babel, attrs, async-lru, asttokens, terminado, stack_data, rfc3987-syntax, rfc3339-validator, requests, referencing, python-dateutil, matplotlib-inline, jupyter-core, jinja2, jedi, httpcore, cffi, beautifulsoup4, anyio, jupyter-server-terminals, jupyter-client, jsonschema-specifications, ipython, httpx, arrow, argon2-cffi-bindings, jsonschema, isoduration, ipykernel, argon2-cffi, nbformat, nbclient, jupyter-events, nbconvert, jupyter-server, notebook-shim, jupyterlab-server, jupyter-lsp, jupyterlab, notebook, widgetsnbextension, ipywidgets\n",
      "\u001b[2K   \u001b[90m━━━━━━━━━━━━━━━━━━━━━━━━━━━━━━━━━━━━━━━━\u001b[0m \u001b[32m95/95\u001b[0m [ipywidgets]5\u001b[0m [notebook]b]ver]zer]xers]\n",
      "\u001b[1A\u001b[2KSuccessfully installed MarkupSafe-3.0.2 anyio-4.9.0 argon2-cffi-25.1.0 argon2-cffi-bindings-21.2.0 arrow-1.3.0 asttokens-3.0.0 async-lru-2.0.5 attrs-25.3.0 babel-2.17.0 beautifulsoup4-4.13.4 bleach-6.2.0 certifi-2025.7.14 cffi-1.17.1 charset_normalizer-3.4.2 comm-0.2.3 debugpy-1.8.15 decorator-5.2.1 defusedxml-0.7.1 executing-2.2.0 fastjsonschema-2.21.1 fqdn-1.5.1 h11-0.16.0 httpcore-1.0.9 httpx-0.28.1 idna-3.10 ipykernel-6.30.0 ipython-9.4.0 ipython-genutils-0.2.0 ipython-pygments-lexers-1.1.1 ipywidgets-7.8.5 isoduration-20.11.0 jedi-0.19.2 jinja2-3.1.6 json5-0.12.0 jsonpointer-3.0.0 jsonschema-4.25.0 jsonschema-specifications-2025.4.1 jupyter-client-8.6.3 jupyter-core-5.8.1 jupyter-events-0.12.0 jupyter-lsp-2.2.6 jupyter-server-2.16.0 jupyter-server-terminals-0.5.3 jupyterlab-4.4.5 jupyterlab-pygments-0.3.0 jupyterlab-server-2.27.3 jupyterlab-widgets-1.1.11 lark-1.2.2 matplotlib-inline-0.1.7 mistune-3.1.3 nbclient-0.10.2 nbconvert-7.16.6 nbformat-5.10.4 nest-asyncio-1.6.0 notebook-7.4.4 notebook-shim-0.2.4 overrides-7.7.0 pandocfilters-1.5.1 parso-0.8.4 pexpect-4.9.0 platformdirs-4.3.8 prometheus-client-0.22.1 prompt_toolkit-3.0.51 psutil-7.0.0 ptyprocess-0.7.0 pure-eval-0.2.3 pycparser-2.22 python-dateutil-2.9.0.post0 python-json-logger-3.3.0 pyyaml-6.0.2 pyzmq-27.0.0 referencing-0.36.2 requests-2.32.4 rfc3339-validator-0.1.4 rfc3986-validator-0.1.1 rfc3987-syntax-1.1.0 rpds-py-0.26.0 send2trash-1.8.3 setuptools-80.9.0 six-1.17.0 sniffio-1.3.1 soupsieve-2.7 stack_data-0.6.3 terminado-0.18.1 tinycss2-1.4.0 tornado-6.5.1 traitlets-5.14.3 types-python-dateutil-2.9.0.20250708 uri-template-1.3.0 urllib3-2.5.0 wcwidth-0.2.13 webcolors-24.11.1 webencodings-0.5.1 websocket-client-1.8.0 widgetsnbextension-3.6.10\n"
     ]
    },
    {
     "name": "stdout",
     "output_type": "stream",
     "text": [
      "Collecting rdkit\n",
      "  Downloading rdkit-2025.3.3-cp313-cp313-manylinux_2_28_x86_64.whl.metadata (4.0 kB)\n",
      "Requirement already satisfied: numpy in /home/kyle/miniforge3/envs/docking/lib/python3.13/site-packages (from rdkit) (2.3.2)\n",
      "Collecting Pillow (from rdkit)\n",
      "  Downloading pillow-11.3.0-cp313-cp313-manylinux_2_27_x86_64.manylinux_2_28_x86_64.whl.metadata (9.0 kB)\n",
      "Downloading rdkit-2025.3.3-cp313-cp313-manylinux_2_28_x86_64.whl (34.8 MB)\n",
      "\u001b[2K   \u001b[90m━━━━━━━━━━━━━━━━━━━━━━━━━━━━━━━━━━━━━━━━\u001b[0m \u001b[32m34.8/34.8 MB\u001b[0m \u001b[31m3.7 MB/s\u001b[0m eta \u001b[36m0:00:00\u001b[0m00:01\u001b[0m00:01\u001b[0m\n",
      "\u001b[?25hDownloading pillow-11.3.0-cp313-cp313-manylinux_2_27_x86_64.manylinux_2_28_x86_64.whl (6.6 MB)\n",
      "\u001b[2K   \u001b[90m━━━━━━━━━━━━━━━━━━━━━━━━━━━━━━━━━━━━━━━━\u001b[0m \u001b[32m6.6/6.6 MB\u001b[0m \u001b[31m25.7 MB/s\u001b[0m eta \u001b[36m0:00:00\u001b[0m00:01\u001b[0m\n",
      "\u001b[?25hInstalling collected packages: Pillow, rdkit\n",
      "\u001b[2K   \u001b[90m━━━━━━━━━━━━━━━━━━━━━━━━━━━━━━━━━━━━━━━━\u001b[0m \u001b[32m2/2\u001b[0m [rdkit]32m1/2\u001b[0m [rdkit]\n",
      "\u001b[1A\u001b[2KSuccessfully installed Pillow-11.3.0 rdkit-2025.3.3\n",
      "Collecting qiskit==1.4.3\n",
      "  Downloading qiskit-1.4.3-cp39-abi3-manylinux_2_17_x86_64.manylinux2014_x86_64.whl.metadata (12 kB)\n",
      "Collecting rustworkx>=0.15.0 (from qiskit==1.4.3)\n",
      "  Downloading rustworkx-0.16.0-cp39-abi3-manylinux_2_17_x86_64.manylinux2014_x86_64.whl.metadata (10 kB)\n",
      "Requirement already satisfied: numpy<3,>=1.17 in /home/kyle/miniforge3/envs/docking/lib/python3.13/site-packages (from qiskit==1.4.3) (2.3.2)\n",
      "Requirement already satisfied: scipy>=1.5 in /home/kyle/miniforge3/envs/docking/lib/python3.13/site-packages (from qiskit==1.4.3) (1.16.0)\n",
      "Collecting sympy>=1.3 (from qiskit==1.4.3)\n",
      "  Downloading sympy-1.14.0-py3-none-any.whl.metadata (12 kB)\n",
      "Collecting dill>=0.3 (from qiskit==1.4.3)\n",
      "  Downloading dill-0.4.0-py3-none-any.whl.metadata (10 kB)\n",
      "Requirement already satisfied: python-dateutil>=2.8.0 in /home/kyle/miniforge3/envs/docking/lib/python3.13/site-packages (from qiskit==1.4.3) (2.9.0.post0)\n",
      "Collecting stevedore>=3.0.0 (from qiskit==1.4.3)\n",
      "  Downloading stevedore-5.4.1-py3-none-any.whl.metadata (2.3 kB)\n",
      "Requirement already satisfied: typing-extensions in /home/kyle/miniforge3/envs/docking/lib/python3.13/site-packages (from qiskit==1.4.3) (4.14.1)\n",
      "Collecting symengine<0.14,>=0.11 (from qiskit==1.4.3)\n",
      "  Downloading symengine-0.13.0-cp313-cp313-manylinux_2_17_x86_64.manylinux2014_x86_64.whl.metadata (1.2 kB)\n",
      "Requirement already satisfied: six>=1.5 in /home/kyle/miniforge3/envs/docking/lib/python3.13/site-packages (from python-dateutil>=2.8.0->qiskit==1.4.3) (1.17.0)\n",
      "Collecting pbr>=2.0.0 (from stevedore>=3.0.0->qiskit==1.4.3)\n",
      "  Downloading pbr-6.1.1-py2.py3-none-any.whl.metadata (3.4 kB)\n",
      "Requirement already satisfied: setuptools in /home/kyle/miniforge3/envs/docking/lib/python3.13/site-packages (from pbr>=2.0.0->stevedore>=3.0.0->qiskit==1.4.3) (80.9.0)\n",
      "Collecting mpmath<1.4,>=1.1.0 (from sympy>=1.3->qiskit==1.4.3)\n",
      "  Downloading mpmath-1.3.0-py3-none-any.whl.metadata (8.6 kB)\n",
      "Downloading qiskit-1.4.3-cp39-abi3-manylinux_2_17_x86_64.manylinux2014_x86_64.whl (6.8 MB)\n",
      "\u001b[2K   \u001b[90m━━━━━━━━━━━━━━━━━━━━━━━━━━━━━━━━━━━━━━━━\u001b[0m \u001b[32m6.8/6.8 MB\u001b[0m \u001b[31m10.1 MB/s\u001b[0m eta \u001b[36m0:00:00\u001b[0m \u001b[36m0:00:01\u001b[0m\n",
      "\u001b[?25hDownloading symengine-0.13.0-cp313-cp313-manylinux_2_17_x86_64.manylinux2014_x86_64.whl (49.6 MB)\n",
      "\u001b[2K   \u001b[90m━━━━━━━━━━━━━━━━━━━━━━━━━━━━━━━━━━━━━━━━\u001b[0m \u001b[32m49.6/49.6 MB\u001b[0m \u001b[31m3.3 MB/s\u001b[0m eta \u001b[36m0:00:00\u001b[0m00:01\u001b[0m00:01\u001b[0m\n",
      "\u001b[?25hDownloading dill-0.4.0-py3-none-any.whl (119 kB)\n",
      "Downloading rustworkx-0.16.0-cp39-abi3-manylinux_2_17_x86_64.manylinux2014_x86_64.whl (2.1 MB)\n",
      "\u001b[2K   \u001b[90m━━━━━━━━━━━━━━━━━━━━━━━━━━━━━━━━━━━━━━━━\u001b[0m \u001b[32m2.1/2.1 MB\u001b[0m \u001b[31m9.8 MB/s\u001b[0m eta \u001b[36m0:00:00\u001b[0m:00:01\u001b[0m\n",
      "\u001b[?25hDownloading stevedore-5.4.1-py3-none-any.whl (49 kB)\n",
      "Downloading pbr-6.1.1-py2.py3-none-any.whl (108 kB)\n",
      "Downloading sympy-1.14.0-py3-none-any.whl (6.3 MB)\n",
      "\u001b[2K   \u001b[90m━━━━━━━━━━━━━━━━━━━━━━━━━━━━━━━━━━━━━━━━\u001b[0m \u001b[32m6.3/6.3 MB\u001b[0m \u001b[31m32.4 MB/s\u001b[0m eta \u001b[36m0:00:00\u001b[0m00:01\u001b[0m\n",
      "\u001b[?25hDownloading mpmath-1.3.0-py3-none-any.whl (536 kB)\n",
      "\u001b[2K   \u001b[90m━━━━━━━━━━━━━━━━━━━━━━━━━━━━━━━━━━━━━━━━\u001b[0m \u001b[32m536.2/536.2 kB\u001b[0m \u001b[31m18.4 MB/s\u001b[0m eta \u001b[36m0:00:00\u001b[0m\n",
      "\u001b[?25hInstalling collected packages: mpmath, sympy, symengine, rustworkx, pbr, dill, stevedore, qiskit\n",
      "\u001b[2K   \u001b[90m━━━━━━━━━━━━━━━━━━━━━━━━━━━━━━━━━━━━━━━━\u001b[0m \u001b[32m8/8\u001b[0m [qiskit]2m7/8\u001b[0m [qiskit]kx]\n",
      "\u001b[1A\u001b[2KSuccessfully installed dill-0.4.0 mpmath-1.3.0 pbr-6.1.1 qiskit-1.4.3 rustworkx-0.16.0 stevedore-5.4.1 symengine-0.13.0 sympy-1.14.0\n",
      "Collecting qiskit-nature\n",
      "  Downloading qiskit_nature-0.7.2-py3-none-any.whl.metadata (8.0 kB)\n",
      "Requirement already satisfied: qiskit>=0.44 in /home/kyle/miniforge3/envs/docking/lib/python3.13/site-packages (from qiskit-nature) (1.4.3)\n",
      "Collecting qiskit-algorithms>=0.2.1 (from qiskit-nature)\n",
      "  Downloading qiskit_algorithms-0.3.1-py3-none-any.whl.metadata (4.2 kB)\n",
      "Requirement already satisfied: scipy>=1.4 in /home/kyle/miniforge3/envs/docking/lib/python3.13/site-packages (from qiskit-nature) (1.16.0)\n",
      "Requirement already satisfied: numpy>=1.17 in /home/kyle/miniforge3/envs/docking/lib/python3.13/site-packages (from qiskit-nature) (2.3.2)\n",
      "Requirement already satisfied: psutil>=5 in /home/kyle/miniforge3/envs/docking/lib/python3.13/site-packages (from qiskit-nature) (7.0.0)\n",
      "Requirement already satisfied: setuptools>=40.1.0 in /home/kyle/miniforge3/envs/docking/lib/python3.13/site-packages (from qiskit-nature) (80.9.0)\n",
      "Requirement already satisfied: typing-extensions in /home/kyle/miniforge3/envs/docking/lib/python3.13/site-packages (from qiskit-nature) (4.14.1)\n",
      "Collecting h5py (from qiskit-nature)\n",
      "  Downloading h5py-3.14.0-cp313-cp313-manylinux_2_17_x86_64.manylinux2014_x86_64.whl.metadata (2.7 kB)\n",
      "Requirement already satisfied: rustworkx>=0.12 in /home/kyle/miniforge3/envs/docking/lib/python3.13/site-packages (from qiskit-nature) (0.16.0)\n",
      "Requirement already satisfied: sympy>=1.3 in /home/kyle/miniforge3/envs/docking/lib/python3.13/site-packages (from qiskit>=0.44->qiskit-nature) (1.14.0)\n",
      "Requirement already satisfied: dill>=0.3 in /home/kyle/miniforge3/envs/docking/lib/python3.13/site-packages (from qiskit>=0.44->qiskit-nature) (0.4.0)\n",
      "Requirement already satisfied: python-dateutil>=2.8.0 in /home/kyle/miniforge3/envs/docking/lib/python3.13/site-packages (from qiskit>=0.44->qiskit-nature) (2.9.0.post0)\n",
      "Requirement already satisfied: stevedore>=3.0.0 in /home/kyle/miniforge3/envs/docking/lib/python3.13/site-packages (from qiskit>=0.44->qiskit-nature) (5.4.1)\n",
      "Requirement already satisfied: symengine<0.14,>=0.11 in /home/kyle/miniforge3/envs/docking/lib/python3.13/site-packages (from qiskit>=0.44->qiskit-nature) (0.13.0)\n",
      "Requirement already satisfied: six>=1.5 in /home/kyle/miniforge3/envs/docking/lib/python3.13/site-packages (from python-dateutil>=2.8.0->qiskit>=0.44->qiskit-nature) (1.17.0)\n",
      "Requirement already satisfied: pbr>=2.0.0 in /home/kyle/miniforge3/envs/docking/lib/python3.13/site-packages (from stevedore>=3.0.0->qiskit>=0.44->qiskit-nature) (6.1.1)\n",
      "Requirement already satisfied: mpmath<1.4,>=1.1.0 in /home/kyle/miniforge3/envs/docking/lib/python3.13/site-packages (from sympy>=1.3->qiskit>=0.44->qiskit-nature) (1.3.0)\n",
      "Downloading qiskit_nature-0.7.2-py3-none-any.whl (2.2 MB)\n",
      "\u001b[2K   \u001b[90m━━━━━━━━━━━━━━━━━━━━━━━━━━━━━━━━━━━━━━━━\u001b[0m \u001b[32m2.2/2.2 MB\u001b[0m \u001b[31m3.4 MB/s\u001b[0m eta \u001b[36m0:00:00\u001b[0ma \u001b[36m0:00:01\u001b[0m\n",
      "\u001b[?25hDownloading qiskit_algorithms-0.3.1-py3-none-any.whl (310 kB)\n",
      "Downloading h5py-3.14.0-cp313-cp313-manylinux_2_17_x86_64.manylinux2014_x86_64.whl (4.9 MB)\n",
      "\u001b[2K   \u001b[90m━━━━━━━━━━━━━━━━━━━━━━━━━━━━━━━━━━━━━━━━\u001b[0m \u001b[32m4.9/4.9 MB\u001b[0m \u001b[31m12.3 MB/s\u001b[0m eta \u001b[36m0:00:00\u001b[0ma \u001b[36m0:00:01\u001b[0m\n",
      "\u001b[?25hInstalling collected packages: h5py, qiskit-algorithms, qiskit-nature\n",
      "\u001b[2K   \u001b[90m━━━━━━━━━━━━━━━━━━━━━━━━━━━━━━━━━━━━━━━━\u001b[0m \u001b[32m3/3\u001b[0m [qiskit-nature]0m [qiskit-nature]hms]\n",
      "\u001b[1A\u001b[2KSuccessfully installed h5py-3.14.0 qiskit-algorithms-0.3.1 qiskit-nature-0.7.2\n"
     ]
    }
   ],
   "source": [
    "!pip install biopython\n",
    "!pip install ipywidgets==7.7.2\n",
    "!pip install rdkit\n",
    "!pip install qiskit==1.4.3\n",
    "!pip install qiskit-nature\n",
    "!conda install nglview -c conda-forge -y\n",
    "!conda install -c conda-forge MDAnalysis -y"
   ]
  },
  {
   "cell_type": "code",
   "execution_count": 2,
   "id": "9b7c0c10-118c-4d7c-8205-52b52469ec73",
   "metadata": {
    "scrolled": true
   },
   "outputs": [
    {
     "name": "stdout",
     "output_type": "stream",
     "text": [
      "\u001b[6n"
     ]
    }
   ],
   "source": [
    "# node needed! \n",
    "# installs the js packages for nglview\n",
    "!npm i"
   ]
  },
  {
   "cell_type": "code",
   "execution_count": 8,
   "id": "47254168-5ec7-46a3-aff5-f5638261249a",
   "metadata": {},
   "outputs": [
    {
     "name": "stdout",
     "output_type": "stream",
     "text": [
      "Requirement already satisfied: pyscf in /home/kyle/miniforge3/envs/docking/lib/python3.13/site-packages (2.10.0)\n",
      "Requirement already satisfied: numpy!=1.16,!=1.17,>=1.13 in /home/kyle/miniforge3/envs/docking/lib/python3.13/site-packages (from pyscf) (2.3.2)\n",
      "Requirement already satisfied: scipy>=1.6.0 in /home/kyle/miniforge3/envs/docking/lib/python3.13/site-packages (from pyscf) (1.16.0)\n",
      "Requirement already satisfied: h5py>=2.7 in /home/kyle/miniforge3/envs/docking/lib/python3.13/site-packages (from pyscf) (3.14.0)\n",
      "Requirement already satisfied: setuptools in /home/kyle/miniforge3/envs/docking/lib/python3.13/site-packages (from pyscf) (80.9.0)\n"
     ]
    }
   ],
   "source": [
    "# will only run in linux\n",
    "!pip install --prefer-binary pyscf"
   ]
  },
  {
   "cell_type": "code",
   "execution_count": 1,
   "id": "d494e3b1-0ede-479d-9bdd-26467e9403bb",
   "metadata": {},
   "outputs": [
    {
     "data": {
      "application/vnd.jupyter.widget-view+json": {
       "model_id": "81e8638823c04625ae2d5803570e7e87",
       "version_major": 2,
       "version_minor": 0
      },
      "text/plain": []
     },
     "metadata": {},
     "output_type": "display_data"
    },
    {
     "name": "stderr",
     "output_type": "stream",
     "text": [
      "/home/kyle/miniforge3/envs/docking/lib/python3.13/site-packages/nglview/__init__.py:12: UserWarning: pkg_resources is deprecated as an API. See https://setuptools.pypa.io/en/latest/pkg_resources.html. The pkg_resources package is slated for removal as early as 2025-11-30. Refrain from using this package or pin to Setuptools<81.\n",
      "  import pkg_resources\n"
     ]
    }
   ],
   "source": [
    "import os\n",
    "import ipywidgets as widgets \n",
    "from Bio.PDB import PDBList, PDBParser\n",
    "from rdkit import Chem\n",
    "from rdkit.Chem import AllChem, Draw\n",
    "import nglview as nv\n",
    "import numpy as np\n",
    "from docking_py import docking"
   ]
  },
  {
   "cell_type": "code",
   "execution_count": 2,
   "id": "21827c21-4469-4f1a-b5b2-d10c6664ba5f",
   "metadata": {
    "scrolled": true
   },
   "outputs": [],
   "source": [
    "from qiskit_nature.second_q.drivers import PySCFDriver\n",
    "from qiskit_nature.second_q.transformers import ActiveSpaceTransformer\n",
    "from qiskit_nature.second_q.mappers import JordanWignerMapper\n",
    "from qiskit_nature.second_q.problems import ElectronicBasis\n",
    "from qiskit_nature.second_q.algorithms import GroundStateEigensolver\n",
    "from qiskit_nature.second_q.circuit.library import UCCSD, HartreeFock\n",
    "from qiskit_nature.settings import settings"
   ]
  },
  {
   "cell_type": "markdown",
   "id": "6754c3e0-7b6b-4425-a33a-449a51f68a0a",
   "metadata": {},
   "source": [
    "## Prepare Dataset"
   ]
  },
  {
   "cell_type": "markdown",
   "id": "b647b6d1-2101-4182-b6f4-1f6bbca440d6",
   "metadata": {},
   "source": [
    "### Download the target protein\n",
    "- The target is the NS3 RNA helicase (a viral protein/enzyme) of Dengue virus serotype 2 (DENV2). This helicase unwinds double-stranded RNA (dsRNA) intermediates into single-stranded RNA (ssRNA), a critical step in the replication of the viral genome."
   ]
  },
  {
   "cell_type": "code",
   "execution_count": 3,
   "id": "c992e530-9d94-4df4-9d80-0d60dc334f83",
   "metadata": {},
   "outputs": [],
   "source": [
    "pdb_id = \"2BMF\"\n",
    "pdbl = PDBList()"
   ]
  },
  {
   "cell_type": "code",
   "execution_count": 4,
   "id": "efd3e0f6-ca85-473c-93b6-0080bbf0ca85",
   "metadata": {},
   "outputs": [
    {
     "name": "stdout",
     "output_type": "stream",
     "text": [
      "Downloading PDB structure '2bmf'...\n"
     ]
    }
   ],
   "source": [
    "if not os.path.exists(\"data\"):\n",
    "    os.mkdir(\"data\")\n",
    "file_path = pdbl.retrieve_pdb_file(pdb_id, file_format=\"pdb\", pdir=\"./data/\")\n",
    "file_name = \"data/DENV2_RNA_Helicase_2_4A.pdb\"\n",
    "if os.path.exists(file_name):\n",
    "    os.remove(file_name)\n",
    "os.rename(file_path, file_name)"
   ]
  },
  {
   "cell_type": "code",
   "execution_count": 5,
   "id": "33408262-98c3-4ce0-b084-b31cd1e65b33",
   "metadata": {},
   "outputs": [
    {
     "data": {
      "application/vnd.jupyter.widget-view+json": {
       "model_id": "7b4a0aa2bf814664a98de2db745deb1a",
       "version_major": 2,
       "version_minor": 0
      },
      "text/plain": [
       "NGLWidget()"
      ]
     },
     "metadata": {},
     "output_type": "display_data"
    }
   ],
   "source": [
    "parser = PDBParser(QUIET=True)\n",
    "structure = parser.get_structure(pdb_id, file_name)\n",
    "view = nv.show_biopython(structure)\n",
    "view"
   ]
  },
  {
   "cell_type": "markdown",
   "id": "993f6500-322f-4ad1-bd8a-2fb9432f36cc",
   "metadata": {},
   "source": [
    "### Select a particular ligand\n",
    "- The ligand selected is based on the study of Halim et al. [1]. The ligand with the highest Chemgauss2 (CG2) score is selected. The Simplified Molecular Input Line Entry System (SMILES) format of the selected ligand is `CCOc1ccc2c(c1)sc(n2)NC(=O)c3c(cnc(n3)SC)Br`. This will be used to benchmark the tools.\n",
    "\n",
    "[1] S. A. Halim, S. Khan, A. Khan, A. Wadood, F. Mabood, J. Hussain, and A. Al-Harrasi, “Targeting Dengue Virus NS-3 Helicase by Ligand based Pharmacophore Modeling and Structure based Virtual Screening,” Frontiers in Chemistry, vol. 5, p. 88, 2017. [Online]. Available: https://doi.org/10.3389/fchem.2017.00088"
   ]
  },
  {
   "cell_type": "code",
   "execution_count": 6,
   "id": "fcfe3546-4b67-44b1-b505-263d9b9e4303",
   "metadata": {},
   "outputs": [],
   "source": [
    "# ligand = \"CCOc1ccc2c(c1)sc(n2)NC(=O)c3c(cnc(n3)SC)Br\"\n",
    "ligand = \"CC1=C(C2=C(C=C1)N=C(S2)C3=CC4=C(C=C3)N=C(S4)C5=CC=C(C=C5)NC(=O)C6=CC7=C(C=C6)N=C(S7)C8=CC=C(C=C8)N)S(=O)(=O)[O-].[NH4+]\""
   ]
  },
  {
   "cell_type": "code",
   "execution_count": 7,
   "id": "af3c017d-65f7-4221-bcc2-c2699bba5d2c",
   "metadata": {},
   "outputs": [
    {
     "data": {
      "image/jpeg": "[encoded data removed]",
      "image/png": "[encoded data removed]",
      "text/plain": [
       "<PIL.PngImagePlugin.PngImageFile image mode=RGB size=300x300>"
      ]
     },
     "execution_count": 7,
     "metadata": {},
     "output_type": "execute_result"
    }
   ],
   "source": [
    "mol = Chem.MolFromSmiles(ligand)\n",
    "Draw.MolToImage(mol)"
   ]
  },
  {
   "cell_type": "markdown",
   "id": "7630174d-5beb-4a4c-b5b7-8a19c1a7bea3",
   "metadata": {},
   "source": [
    "Save this into pdb format"
   ]
  },
  {
   "cell_type": "code",
   "execution_count": 8,
   "id": "be26a7dc-8d85-49fb-a3ae-2c62de781b68",
   "metadata": {},
   "outputs": [],
   "source": [
    "mol_wHs = Chem.AddHs(mol)\n",
    "AllChem.EmbedMolecule(mol_wHs)\n",
    "AllChem.UFFOptimizeMolecule(mol_wHs)\n",
    "ligand_file = \"data/ligand.pdb\"\n",
    "Chem.MolToPDBFile(mol_wHs, ligand_file)"
   ]
  },
  {
   "cell_type": "markdown",
   "id": "6ed056ad-bc9f-42a4-a8a8-830772820548",
   "metadata": {},
   "source": [
    "Compute the center of the compound"
   ]
  },
  {
   "cell_type": "code",
   "execution_count": 9,
   "id": "dfd2832f-cff1-495d-a409-2c7566890d07",
   "metadata": {},
   "outputs": [],
   "source": [
    "symbols = []\n",
    "coords = []\n",
    "ligand_chain_id = 'A'\n",
    "for model in structure:\n",
    "    for chain in model:\n",
    "        if chain.id == ligand_chain_id:\n",
    "            for residue in chain:\n",
    "                for atom in residue:\n",
    "                    symbol = atom.element  # element symbol\n",
    "                    coord = atom.coord     # numpy array of (x, y, z)\n",
    "                    symbols.append(symbol)\n",
    "                    coords.append(coord)\n",
    "symbols = np.array(symbols).reshape(-1,1)\n",
    "coords = np.array(coords)\n",
    "atoms = np.hstack([symbols, coords])\n",
    "centroid = np.array(coords).mean(axis=0)"
   ]
  },
  {
   "cell_type": "markdown",
   "id": "cd55743e-ac04-40bc-98fa-398b31298d9b",
   "metadata": {},
   "source": [
    "Select the part of the ligand within the radius from the center"
   ]
  },
  {
   "cell_type": "code",
   "execution_count": 10,
   "id": "6a732531-cd14-47bb-9f4b-e2ba6742084b",
   "metadata": {},
   "outputs": [
    {
     "name": "stdout",
     "output_type": "stream",
     "text": [
      "10 atoms are selected.\n"
     ]
    }
   ],
   "source": [
    "radius = 4\n",
    "selected = np.linalg.norm(centroid - coords, axis=1) <= radius\n",
    "if not any(selected): raise Exception(\"No selected atoms. Increase the radius.\")\n",
    "selected_atoms = atoms[selected]\n",
    "print(f\"{len(selected_atoms)} atoms are selected.\")"
   ]
  },
  {
   "cell_type": "code",
   "execution_count": 11,
   "id": "9cb48ead-c1ba-45f3-8a50-efcdc2df081a",
   "metadata": {},
   "outputs": [
    {
     "data": {
      "text/plain": [
       "'C 7.673 1.233 56.963; C 6.837 0.765 57.967; C 7.106 1.585 55.732; C 5.457 0.649 57.757; C 5.731 1.474 55.513; C 4.905 1.006 56.527; C 6.137 -2.333 54.88; C 4.757 -2.16 55.487; O 4.646 -2.261 56.731; O 3.785 -1.928 54.728; '"
      ]
     },
     "execution_count": 11,
     "metadata": {},
     "output_type": "execute_result"
    }
   ],
   "source": [
    "str_atoms = ''\n",
    "for each in selected_atoms:\n",
    "    str_atoms += ' '.join(each) + '; '\n",
    "str_atoms"
   ]
  },
  {
   "cell_type": "markdown",
   "id": "9d32ccf7-3485-4a7a-8d25-f3e19f91e834",
   "metadata": {},
   "source": [
    "## Molecular Docking"
   ]
  },
  {
   "cell_type": "code",
   "execution_count": 12,
   "id": "579b9d94-04bb-4cc1-84aa-4821c0de641b",
   "metadata": {},
   "outputs": [
    {
     "name": "stdout",
     "output_type": "stream",
     "text": [
      "python2.7 ../../../../../../../../home/kyle/miniforge3/envs/docking/bin/prepare_ligand4.py -l ligand.pdb -B none -A hydrogens -o ligand.pdbqt\n"
     ]
    }
   ],
   "source": [
    "test_dock = docking.Docking('test', lig_pdb='data/ligand.pdb', rec_pdb='data/DENV2_RNA_Helicase_2_4A.pdb')\n",
    "test_dock.prepare_ligand()"
   ]
  },
  {
   "cell_type": "code",
   "execution_count": 13,
   "id": "749ca41a-7c6d-4805-b22b-c8e4b70f37a9",
   "metadata": {},
   "outputs": [
    {
     "name": "stdout",
     "output_type": "stream",
     "text": [
      "python2.7 ../../../../../../../home/kyle/miniforge3/envs/docking/bin/prepare_receptor4.py -r data/DENV2_RNA_Helicase_2_4A.pdb -A checkhydrogens -o data/DENV2_RNA_Helicase_2_4A.pdbqt\n"
     ]
    }
   ],
   "source": [
    "test_dock.prepare_receptor()"
   ]
  },
  {
   "cell_type": "code",
   "execution_count": 14,
   "id": "9c22f16c-feac-4ed3-8310-e591dab2b049",
   "metadata": {
    "scrolled": true
   },
   "outputs": [
    {
     "name": "stderr",
     "output_type": "stream",
     "text": [
      "Grid points: None\n"
     ]
    },
    {
     "name": "stdout",
     "output_type": "stream",
     "text": [
      "smina --ligand data/ligand.pdbqt --receptor data/DENV2_RNA_Helicase_2_4A.pdbqt --log data/output_dock_log.txt --num_modes 10 --exhaustiveness 5 --energy_range 10 --out data/output_dock.pdb --size_x 112.00 --size_y 139.00 --size_z 133.00 --center_x -2.68 --center_y 23.88 --center_z 39.77\n"
     ]
    }
   ],
   "source": [
    "test_dock.run_docking(out_pdb='data/output_dock.pdb',\n",
    "                      num_modes=10,\n",
    "                      energy_range=10,\n",
    "                      exhaustiveness=5,\n",
    "                      dock_bin='smina')"
   ]
  },
  {
   "cell_type": "code",
   "execution_count": 15,
   "id": "8fed5ec2-6c9d-41d5-895c-90259c48e3bc",
   "metadata": {},
   "outputs": [
    {
     "name": "stderr",
     "output_type": "stream",
     "text": [
      "File name doesn't finish with .pdb read it as .pdb anyway\n"
     ]
    }
   ],
   "source": [
    "rmsd_list = test_dock.compute_dock_rmsd(test_dock.lig_pdbqt)"
   ]
  },
  {
   "cell_type": "code",
   "execution_count": 16,
   "id": "a2e2455d-8755-4ed6-9fc4-c33a6fadafb5",
   "metadata": {},
   "outputs": [
    {
     "data": {
      "text/plain": [
       "[np.float64(63.25280166662949),\n",
       " np.float64(62.48875116696428),\n",
       " np.float64(60.18796906992885),\n",
       " np.float64(62.57296083339534),\n",
       " np.float64(60.64761371987569),\n",
       " np.float64(73.03881856338856),\n",
       " np.float64(64.26406170346782),\n",
       " np.float64(60.20899009495374),\n",
       " np.float64(63.90912761896339),\n",
       " np.float64(72.9690844739476)]"
      ]
     },
     "execution_count": 16,
     "metadata": {},
     "output_type": "execute_result"
    }
   ],
   "source": [
    "rmsd_list"
   ]
  },
  {
   "cell_type": "code",
   "execution_count": 17,
   "id": "33615861-6b9e-49ae-b552-528ac1f5d15b",
   "metadata": {},
   "outputs": [
    {
     "data": {
      "application/vnd.jupyter.widget-view+json": {
       "model_id": "ae13fc8f6c99405fb35a9139036871f7",
       "version_major": 2,
       "version_minor": 0
      },
      "text/plain": [
       "NGLWidget(max_frame=9)"
      ]
     },
     "metadata": {},
     "output_type": "display_data"
    }
   ],
   "source": [
    "view_dock = test_dock.view_dock(ref_pdb=\"data/DENV2_RNA_Helicase_2_4A.pdb\")\n",
    "view_dock"
   ]
  },
  {
   "cell_type": "markdown",
   "id": "b291d9d8-0fd4-4e1d-929a-dda69e01fece",
   "metadata": {},
   "source": [
    "### Classical Computation Benchmark"
   ]
  },
  {
   "cell_type": "code",
   "execution_count": null,
   "id": "131862b2-5006-4dde-9379-19e8c5f019ad",
   "metadata": {},
   "outputs": [],
   "source": []
  },
  {
   "cell_type": "markdown",
   "id": "03c028d3-7301-4109-b573-37d5106e0265",
   "metadata": {},
   "source": [
    "### Quantum Computation Benchmark"
   ]
  },
  {
   "cell_type": "code",
   "execution_count": null,
   "id": "1333a489-7592-4a80-b1d6-ecd70593b16b",
   "metadata": {},
   "outputs": [],
   "source": []
  },
  {
   "cell_type": "code",
   "execution_count": 55,
   "id": "898fd57f-a673-41f6-a4aa-55fcb8074743",
   "metadata": {},
   "outputs": [],
   "source": [
    "from qiskit_nature.second_q.drivers import PySCFDriver\n",
    "from qiskit_nature.second_q.transformers import ActiveSpaceTransformer\n",
    "from qiskit_nature.second_q.mappers import JordanWignerMapper\n",
    "\n",
    "driver = PySCFDriver(atom=str_atoms, basis=\"sto3g\")\n",
    "problem = driver.run()\n",
    "\n",
    "# Reduce problem size\n",
    "transformer = ActiveSpaceTransformer(\n",
    "    num_electrons=2,\n",
    "    num_spatial_orbitals=2\n",
    ")\n",
    "problem = transformer.transform(problem)\n",
    "\n",
    "mapper = JordanWignerMapper()\n",
    "\n",
    "second_q_op = problem.second_q_ops()[0]\n",
    "qubit_op = mapper.map(second_q_op)\n",
    "# qubit_op = mapper.map(problem.hamiltonian)"
   ]
  },
  {
   "cell_type": "code",
   "execution_count": 56,
   "id": "09f6a0c6-0c86-4f01-8d08-548c09bc8960",
   "metadata": {},
   "outputs": [
    {
     "data": {
      "text/plain": [
       "SparsePauliOp(['IIII', 'IIIZ', 'IIZI', 'IIZZ', 'IZII', 'IZIZ', 'YYII', 'YYIZ', 'XXII', 'XXIZ', 'ZIII', 'ZIIZ', 'IIYY', 'IZYY', 'IIXX', 'IZXX', 'YYYY', 'XXYY', 'YYXX', 'XXXX', 'ZIYY', 'ZIXX', 'IZZI', 'YYZI', 'XXZI', 'ZIZI', 'ZZII'],\n",
       "              coeffs=[-0.61514706+0.j,  0.03117762+0.j,  0.0554125 +0.j,  0.06316887+0.j,\n",
       "  0.03117762+0.j,  0.0772238 +0.j,  0.00783969+0.j,  0.00112066+0.j,\n",
       "  0.00783969+0.j,  0.00112066+0.j,  0.0554125 +0.j,  0.07418501+0.j,\n",
       "  0.00783969+0.j,  0.00112066+0.j,  0.00783969+0.j,  0.00112066+0.j,\n",
       "  0.01101614+0.j,  0.01101614+0.j,  0.01101614+0.j,  0.01101614+0.j,\n",
       " -0.00684096+0.j, -0.00684096+0.j,  0.07418501+0.j, -0.00684096+0.j,\n",
       " -0.00684096+0.j,  0.09003528+0.j,  0.06316887+0.j])"
      ]
     },
     "execution_count": 56,
     "metadata": {},
     "output_type": "execute_result"
    }
   ],
   "source": [
    "qubit_op"
   ]
  },
  {
   "cell_type": "code",
   "execution_count": null,
   "id": "fdf9d7c5-8153-4805-b06c-a48dda6e342a",
   "metadata": {},
   "outputs": [],
   "source": []
  }
 ],
 "metadata": {
  "kernelspec": {
   "display_name": "Python 3 (ipykernel)",
   "language": "python",
   "name": "python3"
  },
  "language_info": {
   "codemirror_mode": {
    "name": "ipython",
    "version": 3
   },
   "file_extension": ".py",
   "mimetype": "text/x-python",
   "name": "python",
   "nbconvert_exporter": "python",
   "pygments_lexer": "ipython3",
   "version": "3.13.5"
  }
 },
 "nbformat": 4,
 "nbformat_minor": 5
}
